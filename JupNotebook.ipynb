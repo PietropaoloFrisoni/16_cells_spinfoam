{
 "cells": [
  {
   "cell_type": "code",
   "execution_count": 1,
   "id": "8c63d6ac-a6e2-443e-a3a8-b67791d22399",
   "metadata": {},
   "outputs": [],
   "source": [
    "import spinfoam as sf"
   ]
  },
  {
   "cell_type": "code",
   "execution_count": 2,
   "id": "367bbbac-1170-4c2d-a690-e5660dde5be5",
   "metadata": {},
   "outputs": [
    {
     "name": "stdout",
     "output_type": "stream",
     "text": [
      "rm -rf obj\n",
      "rm -rf lib\n",
      "rm -rf bin\n"
     ]
    }
   ],
   "source": [
    "sf.spinfoam_clean()"
   ]
  },
  {
   "cell_type": "code",
   "execution_count": 3,
   "id": "c7c4265f-449d-41bd-850a-b07c215ec63e",
   "metadata": {},
   "outputs": [
    {
     "name": "stdout",
     "output_type": "stream",
     "text": [
      "   CXX    obj/mcmc.o\n",
      "mkdir -p obj/\n",
      "g++  -std=c++17 -fopenmp -O3 -fPIC -march=native -fno-math-errno -Iext/wigxjpf/inc -Iext/fastwigxj/inc -Isrc -Iinc/ -Iext/parallel_hashmap -DDEBUG_OFF=1  -c -o obj/mcmc.o src/mcmc.cpp \n",
      "   CXX    obj/hash_21j_symbols.o\n",
      "mkdir -p obj/\n",
      "g++  -std=c++17 -fopenmp -O3 -fPIC -march=native -fno-math-errno -Iext/wigxjpf/inc -Iext/fastwigxj/inc -Isrc -Iinc/ -Iext/parallel_hashmap -DDEBUG_OFF=1  -c -o obj/hash_21j_symbols.o src/hash_21j_symbols.cpp \n",
      "   CXX    obj/python_mirror.o\n",
      "mkdir -p obj/\n",
      "g++  -std=c++17 -fopenmp -O3 -fPIC -march=native -fno-math-errno -Iext/wigxjpf/inc -Iext/fastwigxj/inc -Isrc -Iinc/ -Iext/parallel_hashmap -DDEBUG_OFF=1  -c -o obj/python_mirror.o src/python_mirror.cpp \n",
      "   CXX    lib/libspinfoam.so\n",
      "mkdir -p lib/\n",
      "g++  -shared obj/mcmc.o obj/hash_21j_symbols.o obj/python_mirror.o -o lib/libspinfoam.so -std=c++17 -fopenmp -O3 -fPIC -march=native -fno-math-errno -Iext/wigxjpf/inc -Iext/fastwigxj/inc -Isrc -Iinc/ -Iext/parallel_hashmap -DDEBUG_OFF=1  -Lext/wigxjpf/lib/ -Lext/fastwigxj/lib/ -Wl,--no-as-needed -Wl,--allow-shlib-undefined -ldl -lgsl -lgslcblas -lwigxjpf -lfastwigxj -lm -lwigxjpf_quadmath -lquadmath \n",
      "   CXX    bin/test_jsymbols\n",
      "mkdir -p bin/\n",
      "g++  -std=c++17 -fopenmp -O3 -fPIC -march=native -fno-math-errno -Iext/wigxjpf/inc -Iext/fastwigxj/inc -Isrc -Iinc/ -Iext/parallel_hashmap -DDEBUG_OFF=1  -o bin/test_jsymbols -Iinc/ test/test_jsymbols.cpp -Llib/ -std=c++17 -fopenmp -O3 -fPIC -march=native -fno-math-errno -Iext/wigxjpf/inc -Iext/fastwigxj/inc -Isrc -Iinc/ -Iext/parallel_hashmap -DDEBUG_OFF=1  -Lext/wigxjpf/lib/ -Lext/fastwigxj/lib/ -Wl,--no-as-needed -Wl,--allow-shlib-undefined -lspinfoam -ldl -lgsl -lgslcblas -lwigxjpf -lfastwigxj -lm -lwigxjpf_quadmath -lquadmath\t\n",
      "   CXX    bin/test_sampler\n",
      "mkdir -p bin/\n",
      "g++  -std=c++17 -fopenmp -O3 -fPIC -march=native -fno-math-errno -Iext/wigxjpf/inc -Iext/fastwigxj/inc -Isrc -Iinc/ -Iext/parallel_hashmap -DDEBUG_OFF=1  -o bin/test_sampler -Iinc/ test/test_sampler.cpp -Llib/ -std=c++17 -fopenmp -O3 -fPIC -march=native -fno-math-errno -Iext/wigxjpf/inc -Iext/fastwigxj/inc -Isrc -Iinc/ -Iext/parallel_hashmap -DDEBUG_OFF=1  -Lext/wigxjpf/lib/ -Lext/fastwigxj/lib/ -Wl,--no-as-needed -Wl,--allow-shlib-undefined -lspinfoam -ldl -lgsl -lgslcblas -lwigxjpf -lfastwigxj -lm -lwigxjpf_quadmath -lquadmath\t\n",
      "   CXX    bin/Hashing_21j\n",
      "mkdir -p bin/\n",
      "g++  -std=c++17 -fopenmp -O3 -fPIC -march=native -fno-math-errno -Iext/wigxjpf/inc -Iext/fastwigxj/inc -Isrc -Iinc/ -Iext/parallel_hashmap -DDEBUG_OFF=1  -o bin/Hashing_21j -Iinc/ test/Hashing_21j.cpp -Llib/ -std=c++17 -fopenmp -O3 -fPIC -march=native -fno-math-errno -Iext/wigxjpf/inc -Iext/fastwigxj/inc -Isrc -Iinc/ -Iext/parallel_hashmap -DDEBUG_OFF=1  -Lext/wigxjpf/lib/ -Lext/fastwigxj/lib/ -Wl,--no-as-needed -Wl,--allow-shlib-undefined -lspinfoam -ldl -lgsl -lgslcblas -lwigxjpf -lfastwigxj -lm -lwigxjpf_quadmath -lquadmath\t\n"
     ]
    }
   ],
   "source": [
    "sf.spinfoam_compile()"
   ]
  },
  {
   "cell_type": "code",
   "execution_count": 4,
   "id": "a4b563be",
   "metadata": {},
   "outputs": [],
   "source": [
    "where_to_store_draws = \"./data_folder/collected_draws\"\n",
    "hash_tables_path = \"./data_folder/hashed_21j\""
   ]
  },
  {
   "cell_type": "code",
   "execution_count": null,
   "id": "36104e16",
   "metadata": {},
   "outputs": [],
   "source": [
    "sf.Hashing_21j_symbols(hash_tables_path, 2)"
   ]
  },
  {
   "cell_type": "code",
   "execution_count": 42,
   "id": "fe5dd0be-ecf5-435d-838f-85ff13fcd595",
   "metadata": {},
   "outputs": [
    {
     "name": "stdout",
     "output_type": "stream",
     "text": [
      "[                                                  ]                                                   ] 0█                                       ] 2█                            ] 44█                 ] 6█      ] 88█] 100%\n",
      "\n",
      "Chain completed.\n",
      "Time elapsed: 0.002392 seconds.\n",
      "80% of draws have been accepted\n"
     ]
    }
   ],
   "source": [
    "%%capture\n",
    "sf.Metropolis_Hastings_run(where_to_store_draws, 1.5, 10, 0.4, 10, 0)"
   ]
  },
  {
   "cell_type": "code",
   "execution_count": 33,
   "id": "a0efaf64-d818-4cf6-a37f-13585cc1fc77",
   "metadata": {},
   "outputs": [],
   "source": [
    "import threading\n",
    "from time import sleep"
   ]
  },
  {
   "cell_type": "code",
   "execution_count": 34,
   "id": "cae6535e",
   "metadata": {},
   "outputs": [],
   "source": [
    "def task(id):\n",
    "    print(f'Starting the task {id}...')\n",
    "    sleep(1)\n",
    "    print('done')"
   ]
  },
  {
   "cell_type": "code",
   "execution_count": 37,
   "id": "6ae4732b-aef6-41aa-95ee-44caf2da8d65",
   "metadata": {},
   "outputs": [
    {
     "name": "stdout",
     "output_type": "stream",
     "text": [
      "Starting the task 1...\n",
      "Starting the task 2...\n",
      "Starting the task 3...\n",
      "Starting the task 4...\n",
      "Starting the task 5...\n",
      "Starting the task 6...\n",
      "Starting the task 7...\n",
      "Starting the task 8...\n",
      "Starting the task 9...\n",
      "Starting the task 10...\n",
      "done\n",
      "done\n",
      "done\n",
      "done\n",
      "done\n",
      "done\n",
      "done\n",
      "done\n",
      "done\n",
      "done\n"
     ]
    }
   ],
   "source": [
    "threads = []\n",
    "\n",
    "for n in range(1, 11):\n",
    "    t = threading.Thread(target=task, args=(n,))\n",
    "    threads.append(t)\n",
    "    t.start()\n",
    "\n",
    "for t in threads:\n",
    "    t.join()    "
   ]
  },
  {
   "cell_type": "code",
   "execution_count": null,
   "id": "9ac72780-571c-47a4-805d-2ce1e7bfd02f",
   "metadata": {},
   "outputs": [],
   "source": []
  },
  {
   "cell_type": "code",
   "execution_count": null,
   "id": "a372ee6f-2f2c-44b3-8c8d-bf4a742696dd",
   "metadata": {},
   "outputs": [],
   "source": [
    "from ctypes import *\n",
    "\n",
    "so_file = \"/home/frisus95/Scrivania/Final_project/lib/libshared.so\"\n",
    "my_functions = CDLL(so_file)"
   ]
  },
  {
   "cell_type": "code",
   "execution_count": 9,
   "id": "67005ced-c499-467e-a7ae-7c8c20dd764e",
   "metadata": {},
   "outputs": [
    {
     "name": "stdout",
     "output_type": "stream",
     "text": [
      "done. Time elapsed: 0.215507 seconds.\n",
      "33%% of draws have been accepted\n",
      "chain with dspin 1 destroyed\n"
     ]
    }
   ],
   "source": [
    "my_functions._Z6MH_runPcS_iidii(\n",
    "    b\"/home/frisus95/Scrivania/Final_project/data_folder\",\n",
    "    b\"/home/frisus95/Scrivania/Final_project/data_folder/hashed_21j\", 1,\n",
    "    100000, c_double(0.4), 10, 0)\n"
   ]
  },
  {
   "cell_type": "code",
   "execution_count": 28,
   "id": "d9158c9f-f9e9-4280-90f4-6a3b3216617d",
   "metadata": {},
   "outputs": [
    {
     "name": "stdout",
     "output_type": "stream",
     "text": [
      "done. Time elapsed: 0.002927 seconds.\n",
      "39%% of draws have been accepted\n"
     ]
    },
    {
     "data": {
      "text/plain": [
       "0"
      ]
     },
     "execution_count": 28,
     "metadata": {},
     "output_type": "execute_result"
    },
    {
     "name": "stdout",
     "output_type": "stream",
     "text": [
      "chain with dspin 2 destroyed\n"
     ]
    }
   ],
   "source": [
    "my_functions._Z5funzav(c_double(3.14))\n"
   ]
  },
  {
   "cell_type": "code",
   "execution_count": 22,
   "id": "716f1967-2aac-4148-80d9-9a82a4549a5b",
   "metadata": {},
   "outputs": [],
   "source": [
    "# Import packages\n",
    "import os\n",
    "\n",
    "import matplotlib.pyplot as plt\n",
    "import pandas as pd"
   ]
  },
  {
   "cell_type": "code",
   "execution_count": 15,
   "id": "c30302db",
   "metadata": {},
   "outputs": [],
   "source": [
    "df = pd.read_csv(\n",
    "    \"/home/frisus95/Scrivania/Final_project/data_folder/collected_draws/j_1/N_1000000__sigma_0.4__burnin_100.csv\"\n",
    ")\n"
   ]
  },
  {
   "cell_type": "code",
   "execution_count": 16,
   "id": "9f76f66d",
   "metadata": {},
   "outputs": [
    {
     "data": {
      "text/html": [
       "<div>\n",
       "<style scoped>\n",
       "    .dataframe tbody tr th:only-of-type {\n",
       "        vertical-align: middle;\n",
       "    }\n",
       "\n",
       "    .dataframe tbody tr th {\n",
       "        vertical-align: top;\n",
       "    }\n",
       "\n",
       "    .dataframe thead th {\n",
       "        text-align: right;\n",
       "    }\n",
       "</style>\n",
       "<table border=\"1\" class=\"dataframe\">\n",
       "  <thead>\n",
       "    <tr style=\"text-align: right;\">\n",
       "      <th></th>\n",
       "      <th>intertwiner 1</th>\n",
       "      <th>intertwiner 2</th>\n",
       "      <th>intertwiner 3</th>\n",
       "      <th>intertwiner 4</th>\n",
       "      <th>intertwiner 5</th>\n",
       "      <th>intertwiner 6</th>\n",
       "      <th>intertwiner 7</th>\n",
       "      <th>intertwiner 8</th>\n",
       "      <th>intertwiner 9</th>\n",
       "      <th>intertwiner 10</th>\n",
       "      <th>intertwiner 11</th>\n",
       "      <th>intertwiner 12</th>\n",
       "      <th>intertwiner 13</th>\n",
       "      <th>intertwiner 14</th>\n",
       "      <th>intertwiner 15</th>\n",
       "      <th>intertwiner 16</th>\n",
       "      <th>draw molteplicity</th>\n",
       "      <th>draw amplitude</th>\n",
       "    </tr>\n",
       "  </thead>\n",
       "  <tbody>\n",
       "    <tr>\n",
       "      <th>0</th>\n",
       "      <td>2</td>\n",
       "      <td>0</td>\n",
       "      <td>2</td>\n",
       "      <td>2</td>\n",
       "      <td>1</td>\n",
       "      <td>0</td>\n",
       "      <td>1</td>\n",
       "      <td>0</td>\n",
       "      <td>2</td>\n",
       "      <td>2</td>\n",
       "      <td>0</td>\n",
       "      <td>1</td>\n",
       "      <td>0</td>\n",
       "      <td>2</td>\n",
       "      <td>0</td>\n",
       "      <td>1</td>\n",
       "      <td>4</td>\n",
       "      <td>-2.063960e-07</td>\n",
       "    </tr>\n",
       "    <tr>\n",
       "      <th>1</th>\n",
       "      <td>2</td>\n",
       "      <td>0</td>\n",
       "      <td>2</td>\n",
       "      <td>2</td>\n",
       "      <td>1</td>\n",
       "      <td>0</td>\n",
       "      <td>1</td>\n",
       "      <td>0</td>\n",
       "      <td>2</td>\n",
       "      <td>1</td>\n",
       "      <td>0</td>\n",
       "      <td>1</td>\n",
       "      <td>0</td>\n",
       "      <td>2</td>\n",
       "      <td>0</td>\n",
       "      <td>2</td>\n",
       "      <td>3</td>\n",
       "      <td>1.831690e-07</td>\n",
       "    </tr>\n",
       "    <tr>\n",
       "      <th>2</th>\n",
       "      <td>1</td>\n",
       "      <td>0</td>\n",
       "      <td>2</td>\n",
       "      <td>2</td>\n",
       "      <td>0</td>\n",
       "      <td>0</td>\n",
       "      <td>1</td>\n",
       "      <td>0</td>\n",
       "      <td>2</td>\n",
       "      <td>0</td>\n",
       "      <td>0</td>\n",
       "      <td>1</td>\n",
       "      <td>1</td>\n",
       "      <td>2</td>\n",
       "      <td>0</td>\n",
       "      <td>2</td>\n",
       "      <td>1</td>\n",
       "      <td>-2.307580e-07</td>\n",
       "    </tr>\n",
       "    <tr>\n",
       "      <th>3</th>\n",
       "      <td>1</td>\n",
       "      <td>0</td>\n",
       "      <td>2</td>\n",
       "      <td>2</td>\n",
       "      <td>1</td>\n",
       "      <td>0</td>\n",
       "      <td>1</td>\n",
       "      <td>1</td>\n",
       "      <td>2</td>\n",
       "      <td>0</td>\n",
       "      <td>0</td>\n",
       "      <td>2</td>\n",
       "      <td>1</td>\n",
       "      <td>2</td>\n",
       "      <td>0</td>\n",
       "      <td>2</td>\n",
       "      <td>5</td>\n",
       "      <td>1.127080e-06</td>\n",
       "    </tr>\n",
       "    <tr>\n",
       "      <th>4</th>\n",
       "      <td>1</td>\n",
       "      <td>0</td>\n",
       "      <td>2</td>\n",
       "      <td>2</td>\n",
       "      <td>0</td>\n",
       "      <td>0</td>\n",
       "      <td>1</td>\n",
       "      <td>1</td>\n",
       "      <td>2</td>\n",
       "      <td>0</td>\n",
       "      <td>0</td>\n",
       "      <td>2</td>\n",
       "      <td>1</td>\n",
       "      <td>2</td>\n",
       "      <td>0</td>\n",
       "      <td>2</td>\n",
       "      <td>2</td>\n",
       "      <td>1.047860e-06</td>\n",
       "    </tr>\n",
       "    <tr>\n",
       "      <th>...</th>\n",
       "      <td>...</td>\n",
       "      <td>...</td>\n",
       "      <td>...</td>\n",
       "      <td>...</td>\n",
       "      <td>...</td>\n",
       "      <td>...</td>\n",
       "      <td>...</td>\n",
       "      <td>...</td>\n",
       "      <td>...</td>\n",
       "      <td>...</td>\n",
       "      <td>...</td>\n",
       "      <td>...</td>\n",
       "      <td>...</td>\n",
       "      <td>...</td>\n",
       "      <td>...</td>\n",
       "      <td>...</td>\n",
       "      <td>...</td>\n",
       "      <td>...</td>\n",
       "    </tr>\n",
       "    <tr>\n",
       "      <th>201124</th>\n",
       "      <td>2</td>\n",
       "      <td>1</td>\n",
       "      <td>2</td>\n",
       "      <td>1</td>\n",
       "      <td>1</td>\n",
       "      <td>0</td>\n",
       "      <td>1</td>\n",
       "      <td>2</td>\n",
       "      <td>0</td>\n",
       "      <td>0</td>\n",
       "      <td>2</td>\n",
       "      <td>0</td>\n",
       "      <td>0</td>\n",
       "      <td>0</td>\n",
       "      <td>2</td>\n",
       "      <td>2</td>\n",
       "      <td>3</td>\n",
       "      <td>-1.070200e-07</td>\n",
       "    </tr>\n",
       "    <tr>\n",
       "      <th>201125</th>\n",
       "      <td>2</td>\n",
       "      <td>1</td>\n",
       "      <td>1</td>\n",
       "      <td>1</td>\n",
       "      <td>1</td>\n",
       "      <td>0</td>\n",
       "      <td>1</td>\n",
       "      <td>2</td>\n",
       "      <td>0</td>\n",
       "      <td>1</td>\n",
       "      <td>2</td>\n",
       "      <td>0</td>\n",
       "      <td>0</td>\n",
       "      <td>0</td>\n",
       "      <td>2</td>\n",
       "      <td>2</td>\n",
       "      <td>1</td>\n",
       "      <td>4.141810e-08</td>\n",
       "    </tr>\n",
       "    <tr>\n",
       "      <th>201126</th>\n",
       "      <td>2</td>\n",
       "      <td>2</td>\n",
       "      <td>1</td>\n",
       "      <td>2</td>\n",
       "      <td>0</td>\n",
       "      <td>1</td>\n",
       "      <td>1</td>\n",
       "      <td>2</td>\n",
       "      <td>0</td>\n",
       "      <td>1</td>\n",
       "      <td>2</td>\n",
       "      <td>1</td>\n",
       "      <td>1</td>\n",
       "      <td>0</td>\n",
       "      <td>2</td>\n",
       "      <td>2</td>\n",
       "      <td>8</td>\n",
       "      <td>1.672260e-07</td>\n",
       "    </tr>\n",
       "    <tr>\n",
       "      <th>201127</th>\n",
       "      <td>2</td>\n",
       "      <td>2</td>\n",
       "      <td>1</td>\n",
       "      <td>2</td>\n",
       "      <td>0</td>\n",
       "      <td>1</td>\n",
       "      <td>0</td>\n",
       "      <td>2</td>\n",
       "      <td>0</td>\n",
       "      <td>1</td>\n",
       "      <td>2</td>\n",
       "      <td>1</td>\n",
       "      <td>1</td>\n",
       "      <td>1</td>\n",
       "      <td>1</td>\n",
       "      <td>2</td>\n",
       "      <td>2</td>\n",
       "      <td>-2.038570e-07</td>\n",
       "    </tr>\n",
       "    <tr>\n",
       "      <th>201128</th>\n",
       "      <td>2</td>\n",
       "      <td>2</td>\n",
       "      <td>1</td>\n",
       "      <td>2</td>\n",
       "      <td>0</td>\n",
       "      <td>0</td>\n",
       "      <td>0</td>\n",
       "      <td>2</td>\n",
       "      <td>0</td>\n",
       "      <td>1</td>\n",
       "      <td>1</td>\n",
       "      <td>1</td>\n",
       "      <td>1</td>\n",
       "      <td>1</td>\n",
       "      <td>2</td>\n",
       "      <td>2</td>\n",
       "      <td>2</td>\n",
       "      <td>-3.002230e-07</td>\n",
       "    </tr>\n",
       "  </tbody>\n",
       "</table>\n",
       "<p>201129 rows × 18 columns</p>\n",
       "</div>"
      ],
      "text/plain": [
       "        intertwiner 1  intertwiner 2  intertwiner 3  intertwiner 4  \\\n",
       "0                   2              0              2              2   \n",
       "1                   2              0              2              2   \n",
       "2                   1              0              2              2   \n",
       "3                   1              0              2              2   \n",
       "4                   1              0              2              2   \n",
       "...               ...            ...            ...            ...   \n",
       "201124              2              1              2              1   \n",
       "201125              2              1              1              1   \n",
       "201126              2              2              1              2   \n",
       "201127              2              2              1              2   \n",
       "201128              2              2              1              2   \n",
       "\n",
       "        intertwiner 5  intertwiner 6  intertwiner 7  intertwiner 8  \\\n",
       "0                   1              0              1              0   \n",
       "1                   1              0              1              0   \n",
       "2                   0              0              1              0   \n",
       "3                   1              0              1              1   \n",
       "4                   0              0              1              1   \n",
       "...               ...            ...            ...            ...   \n",
       "201124              1              0              1              2   \n",
       "201125              1              0              1              2   \n",
       "201126              0              1              1              2   \n",
       "201127              0              1              0              2   \n",
       "201128              0              0              0              2   \n",
       "\n",
       "        intertwiner 9  intertwiner 10  intertwiner 11  intertwiner 12  \\\n",
       "0                   2               2               0               1   \n",
       "1                   2               1               0               1   \n",
       "2                   2               0               0               1   \n",
       "3                   2               0               0               2   \n",
       "4                   2               0               0               2   \n",
       "...               ...             ...             ...             ...   \n",
       "201124              0               0               2               0   \n",
       "201125              0               1               2               0   \n",
       "201126              0               1               2               1   \n",
       "201127              0               1               2               1   \n",
       "201128              0               1               1               1   \n",
       "\n",
       "        intertwiner 13  intertwiner 14  intertwiner 15  intertwiner 16  \\\n",
       "0                    0               2               0               1   \n",
       "1                    0               2               0               2   \n",
       "2                    1               2               0               2   \n",
       "3                    1               2               0               2   \n",
       "4                    1               2               0               2   \n",
       "...                ...             ...             ...             ...   \n",
       "201124               0               0               2               2   \n",
       "201125               0               0               2               2   \n",
       "201126               1               0               2               2   \n",
       "201127               1               1               1               2   \n",
       "201128               1               1               2               2   \n",
       "\n",
       "        draw molteplicity   draw amplitude  \n",
       "0                        4   -2.063960e-07  \n",
       "1                        3    1.831690e-07  \n",
       "2                        1   -2.307580e-07  \n",
       "3                        5    1.127080e-06  \n",
       "4                        2    1.047860e-06  \n",
       "...                    ...             ...  \n",
       "201124                   3   -1.070200e-07  \n",
       "201125                   1    4.141810e-08  \n",
       "201126                   8    1.672260e-07  \n",
       "201127                   2   -2.038570e-07  \n",
       "201128                   2   -3.002230e-07  \n",
       "\n",
       "[201129 rows x 18 columns]"
      ]
     },
     "execution_count": 16,
     "metadata": {},
     "output_type": "execute_result"
    }
   ],
   "source": [
    "df"
   ]
  },
  {
   "cell_type": "code",
   "execution_count": null,
   "id": "7bfd1de3",
   "metadata": {},
   "outputs": [],
   "source": [
    "for i, j in df.iterrows():\n",
    "    print(i, j)\n",
    "    print()"
   ]
  },
  {
   "cell_type": "code",
   "execution_count": 17,
   "id": "cf65ec84-297c-46db-8c2c-7950c15facc0",
   "metadata": {},
   "outputs": [],
   "source": [
    "total_rows = len(df)"
   ]
  },
  {
   "cell_type": "code",
   "execution_count": 18,
   "id": "6224d83d",
   "metadata": {},
   "outputs": [],
   "source": [
    "columns = list(df)"
   ]
  },
  {
   "cell_type": "code",
   "execution_count": 19,
   "id": "7804c234",
   "metadata": {},
   "outputs": [
    {
     "data": {
      "text/plain": [
       "['intertwiner 1',\n",
       " 'intertwiner 2',\n",
       " 'intertwiner 3',\n",
       " 'intertwiner 4',\n",
       " 'intertwiner 5',\n",
       " 'intertwiner 6',\n",
       " 'intertwiner 7',\n",
       " 'intertwiner 8',\n",
       " 'intertwiner 9',\n",
       " 'intertwiner 10',\n",
       " 'intertwiner 11',\n",
       " 'intertwiner 12',\n",
       " 'intertwiner 13',\n",
       " 'intertwiner 14',\n",
       " 'intertwiner 15',\n",
       " 'intertwiner 16',\n",
       " 'draw molteplicity ',\n",
       " 'draw amplitude']"
      ]
     },
     "execution_count": 19,
     "metadata": {},
     "output_type": "execute_result"
    }
   ],
   "source": [
    "columns"
   ]
  },
  {
   "cell_type": "code",
   "execution_count": 20,
   "id": "08d4f8c1-9674-4ee3-98ad-0790d5080528",
   "metadata": {},
   "outputs": [
    {
     "name": "stdout",
     "output_type": "stream",
     "text": [
      "2\n",
      "0\n",
      "2\n",
      "2\n",
      "1\n",
      "0\n",
      "1\n",
      "0\n",
      "2\n",
      "1\n",
      "0\n",
      "1\n",
      "0\n",
      "2\n",
      "0\n",
      "2\n",
      "3\n",
      "1.83169e-07\n"
     ]
    }
   ],
   "source": [
    "for i in columns:\n",
    "\n",
    "    # printing the third element of the column\n",
    "    print(df[i][1])\n"
   ]
  },
  {
   "cell_type": "code",
   "execution_count": 21,
   "id": "686b8d47-5681-40dd-8216-63d0f0c3f3b2",
   "metadata": {},
   "outputs": [
    {
     "data": {
      "text/plain": [
       "0"
      ]
     },
     "execution_count": 21,
     "metadata": {},
     "output_type": "execute_result"
    }
   ],
   "source": [
    "df['intertwiner 1'][100]"
   ]
  },
  {
   "cell_type": "code",
   "execution_count": 24,
   "id": "154af811-098a-4835-94f5-c01849ac0eb5",
   "metadata": {},
   "outputs": [],
   "source": [
    "angle = 0.0\n",
    "\n",
    "for i in range(total_rows):\n",
    "    angle += (((df['intertwiner 1'][i]) *\n",
    "               (df['intertwiner 1'][i] + 1) - 2 * 1 * (1 + 1)) /\n",
    "              (2 * 1 * (1 + 1))) * df['draw molteplicity '][i]\n"
   ]
  },
  {
   "cell_type": "code",
   "execution_count": 25,
   "id": "a6235d02-1657-42b0-b554-ec8f6c4823d7",
   "metadata": {},
   "outputs": [
    {
     "data": {
      "text/plain": [
       "-0.3313526352635264"
      ]
     },
     "execution_count": 25,
     "metadata": {},
     "output_type": "execute_result"
    }
   ],
   "source": [
    "angle / (1000000 - 100)\n"
   ]
  },
  {
   "cell_type": "code",
   "execution_count": null,
   "id": "f93c6689-c307-488c-aba9-20cefb4fb53d",
   "metadata": {},
   "outputs": [],
   "source": []
  }
 ],
 "metadata": {
  "kernelspec": {
   "display_name": "Python 3 (ipykernel)",
   "language": "python",
   "name": "python3"
  },
  "language_info": {
   "codemirror_mode": {
    "name": "ipython",
    "version": 3
   },
   "file_extension": ".py",
   "mimetype": "text/x-python",
   "name": "python",
   "nbconvert_exporter": "python",
   "pygments_lexer": "ipython3",
   "version": "3.9.7"
  }
 },
 "nbformat": 4,
 "nbformat_minor": 5
}
