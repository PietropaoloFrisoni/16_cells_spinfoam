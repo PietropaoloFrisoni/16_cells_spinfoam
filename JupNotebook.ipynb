{
 "cells": [
  {
   "cell_type": "code",
   "execution_count": 6,
   "id": "8c63d6ac-a6e2-443e-a3a8-b67791d22399",
   "metadata": {},
   "outputs": [],
   "source": [
    "import spinfoam as sf\n",
    "import multiprocessing"
   ]
  },
  {
   "cell_type": "code",
   "execution_count": 7,
   "id": "367bbbac-1170-4c2d-a690-e5660dde5be5",
   "metadata": {},
   "outputs": [
    {
     "name": "stdout",
     "output_type": "stream",
     "text": [
      "rm -rf obj\n",
      "rm -rf lib\n",
      "rm -rf bin\n"
     ]
    }
   ],
   "source": [
    "sf.spinfoam_clean()"
   ]
  },
  {
   "cell_type": "code",
   "execution_count": 2,
   "id": "c7c4265f-449d-41bd-850a-b07c215ec63e",
   "metadata": {},
   "outputs": [
    {
     "name": "stdout",
     "output_type": "stream",
     "text": [
      "make: Nessuna operazione da eseguire per «default».\n"
     ]
    }
   ],
   "source": [
    "sf.spinfoam_compile()"
   ]
  },
  {
   "cell_type": "code",
   "execution_count": 10,
   "id": "a4b563be",
   "metadata": {},
   "outputs": [],
   "source": [
    "draws_path = \"./data_folder/collected_draws\"\n",
    "hash_tables_path = \"./data_folder/hashed_21j\"\n",
    "spin = 0.5\n",
    "length = 1000000 \n",
    "sigma = 0.4\n",
    "burnin = 50 \n",
    "verbosity = 0 \n",
    "number_of_threads = int(multiprocessing.cpu_count()/2)"
   ]
  },
  {
   "cell_type": "code",
   "execution_count": 4,
   "id": "74ff8700-b4ec-4e8b-89bc-84f40e555a90",
   "metadata": {},
   "outputs": [
    {
     "data": {
      "text/plain": [
       "6"
      ]
     },
     "execution_count": 4,
     "metadata": {},
     "output_type": "execute_result"
    }
   ],
   "source": [
    "number_of_threads"
   ]
  },
  {
   "cell_type": "code",
   "execution_count": 12,
   "id": "49c0c40b-5cdd-49e2-b06a-0423f5d731c9",
   "metadata": {},
   "outputs": [
    {
     "name": "stdout",
     "output_type": "stream",
     "text": [
      "Starting run from thread 1...\n",
      "Starting run from thread 2...\n",
      "Starting run from thread 3...\n",
      "Starting run from thread 4...\n",
      "Starting run from thread 5...\n",
      "Starting run from thread 6...\n",
      "All threads completed the run...\n"
     ]
    }
   ],
   "source": [
    "sf.Metropolis_Hastings_multithread_run(draws_path, spin, length, sigma, burnin, verbosity, number_of_threads)"
   ]
  },
  {
   "cell_type": "code",
   "execution_count": null,
   "id": "3f78ac53-7f69-49d9-b4f3-7aec8cfa43b7",
   "metadata": {},
   "outputs": [],
   "source": []
  },
  {
   "cell_type": "code",
   "execution_count": null,
   "id": "7bc7f821-98b6-406a-85d8-8989bf1a4f17",
   "metadata": {},
   "outputs": [],
   "source": []
  },
  {
   "cell_type": "code",
   "execution_count": null,
   "id": "8749fee0-68cd-4847-9ce4-dbcd042821b8",
   "metadata": {},
   "outputs": [],
   "source": []
  },
  {
   "cell_type": "code",
   "execution_count": 16,
   "id": "a97c134c-a2c2-45c1-9c69-1764b3bd2f5e",
   "metadata": {},
   "outputs": [],
   "source": [
    "import matplotlib.pyplot as plt\n",
    "import seaborn as sns\n",
    "from matplotlib import rc\n",
    "import pandas as pd\n",
    "\n",
    "\n",
    "sns.set()\n",
    "sns.set_context(\"paper\", font_scale=1.5, rc={\"lines.linewidth\": 2.0})\n",
    "\n",
    "#---- This allows the use of LaTeX + the use sans-serif fonts also for tick labels:\n",
    "\n",
    "rc('text', usetex=True)\n",
    "#rc('text.latex', preamble=r'\\usepackage{cmbright}')\n",
    "\n",
    "# There are 5 presents for background: darkgrid, whitegrid, dark, white, and ticks\n",
    "# Define how ticks are placed and define font families\n",
    "\n",
    "sns.set_style(\"ticks\")\n",
    "sns.set_style(\"whitegrid\", \n",
    " {'axes.edgecolor': 'black',\n",
    " 'axes.grid': True,\n",
    " 'axes.axisbelow': True,\n",
    " 'axes.labelcolor': '.15',\n",
    " 'grid.color': '0.9',\n",
    " 'grid.linestyle': '-',\n",
    " 'xtick.direction': 'in', \n",
    " 'ytick.direction': 'in',\n",
    " 'xtick.bottom': True,\n",
    " 'xtick.top': True,\n",
    " 'ytick.left': True,\n",
    " 'ytick.right': True, \n",
    " 'font.family': ['sans-serif'],\n",
    " 'font.sans-serif': [\n",
    "  'Liberation Sans',\n",
    "  'Bitstream Vera Sans',\n",
    "  'sans-serif'],})"
   ]
  },
  {
   "cell_type": "code",
   "execution_count": 17,
   "id": "0062c15b-e02d-4974-bc63-c01d965c6c75",
   "metadata": {},
   "outputs": [],
   "source": [
    "size_hash_tables_in_MB = [12.8e-03, 409.5e-03, 6.55, 52.42, 209.71, 838.86, 3.35e+03, 6.71e+03]\n",
    "\n",
    "corresponding_spin = [0.5, 1, 1.5, 2, 2.5, 3, 3.5, 4]\n",
    "\n",
    "df = pd.DataFrame({\n",
    "   \"size\" : size_hash_tables_in_MB,\n",
    "   \"spin\" : corresponding_spin,\n",
    "    })"
   ]
  },
  {
   "cell_type": "code",
   "execution_count": 42,
   "id": "b3584db2-3c71-4c76-b1a7-c92868c860dc",
   "metadata": {},
   "outputs": [
    {
     "data": {
      "text/plain": [
       "0    0.5\n",
       "1    1.0\n",
       "2    1.5\n",
       "3    2.0\n",
       "4    2.5\n",
       "5    3.0\n",
       "6    3.5\n",
       "7    4.0\n",
       "Name: spin, dtype: float64"
      ]
     },
     "execution_count": 42,
     "metadata": {},
     "output_type": "execute_result"
    }
   ],
   "source": [
    "df.spin"
   ]
  },
  {
   "cell_type": "code",
   "execution_count": 10,
   "id": "945da9b3-b3f3-4a5a-b36c-881ebdfdf6e5",
   "metadata": {},
   "outputs": [
    {
     "data": {
      "text/plain": [
       "[0.0128, 0.4095, 6.55, 52.42, 209.71, 838.86, 3350.0, 6710.0]"
      ]
     },
     "execution_count": 10,
     "metadata": {},
     "output_type": "execute_result"
    }
   ],
   "source": [
    "size_hash_tables_in_MB"
   ]
  },
  {
   "cell_type": "code",
   "execution_count": 45,
   "id": "78edd7ba-424e-473b-9fc8-00d75bd19cc0",
   "metadata": {},
   "outputs": [
    {
     "data": {
      "text/plain": [
       "Text(0.5, 1.0, 'Hash table size')"
      ]
     },
     "execution_count": 45,
     "metadata": {},
     "output_type": "execute_result"
    },
    {
     "data": {
      "image/png": "[encoded data removed]",
      "text/plain": [
       "<Figure size 1008x576 with 1 Axes>"
      ]
     },
     "metadata": {},
     "output_type": "display_data"
    }
   ],
   "source": [
    "ax = df.plot(x='spin',y='size', s=30, xticks = df.spin, \n",
    "             kind='scatter', grid='false', color='tab:blue', \n",
    "             logy=True, logx=True, figsize=(14,8))\n",
    "\n",
    "plt.ylabel(\"size (MB)\")\n",
    "plt.xlabel(\"boundary spin ($ j $)\")\n",
    "#plt.legend(loc='upper left')\n",
    "\n",
    "plt.title('Hash table size')"
   ]
  },
  {
   "cell_type": "code",
   "execution_count": 75,
   "id": "7ebb5591-411a-4a07-bc50-d5a4f5e42e7d",
   "metadata": {},
   "outputs": [],
   "source": [
    "import numpy as np\n",
    "logx = np.log(corresponding_spin)\n",
    "logy = np.log(size_hash_tables_in_MB)\n",
    "coeffs = np.polyfit(logx,logy,1)\n",
    "poly = np.poly1d(coeffs)"
   ]
  },
  {
   "cell_type": "code",
   "execution_count": 76,
   "id": "0ad1f035-6fc4-42e8-84a5-066d314100e9",
   "metadata": {},
   "outputs": [],
   "source": [
    "yfit = lambda corresponding_spin: np.exp(poly(np.log(corresponding_spin)))"
   ]
  },
  {
   "cell_type": "code",
   "execution_count": 77,
   "id": "8f4abe1f-3010-449f-bf39-a41f4e1eb9dd",
   "metadata": {},
   "outputs": [
    {
     "data": {
      "text/plain": [
       "[<matplotlib.lines.Line2D at 0x7f820d46a100>]"
      ]
     },
     "execution_count": 77,
     "metadata": {},
     "output_type": "execute_result"
    },
    {
     "data": {
      "image/png": "[encoded data removed]",
      "text/plain": [
       "<Figure size 432x288 with 1 Axes>"
      ]
     },
     "metadata": {},
     "output_type": "display_data"
    }
   ],
   "source": [
    "plt.loglog(corresponding_spin, yfit(corresponding_spin))"
   ]
  },
  {
   "cell_type": "code",
   "execution_count": 78,
   "id": "0e096598-3068-4d25-a256-681a8ca33bf8",
   "metadata": {},
   "outputs": [
    {
     "data": {
      "text/plain": [
       "[<matplotlib.lines.Line2D at 0x7f820d2a0ac0>]"
      ]
     },
     "execution_count": 78,
     "metadata": {},
     "output_type": "execute_result"
    },
    {
     "data": {
      "image/png": "[encoded data removed]",
      "text/plain": [
       "<Figure size 432x288 with 1 Axes>"
      ]
     },
     "metadata": {},
     "output_type": "display_data"
    }
   ],
   "source": [
    "m, b = np. polyfit(logx, logy, 1) #m = slope, b = intercept.\n",
    "plt.plot(logx, logy, 'o') #create scatter plot.\n",
    "plt.plot(logx, m*logx + b) #add line of best fit."
   ]
  },
  {
   "cell_type": "code",
   "execution_count": null,
   "id": "8b2a179b-0aa5-4a5d-97c7-9890b2ef6839",
   "metadata": {},
   "outputs": [],
   "source": []
  },
  {
   "cell_type": "code",
   "execution_count": null,
   "id": "b0a286df-11d4-4876-98dd-c39ea20b3e35",
   "metadata": {},
   "outputs": [],
   "source": []
  },
  {
   "cell_type": "code",
   "execution_count": null,
   "id": "36104e16",
   "metadata": {},
   "outputs": [],
   "source": [
    "sf.Hashing_21j_symbols(hash_tables_path, 2)"
   ]
  },
  {
   "cell_type": "code",
   "execution_count": null,
   "id": "a0efaf64-d818-4cf6-a37f-13585cc1fc77",
   "metadata": {},
   "outputs": [],
   "source": [
    "import threading\n",
    "from time import sleep"
   ]
  },
  {
   "cell_type": "code",
   "execution_count": null,
   "id": "cae6535e",
   "metadata": {},
   "outputs": [],
   "source": [
    "def task(id):\n",
    "    print(f'Starting the task {id}...')\n",
    "    sleep(1)\n",
    "    print('done')"
   ]
  },
  {
   "cell_type": "code",
   "execution_count": 37,
   "id": "6ae4732b-aef6-41aa-95ee-44caf2da8d65",
   "metadata": {},
   "outputs": [
    {
     "name": "stdout",
     "output_type": "stream",
     "text": [
      "Starting the task 1...\n",
      "Starting the task 2...\n",
      "Starting the task 3...\n",
      "Starting the task 4...\n",
      "Starting the task 5...\n",
      "Starting the task 6...\n",
      "Starting the task 7...\n",
      "Starting the task 8...\n",
      "Starting the task 9...\n",
      "Starting the task 10...\n",
      "done\n",
      "done\n",
      "done\n",
      "done\n",
      "done\n",
      "done\n",
      "done\n",
      "done\n",
      "done\n",
      "done\n"
     ]
    }
   ],
   "source": [
    "threads = []\n",
    "\n",
    "for n in range(1, 11):\n",
    "    t = threading.Thread(target=task, args=(n,))\n",
    "    threads.append(t)\n",
    "    t.start()\n",
    "\n",
    "for t in threads:\n",
    "    t.join()    "
   ]
  },
  {
   "cell_type": "code",
   "execution_count": null,
   "id": "9ac72780-571c-47a4-805d-2ce1e7bfd02f",
   "metadata": {},
   "outputs": [],
   "source": []
  },
  {
   "cell_type": "code",
   "execution_count": null,
   "id": "a372ee6f-2f2c-44b3-8c8d-bf4a742696dd",
   "metadata": {},
   "outputs": [],
   "source": [
    "from ctypes import *\n",
    "\n",
    "so_file = \"/home/frisus95/Scrivania/Final_project/lib/libshared.so\"\n",
    "my_functions = CDLL(so_file)"
   ]
  },
  {
   "cell_type": "code",
   "execution_count": 9,
   "id": "67005ced-c499-467e-a7ae-7c8c20dd764e",
   "metadata": {},
   "outputs": [
    {
     "name": "stdout",
     "output_type": "stream",
     "text": [
      "done. Time elapsed: 0.215507 seconds.\n",
      "33%% of draws have been accepted\n",
      "chain with dspin 1 destroyed\n"
     ]
    }
   ],
   "source": [
    "my_functions._Z6MH_runPcS_iidii(\n",
    "    b\"/home/frisus95/Scrivania/Final_project/data_folder\",\n",
    "    b\"/home/frisus95/Scrivania/Final_project/data_folder/hashed_21j\", 1,\n",
    "    100000, c_double(0.4), 10, 0)\n"
   ]
  },
  {
   "cell_type": "code",
   "execution_count": 28,
   "id": "d9158c9f-f9e9-4280-90f4-6a3b3216617d",
   "metadata": {},
   "outputs": [
    {
     "name": "stdout",
     "output_type": "stream",
     "text": [
      "done. Time elapsed: 0.002927 seconds.\n",
      "39%% of draws have been accepted\n"
     ]
    },
    {
     "data": {
      "text/plain": [
       "0"
      ]
     },
     "execution_count": 28,
     "metadata": {},
     "output_type": "execute_result"
    },
    {
     "name": "stdout",
     "output_type": "stream",
     "text": [
      "chain with dspin 2 destroyed\n"
     ]
    }
   ],
   "source": [
    "my_functions._Z5funzav(c_double(3.14))\n"
   ]
  },
  {
   "cell_type": "code",
   "execution_count": 22,
   "id": "716f1967-2aac-4148-80d9-9a82a4549a5b",
   "metadata": {},
   "outputs": [],
   "source": [
    "# Import packages\n",
    "import os\n",
    "\n",
    "import matplotlib.pyplot as plt\n",
    "import pandas as pd"
   ]
  },
  {
   "cell_type": "code",
   "execution_count": 15,
   "id": "c30302db",
   "metadata": {},
   "outputs": [],
   "source": [
    "df = pd.read_csv(\n",
    "    \"/home/frisus95/Scrivania/Final_project/data_folder/collected_draws/j_1/N_1000000__sigma_0.4__burnin_100.csv\"\n",
    ")\n"
   ]
  },
  {
   "cell_type": "code",
   "execution_count": 16,
   "id": "9f76f66d",
   "metadata": {},
   "outputs": [
    {
     "data": {
      "text/html": [
       "<div>\n",
       "<style scoped>\n",
       "    .dataframe tbody tr th:only-of-type {\n",
       "        vertical-align: middle;\n",
       "    }\n",
       "\n",
       "    .dataframe tbody tr th {\n",
       "        vertical-align: top;\n",
       "    }\n",
       "\n",
       "    .dataframe thead th {\n",
       "        text-align: right;\n",
       "    }\n",
       "</style>\n",
       "<table border=\"1\" class=\"dataframe\">\n",
       "  <thead>\n",
       "    <tr style=\"text-align: right;\">\n",
       "      <th></th>\n",
       "      <th>intertwiner 1</th>\n",
       "      <th>intertwiner 2</th>\n",
       "      <th>intertwiner 3</th>\n",
       "      <th>intertwiner 4</th>\n",
       "      <th>intertwiner 5</th>\n",
       "      <th>intertwiner 6</th>\n",
       "      <th>intertwiner 7</th>\n",
       "      <th>intertwiner 8</th>\n",
       "      <th>intertwiner 9</th>\n",
       "      <th>intertwiner 10</th>\n",
       "      <th>intertwiner 11</th>\n",
       "      <th>intertwiner 12</th>\n",
       "      <th>intertwiner 13</th>\n",
       "      <th>intertwiner 14</th>\n",
       "      <th>intertwiner 15</th>\n",
       "      <th>intertwiner 16</th>\n",
       "      <th>draw molteplicity</th>\n",
       "      <th>draw amplitude</th>\n",
       "    </tr>\n",
       "  </thead>\n",
       "  <tbody>\n",
       "    <tr>\n",
       "      <th>0</th>\n",
       "      <td>2</td>\n",
       "      <td>0</td>\n",
       "      <td>2</td>\n",
       "      <td>2</td>\n",
       "      <td>1</td>\n",
       "      <td>0</td>\n",
       "      <td>1</td>\n",
       "      <td>0</td>\n",
       "      <td>2</td>\n",
       "      <td>2</td>\n",
       "      <td>0</td>\n",
       "      <td>1</td>\n",
       "      <td>0</td>\n",
       "      <td>2</td>\n",
       "      <td>0</td>\n",
       "      <td>1</td>\n",
       "      <td>4</td>\n",
       "      <td>-2.063960e-07</td>\n",
       "    </tr>\n",
       "    <tr>\n",
       "      <th>1</th>\n",
       "      <td>2</td>\n",
       "      <td>0</td>\n",
       "      <td>2</td>\n",
       "      <td>2</td>\n",
       "      <td>1</td>\n",
       "      <td>0</td>\n",
       "      <td>1</td>\n",
       "      <td>0</td>\n",
       "      <td>2</td>\n",
       "      <td>1</td>\n",
       "      <td>0</td>\n",
       "      <td>1</td>\n",
       "      <td>0</td>\n",
       "      <td>2</td>\n",
       "      <td>0</td>\n",
       "      <td>2</td>\n",
       "      <td>3</td>\n",
       "      <td>1.831690e-07</td>\n",
       "    </tr>\n",
       "    <tr>\n",
       "      <th>2</th>\n",
       "      <td>1</td>\n",
       "      <td>0</td>\n",
       "      <td>2</td>\n",
       "      <td>2</td>\n",
       "      <td>0</td>\n",
       "      <td>0</td>\n",
       "      <td>1</td>\n",
       "      <td>0</td>\n",
       "      <td>2</td>\n",
       "      <td>0</td>\n",
       "      <td>0</td>\n",
       "      <td>1</td>\n",
       "      <td>1</td>\n",
       "      <td>2</td>\n",
       "      <td>0</td>\n",
       "      <td>2</td>\n",
       "      <td>1</td>\n",
       "      <td>-2.307580e-07</td>\n",
       "    </tr>\n",
       "    <tr>\n",
       "      <th>3</th>\n",
       "      <td>1</td>\n",
       "      <td>0</td>\n",
       "      <td>2</td>\n",
       "      <td>2</td>\n",
       "      <td>1</td>\n",
       "      <td>0</td>\n",
       "      <td>1</td>\n",
       "      <td>1</td>\n",
       "      <td>2</td>\n",
       "      <td>0</td>\n",
       "      <td>0</td>\n",
       "      <td>2</td>\n",
       "      <td>1</td>\n",
       "      <td>2</td>\n",
       "      <td>0</td>\n",
       "      <td>2</td>\n",
       "      <td>5</td>\n",
       "      <td>1.127080e-06</td>\n",
       "    </tr>\n",
       "    <tr>\n",
       "      <th>4</th>\n",
       "      <td>1</td>\n",
       "      <td>0</td>\n",
       "      <td>2</td>\n",
       "      <td>2</td>\n",
       "      <td>0</td>\n",
       "      <td>0</td>\n",
       "      <td>1</td>\n",
       "      <td>1</td>\n",
       "      <td>2</td>\n",
       "      <td>0</td>\n",
       "      <td>0</td>\n",
       "      <td>2</td>\n",
       "      <td>1</td>\n",
       "      <td>2</td>\n",
       "      <td>0</td>\n",
       "      <td>2</td>\n",
       "      <td>2</td>\n",
       "      <td>1.047860e-06</td>\n",
       "    </tr>\n",
       "    <tr>\n",
       "      <th>...</th>\n",
       "      <td>...</td>\n",
       "      <td>...</td>\n",
       "      <td>...</td>\n",
       "      <td>...</td>\n",
       "      <td>...</td>\n",
       "      <td>...</td>\n",
       "      <td>...</td>\n",
       "      <td>...</td>\n",
       "      <td>...</td>\n",
       "      <td>...</td>\n",
       "      <td>...</td>\n",
       "      <td>...</td>\n",
       "      <td>...</td>\n",
       "      <td>...</td>\n",
       "      <td>...</td>\n",
       "      <td>...</td>\n",
       "      <td>...</td>\n",
       "      <td>...</td>\n",
       "    </tr>\n",
       "    <tr>\n",
       "      <th>201124</th>\n",
       "      <td>2</td>\n",
       "      <td>1</td>\n",
       "      <td>2</td>\n",
       "      <td>1</td>\n",
       "      <td>1</td>\n",
       "      <td>0</td>\n",
       "      <td>1</td>\n",
       "      <td>2</td>\n",
       "      <td>0</td>\n",
       "      <td>0</td>\n",
       "      <td>2</td>\n",
       "      <td>0</td>\n",
       "      <td>0</td>\n",
       "      <td>0</td>\n",
       "      <td>2</td>\n",
       "      <td>2</td>\n",
       "      <td>3</td>\n",
       "      <td>-1.070200e-07</td>\n",
       "    </tr>\n",
       "    <tr>\n",
       "      <th>201125</th>\n",
       "      <td>2</td>\n",
       "      <td>1</td>\n",
       "      <td>1</td>\n",
       "      <td>1</td>\n",
       "      <td>1</td>\n",
       "      <td>0</td>\n",
       "      <td>1</td>\n",
       "      <td>2</td>\n",
       "      <td>0</td>\n",
       "      <td>1</td>\n",
       "      <td>2</td>\n",
       "      <td>0</td>\n",
       "      <td>0</td>\n",
       "      <td>0</td>\n",
       "      <td>2</td>\n",
       "      <td>2</td>\n",
       "      <td>1</td>\n",
       "      <td>4.141810e-08</td>\n",
       "    </tr>\n",
       "    <tr>\n",
       "      <th>201126</th>\n",
       "      <td>2</td>\n",
       "      <td>2</td>\n",
       "      <td>1</td>\n",
       "      <td>2</td>\n",
       "      <td>0</td>\n",
       "      <td>1</td>\n",
       "      <td>1</td>\n",
       "      <td>2</td>\n",
       "      <td>0</td>\n",
       "      <td>1</td>\n",
       "      <td>2</td>\n",
       "      <td>1</td>\n",
       "      <td>1</td>\n",
       "      <td>0</td>\n",
       "      <td>2</td>\n",
       "      <td>2</td>\n",
       "      <td>8</td>\n",
       "      <td>1.672260e-07</td>\n",
       "    </tr>\n",
       "    <tr>\n",
       "      <th>201127</th>\n",
       "      <td>2</td>\n",
       "      <td>2</td>\n",
       "      <td>1</td>\n",
       "      <td>2</td>\n",
       "      <td>0</td>\n",
       "      <td>1</td>\n",
       "      <td>0</td>\n",
       "      <td>2</td>\n",
       "      <td>0</td>\n",
       "      <td>1</td>\n",
       "      <td>2</td>\n",
       "      <td>1</td>\n",
       "      <td>1</td>\n",
       "      <td>1</td>\n",
       "      <td>1</td>\n",
       "      <td>2</td>\n",
       "      <td>2</td>\n",
       "      <td>-2.038570e-07</td>\n",
       "    </tr>\n",
       "    <tr>\n",
       "      <th>201128</th>\n",
       "      <td>2</td>\n",
       "      <td>2</td>\n",
       "      <td>1</td>\n",
       "      <td>2</td>\n",
       "      <td>0</td>\n",
       "      <td>0</td>\n",
       "      <td>0</td>\n",
       "      <td>2</td>\n",
       "      <td>0</td>\n",
       "      <td>1</td>\n",
       "      <td>1</td>\n",
       "      <td>1</td>\n",
       "      <td>1</td>\n",
       "      <td>1</td>\n",
       "      <td>2</td>\n",
       "      <td>2</td>\n",
       "      <td>2</td>\n",
       "      <td>-3.002230e-07</td>\n",
       "    </tr>\n",
       "  </tbody>\n",
       "</table>\n",
       "<p>201129 rows × 18 columns</p>\n",
       "</div>"
      ],
      "text/plain": [
       "        intertwiner 1  intertwiner 2  intertwiner 3  intertwiner 4  \\\n",
       "0                   2              0              2              2   \n",
       "1                   2              0              2              2   \n",
       "2                   1              0              2              2   \n",
       "3                   1              0              2              2   \n",
       "4                   1              0              2              2   \n",
       "...               ...            ...            ...            ...   \n",
       "201124              2              1              2              1   \n",
       "201125              2              1              1              1   \n",
       "201126              2              2              1              2   \n",
       "201127              2              2              1              2   \n",
       "201128              2              2              1              2   \n",
       "\n",
       "        intertwiner 5  intertwiner 6  intertwiner 7  intertwiner 8  \\\n",
       "0                   1              0              1              0   \n",
       "1                   1              0              1              0   \n",
       "2                   0              0              1              0   \n",
       "3                   1              0              1              1   \n",
       "4                   0              0              1              1   \n",
       "...               ...            ...            ...            ...   \n",
       "201124              1              0              1              2   \n",
       "201125              1              0              1              2   \n",
       "201126              0              1              1              2   \n",
       "201127              0              1              0              2   \n",
       "201128              0              0              0              2   \n",
       "\n",
       "        intertwiner 9  intertwiner 10  intertwiner 11  intertwiner 12  \\\n",
       "0                   2               2               0               1   \n",
       "1                   2               1               0               1   \n",
       "2                   2               0               0               1   \n",
       "3                   2               0               0               2   \n",
       "4                   2               0               0               2   \n",
       "...               ...             ...             ...             ...   \n",
       "201124              0               0               2               0   \n",
       "201125              0               1               2               0   \n",
       "201126              0               1               2               1   \n",
       "201127              0               1               2               1   \n",
       "201128              0               1               1               1   \n",
       "\n",
       "        intertwiner 13  intertwiner 14  intertwiner 15  intertwiner 16  \\\n",
       "0                    0               2               0               1   \n",
       "1                    0               2               0               2   \n",
       "2                    1               2               0               2   \n",
       "3                    1               2               0               2   \n",
       "4                    1               2               0               2   \n",
       "...                ...             ...             ...             ...   \n",
       "201124               0               0               2               2   \n",
       "201125               0               0               2               2   \n",
       "201126               1               0               2               2   \n",
       "201127               1               1               1               2   \n",
       "201128               1               1               2               2   \n",
       "\n",
       "        draw molteplicity   draw amplitude  \n",
       "0                        4   -2.063960e-07  \n",
       "1                        3    1.831690e-07  \n",
       "2                        1   -2.307580e-07  \n",
       "3                        5    1.127080e-06  \n",
       "4                        2    1.047860e-06  \n",
       "...                    ...             ...  \n",
       "201124                   3   -1.070200e-07  \n",
       "201125                   1    4.141810e-08  \n",
       "201126                   8    1.672260e-07  \n",
       "201127                   2   -2.038570e-07  \n",
       "201128                   2   -3.002230e-07  \n",
       "\n",
       "[201129 rows x 18 columns]"
      ]
     },
     "execution_count": 16,
     "metadata": {},
     "output_type": "execute_result"
    }
   ],
   "source": [
    "df"
   ]
  },
  {
   "cell_type": "code",
   "execution_count": null,
   "id": "7bfd1de3",
   "metadata": {},
   "outputs": [],
   "source": [
    "for i, j in df.iterrows():\n",
    "    print(i, j)\n",
    "    print()"
   ]
  },
  {
   "cell_type": "code",
   "execution_count": 17,
   "id": "cf65ec84-297c-46db-8c2c-7950c15facc0",
   "metadata": {},
   "outputs": [],
   "source": [
    "total_rows = len(df)"
   ]
  },
  {
   "cell_type": "code",
   "execution_count": 18,
   "id": "6224d83d",
   "metadata": {},
   "outputs": [],
   "source": [
    "columns = list(df)"
   ]
  },
  {
   "cell_type": "code",
   "execution_count": 19,
   "id": "7804c234",
   "metadata": {},
   "outputs": [
    {
     "data": {
      "text/plain": [
       "['intertwiner 1',\n",
       " 'intertwiner 2',\n",
       " 'intertwiner 3',\n",
       " 'intertwiner 4',\n",
       " 'intertwiner 5',\n",
       " 'intertwiner 6',\n",
       " 'intertwiner 7',\n",
       " 'intertwiner 8',\n",
       " 'intertwiner 9',\n",
       " 'intertwiner 10',\n",
       " 'intertwiner 11',\n",
       " 'intertwiner 12',\n",
       " 'intertwiner 13',\n",
       " 'intertwiner 14',\n",
       " 'intertwiner 15',\n",
       " 'intertwiner 16',\n",
       " 'draw molteplicity ',\n",
       " 'draw amplitude']"
      ]
     },
     "execution_count": 19,
     "metadata": {},
     "output_type": "execute_result"
    }
   ],
   "source": [
    "columns"
   ]
  },
  {
   "cell_type": "code",
   "execution_count": 20,
   "id": "08d4f8c1-9674-4ee3-98ad-0790d5080528",
   "metadata": {},
   "outputs": [
    {
     "name": "stdout",
     "output_type": "stream",
     "text": [
      "2\n",
      "0\n",
      "2\n",
      "2\n",
      "1\n",
      "0\n",
      "1\n",
      "0\n",
      "2\n",
      "1\n",
      "0\n",
      "1\n",
      "0\n",
      "2\n",
      "0\n",
      "2\n",
      "3\n",
      "1.83169e-07\n"
     ]
    }
   ],
   "source": [
    "for i in columns:\n",
    "\n",
    "    # printing the third element of the column\n",
    "    print(df[i][1])\n"
   ]
  },
  {
   "cell_type": "code",
   "execution_count": 21,
   "id": "686b8d47-5681-40dd-8216-63d0f0c3f3b2",
   "metadata": {},
   "outputs": [
    {
     "data": {
      "text/plain": [
       "0"
      ]
     },
     "execution_count": 21,
     "metadata": {},
     "output_type": "execute_result"
    }
   ],
   "source": [
    "df['intertwiner 1'][100]"
   ]
  },
  {
   "cell_type": "code",
   "execution_count": 24,
   "id": "154af811-098a-4835-94f5-c01849ac0eb5",
   "metadata": {},
   "outputs": [],
   "source": [
    "angle = 0.0\n",
    "\n",
    "for i in range(total_rows):\n",
    "    angle += (((df['intertwiner 1'][i]) *\n",
    "               (df['intertwiner 1'][i] + 1) - 2 * 1 * (1 + 1)) /\n",
    "              (2 * 1 * (1 + 1))) * df['draw molteplicity '][i]\n"
   ]
  },
  {
   "cell_type": "code",
   "execution_count": 25,
   "id": "a6235d02-1657-42b0-b554-ec8f6c4823d7",
   "metadata": {},
   "outputs": [
    {
     "data": {
      "text/plain": [
       "-0.3313526352635264"
      ]
     },
     "execution_count": 25,
     "metadata": {},
     "output_type": "execute_result"
    }
   ],
   "source": [
    "angle / (1000000 - 100)\n"
   ]
  },
  {
   "cell_type": "code",
   "execution_count": null,
   "id": "f93c6689-c307-488c-aba9-20cefb4fb53d",
   "metadata": {},
   "outputs": [],
   "source": []
  }
 ],
 "metadata": {
  "kernelspec": {
   "display_name": "Python 3 (ipykernel)",
   "language": "python",
   "name": "python3"
  },
  "language_info": {
   "codemirror_mode": {
    "name": "ipython",
    "version": 3
   },
   "file_extension": ".py",
   "mimetype": "text/x-python",
   "name": "python",
   "nbconvert_exporter": "python",
   "pygments_lexer": "ipython3",
   "version": "3.9.7"
  }
 },
 "nbformat": 4,
 "nbformat_minor": 5
}
