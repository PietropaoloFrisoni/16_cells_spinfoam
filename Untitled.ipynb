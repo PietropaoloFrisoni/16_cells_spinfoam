{
 "cells": [
  {
   "cell_type": "code",
   "execution_count": 1,
   "id": "8c63d6ac-a6e2-443e-a3a8-b67791d22399",
   "metadata": {},
   "outputs": [
    {
     "name": "stdout",
     "output_type": "stream",
     "text": [
      "<class 'ctypes.CDLL'>\n"
     ]
    }
   ],
   "source": [
    "from ctypes import *\n",
    "so_file = \"/home/frisus95/Scrivania/Final_project/lib/libshared.so\"\n",
    "my_functions = CDLL(so_file)\n",
    "print(type(my_functions))"
   ]
  },
  {
   "cell_type": "code",
   "execution_count": 2,
   "id": "1ef22e1c-1cdd-425c-a082-cd96731857ba",
   "metadata": {},
   "outputs": [
    {
     "name": "stdout",
     "output_type": "stream",
     "text": [
      "4\n"
     ]
    }
   ],
   "source": [
    "print(my_functions._Z8square_2i(2))"
   ]
  },
  {
   "cell_type": "code",
   "execution_count": 8,
   "id": "dd672217-cfef-4b63-9437-17f136893eda",
   "metadata": {},
   "outputs": [
    {
     "name": "stdout",
     "output_type": "stream",
     "text": [
      "0\n"
     ]
    }
   ],
   "source": [
    "print(my_functions._Z6fregnav())"
   ]
  },
  {
   "cell_type": "code",
   "execution_count": null,
   "id": "9fbce800-7d5e-489c-ada3-1ee6f897c2ba",
   "metadata": {},
   "outputs": [],
   "source": []
  }
 ],
 "metadata": {
  "kernelspec": {
   "display_name": "Python 3 (ipykernel)",
   "language": "python",
   "name": "python3"
  },
  "language_info": {
   "codemirror_mode": {
    "name": "ipython",
    "version": 3
   },
   "file_extension": ".py",
   "mimetype": "text/x-python",
   "name": "python",
   "nbconvert_exporter": "python",
   "pygments_lexer": "ipython3",
   "version": "3.9.5"
  }
 },
 "nbformat": 4,
 "nbformat_minor": 5
}
