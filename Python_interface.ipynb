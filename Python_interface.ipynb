{
 "cells": [
  {
   "cell_type": "markdown",
   "id": "3e47b776-89dd-4f71-9ef6-b954e5368efd",
   "metadata": {},
   "source": [
    "# Python interface: practical guide"
   ]
  },
  {
   "cell_type": "markdown",
   "id": "011c54df-7f8d-4bef-9ebf-3285dcccd1db",
   "metadata": {
    "tags": []
   },
   "source": [
    "***Part 1: calling C++ from Python*** \n",
    "\n",
    "In this first part use the *spinfoam.py* module in order to call C++ source code implemented in the `./src` folder.\n",
    "We do this by using the spinfoam shared library.\n",
    "\n",
    "This allows us to take full advantage of the efficiency of the C++ code in order to deal with the most hard (computationally speaking) sections of the algorithm.\n",
    "\n",
    "***Part 2: pure Python***   \n",
    "\n",
    "In this second part we manipulate the csv files, computed and stored in the first part, with pure Python code.\n",
    "We also make some plots with the collected data.\n",
    "\n",
    "**Let's start!**"
   ]
  },
  {
   "cell_type": "markdown",
   "id": "db89d8de-f9d3-4fb2-846c-04f2736f4774",
   "metadata": {
    "tags": []
   },
   "source": [
    "## Step 0: computing the required fastwigxj hash tables"
   ]
  },
  {
   "cell_type": "markdown",
   "id": "736f26e0-2ded-41a8-ad16-7d29be008697",
   "metadata": {},
   "source": [
    "First, we must compute all the necessary hash tables of 3j, 6j and 9j Wigner symbols.\n",
    "These tables are, in fact, a key ingredient for *step 1* and *step 2*.\n",
    "\n",
    "For the calculation, we use the _wigxjpf_ and _fastwigxj_ libraries [Johansson et al., 2015], stored under `./ext/`.\n",
    "\n",
    "In the following, with \"type x\" I mean \"type x in linux shell terminal\"\n",
    "\n",
    "1. Change directory to `./ext/wigxjpf/`, type **make**.\n",
    "2. Change directory to `./ext/fastwigxj/`, type **make**. \n",
    "   In in the followng, the latter is supposed to be the current directory.\n",
    "   \n",
    "3. Type \"bin/hash_js --max-E-3j=50 /dev/null ./table_50.3j\".\n",
    "4. Type \"bin/hash_js --max-E-6j=40 /dev/null ./table_40.6j\".\n",
    "5. Type \"bin/gen_9j --flat-lim=16 | bin/combine_js | bin/unique_js ./comb_16.9j\".\n",
    "6. Type \"bin/hash_js ./comb_16.9j ./hashed_16.9j\".\n",
    "7. Move the hash tables \"table_16.9j\", \"table_40.6j\" and \"table_50.3j\" generated in steps 3-6 in a directory of your choice.\n",
    "   \n",
    "   For example, create a folder `./ext/fastwigxj_generated_tables/` and move all the hash tables in it.\n",
    "\n",
    "   This is the default folder which I refer to in the following, but you can also choose another folder and provide a different \n",
    "   path.\n",
    "   \n",
    "**Important**: when using Jupyter notebook, if the hash table is not found in the provided path, the kernel dies with no message. \n",
    "\n",
    "When using python script from linux terminal, the C++ returns an error message which is correctly printed. \n",
    "\n",
    "Therefore, we must be sure that the fastwigxj hash tables above are actually stored before moving on.  "
   ]
  },
  {
   "cell_type": "markdown",
   "id": "ea564d13-01d1-4a42-a177-96146ebb52af",
   "metadata": {
    "tags": []
   },
   "source": [
    "## Step 1: creating the **spinfoam** shared library"
   ]
  },
  {
   "cell_type": "markdown",
   "id": "8de91852-d629-40c6-adf5-ea96c0ba52b3",
   "metadata": {},
   "source": [
    "We first import the *spinfoam.py* module "
   ]
  },
  {
   "cell_type": "code",
   "execution_count": 4,
   "id": "3d982fc5-a9a2-4501-8d45-181955fad376",
   "metadata": {},
   "outputs": [],
   "source": [
    "import spinfoam as sf"
   ]
  },
  {
   "cell_type": "markdown",
   "id": "30041d2d-0b5b-472d-ac90-1e9adc05d561",
   "metadata": {},
   "source": [
    "We can always clean all the previous binary and object files, as well as the shared library along with the corresponding folders, with the following cell"
   ]
  },
  {
   "cell_type": "code",
   "execution_count": 12,
   "id": "367bbbac-1170-4c2d-a690-e5660dde5be5",
   "metadata": {},
   "outputs": [
    {
     "name": "stdout",
     "output_type": "stream",
     "text": [
      "rm -rf obj\n",
      "rm -rf lib\n",
      "rm -rf bin\n"
     ]
    }
   ],
   "source": [
    "sf.spinfoam_clean()"
   ]
  },
  {
   "cell_type": "markdown",
   "id": "5e4c026d-94ca-4853-b1f5-4902d69fdec3",
   "metadata": {},
   "source": [
    "We can compile and generate all the required files with the following cell, provided that *all dependencies are satisifed*.\n",
    "\n",
    "For details, see the README file.\n",
    "\n",
    "Notice that you can also compile in debug mode with **spinfoam_compile_debug()**"
   ]
  },
  {
   "cell_type": "code",
   "execution_count": 5,
   "id": "c7c4265f-449d-41bd-850a-b07c215ec63e",
   "metadata": {},
   "outputs": [
    {
     "name": "stdout",
     "output_type": "stream",
     "text": [
      "make: Nessuna operazione da eseguire per «default».\n"
     ]
    }
   ],
   "source": [
    "sf.spinfoam_compile()"
   ]
  },
  {
   "cell_type": "markdown",
   "id": "8334c26a-3748-4cbc-a1bc-8ac7ccaa653c",
   "metadata": {},
   "source": [
    "### Step 2: Hashing tables of 21j Wigner symbols "
   ]
  },
  {
   "cell_type": "markdown",
   "id": "81574aea-08e5-490b-8b1b-eeea84ab94cd",
   "metadata": {},
   "source": [
    "We now compute the 21j Wigner symbols hash tables.\n",
    "These  are a key ingredient for the Metropolis-Hastings algorithm, as they will be will be retrieved in *step 3*.\n",
    "\n",
    "We use [parallel hashmap](https://github.com/greg7mdp/parallel-hashmap) in order to efficiently store and dump to disk the Wigner symbols. \n",
    "\n",
    "All the necessary _fastwigxj_ hash tables of 3j, 6j and 9j Wigner symbols must have been previously computed and stored in `./ext/fastwigxj_generated_tables/` (or another folder of your choice, provided that the correct path is provided to the function below). See *step 0* for details\n",
    "\n",
    "The C++ code searches for all files in the provided folder with extension \".3j\", \".6j\" or \".9j\", and the largest tables found are set for loading.   "
   ]
  },
  {
   "cell_type": "code",
   "execution_count": 15,
   "id": "7f6ac00e-a8f7-4ca2-9d40-6872b9d50f2a",
   "metadata": {},
   "outputs": [],
   "source": [
    "# this is the folder with the pre-computed hash tables of 3j, 6j and 9j Wigner symbols.\n",
    "# Jupyter kernel dies if tables are not found (C function returns \"EXIT FAILURE\")\n",
    "fastwigxj_tables_path = \"./private_ext/fastwigxj_generated_tables\"\n",
    "\n",
    "# this is the folder in which we wanto to store the computed 21j symbols hash tables\n",
    "hash_tables_path = \"./ext/hashed_21j\""
   ]
  },
  {
   "cell_type": "code",
   "execution_count": 16,
   "id": "70b4276d-88ae-4e55-b02f-4643f1fa27fb",
   "metadata": {},
   "outputs": [
    {
     "name": "stdout",
     "output_type": "stream",
     "text": [
      "Hashing all 21j symbols with j <= 0.5...\n",
      "Completed! The hash table has been stored\n",
      "Hashing all 21j symbols with j <= 1...\n",
      "Completed! The hash table has been stored\n",
      "Hashing all 21j symbols with j <= 1.5...\n",
      "Completed! The hash table has been stored\n",
      "Hashing all 21j symbols with j <= 2...\n",
      "Completed! The hash table has been stored\n"
     ]
    }
   ],
   "source": [
    "# 'spin' is the value of all boundary spins of the spinfoam\n",
    "\n",
    "for spin in [0.5, 1, 1.5, 2]:\n",
    "    sf.Hashing_21j_symbols(hash_tables_path, fastwigxj_tables_path, spin)"
   ]
  },
  {
   "cell_type": "markdown",
   "id": "3f1d1df2-c9c7-4843-80a6-c33b8d5e148d",
   "metadata": {},
   "source": [
    "### Step 3: Metropolis-Hastings "
   ]
  },
  {
   "cell_type": "markdown",
   "id": "4b7619c1-ee6f-4eb8-9c32-5d830e8ecc0b",
   "metadata": {},
   "source": [
    "We can now compute and assemble the Markov chains by running the MH algorithm. The computed draws are stored in the given folder.\n",
    "\n",
    "**We run in parallel an independent Markov chain for each provided thread**.\n",
    "\n",
    "*It is advisable for the performance to use a number of Markov chains equal to or less than the physical number of cores present on the system.*\n",
    "\n",
    "Each thread retrieves from the 21j hash table (computed in step 2) the required symbol."
   ]
  },
  {
   "cell_type": "code",
   "execution_count": 8,
   "id": "4bb83c97-c40d-44ce-b6df-2cd8735432d5",
   "metadata": {},
   "outputs": [
    {
     "name": "stdout",
     "output_type": "stream",
     "text": [
      "optimal number of threads: 12\n"
     ]
    }
   ],
   "source": [
    "# this is the folder in which we wanto to store the draws\n",
    "draws_folder = \"./data_folder/collected_draws\"\n",
    "\n",
    "# this is the folder with the pre-computed hash tables of 21j Wigner symbols (see Step 2).\n",
    "# Jupyter kernel dies if table is not found (C function returns \"EXIT FAILURE\")\n",
    "hash_tables_path = \"./ext/hashed_21j\"\n",
    "\n",
    "# MH parameters\n",
    "spin = 0.5\n",
    "length = 1000000\n",
    "sigma = 0.4\n",
    "burnin = 10\n",
    "verbosity = 0\n",
    "\n",
    "# set optimal number of threads\n",
    "import multiprocessing\n",
    "number_of_threads = int(multiprocessing.cpu_count())\n",
    "print(f\"optimal number of threads: {number_of_threads}\")"
   ]
  },
  {
   "cell_type": "code",
   "execution_count": 19,
   "id": "e64ed585-75a5-4c42-8525-362fd1028e1a",
   "metadata": {},
   "outputs": [
    {
     "name": "stdout",
     "output_type": "stream",
     "text": [
      "Starting 12 independent Markov chains...\n",
      "Completed! All draws have been stored\n"
     ]
    }
   ],
   "source": [
    "sf.Metropolis_Hastings_parallel_run(draws_folder, hash_tables_path, spin,\n",
    "                                    length, sigma, burnin, verbosity,\n",
    "                                    number_of_threads)"
   ]
  },
  {
   "cell_type": "markdown",
   "id": "413210ee-92e2-4420-a851-5bbcdbd19521",
   "metadata": {},
   "source": [
    "### Step 4: Computing angle expectation values"
   ]
  },
  {
   "cell_type": "markdown",
   "id": "e2a31da4-e42e-4f91-8050-aecc949e58ba",
   "metadata": {},
   "source": [
    "We now manipulate the csv files, computed in *step 3*, in order to extract the informations we are interested in.\n",
    "\n",
    "For example, let's compute the expectation values of boundary angle operators."
   ]
  },
  {
   "cell_type": "code",
   "execution_count": 41,
   "id": "a3588cfb-7ec7-4eab-8088-df128b01f26c",
   "metadata": {},
   "outputs": [],
   "source": [
    "# folder with previously stored draws\n",
    "draws_folder = \"./data_folder/collected_draws\"\n",
    "\n",
    "# folder in which we wanto to store the assembled angles\n",
    "angles_folder = \"./public_final_data\"\n",
    "\n",
    "\n",
    "spin = 3\n",
    "length = 1000000\n",
    "sigma = 0.35\n",
    "burnin = 10\n",
    "chains_to_process = 30"
   ]
  },
  {
   "cell_type": "markdown",
   "id": "c3bdb40a-e1e5-492b-ac06-d7c318f9a9f7",
   "metadata": {},
   "source": [
    "In the cell below, we process in parallel the draws previously computed and stored in Step 3.\n",
    "\n",
    "In order to achieve this, we employ **multiple threads** along with the optimized numpy routines.\n",
    "Performance improves proportionally to the number of CPU cores on the system.\n",
    "\n",
    "For each csv file (stored by a different Markov chain), we compute the average of the angle operator\n",
    "over all the 16 boundary intertwiners.\n",
    "\n",
    "After processing and assembling a chosen number of Markov chains, \n",
    "we store the result in a folder of our choice.\n"
   ]
  },
  {
   "cell_type": "code",
   "execution_count": 10,
   "id": "85d0e661-ce8a-420f-9708-2cf1de91351f",
   "metadata": {},
   "outputs": [],
   "source": [
    "sf.from_draw_to_angles_average_multithreading(draws_folder, spin, length,\n",
    "                                              sigma, burnin, angles_folder, chains_to_process)"
   ]
  },
  {
   "cell_type": "code",
   "execution_count": 42,
   "id": "a43953ba-ca8a-4aac-ab45-7e8644e4b7ec",
   "metadata": {},
   "outputs": [],
   "source": [
    "df = sf.retrieve_combined_angles(angles_folder, spin, length, sigma, burnin, chains_to_process)"
   ]
  },
  {
   "cell_type": "code",
   "execution_count": 43,
   "id": "c696d6c3-c216-4206-9dce-cda0b5d3205a",
   "metadata": {},
   "outputs": [
    {
     "data": {
      "text/html": [
       "<div>\n",
       "<style scoped>\n",
       "    .dataframe tbody tr th:only-of-type {\n",
       "        vertical-align: middle;\n",
       "    }\n",
       "\n",
       "    .dataframe tbody tr th {\n",
       "        vertical-align: top;\n",
       "    }\n",
       "\n",
       "    .dataframe thead th {\n",
       "        text-align: right;\n",
       "    }\n",
       "</style>\n",
       "<table border=\"1\" class=\"dataframe\">\n",
       "  <thead>\n",
       "    <tr style=\"text-align: right;\">\n",
       "      <th></th>\n",
       "      <th>angle average</th>\n",
       "      <th>accept. rate</th>\n",
       "      <th>run time</th>\n",
       "    </tr>\n",
       "  </thead>\n",
       "  <tbody>\n",
       "    <tr>\n",
       "      <th>chain 14</th>\n",
       "      <td>-0.333657</td>\n",
       "      <td>35.0</td>\n",
       "      <td>21850.5</td>\n",
       "    </tr>\n",
       "    <tr>\n",
       "      <th>chain 24</th>\n",
       "      <td>-0.322947</td>\n",
       "      <td>35.0</td>\n",
       "      <td>21998.4</td>\n",
       "    </tr>\n",
       "    <tr>\n",
       "      <th>chain 4</th>\n",
       "      <td>-0.337497</td>\n",
       "      <td>34.0</td>\n",
       "      <td>22392.0</td>\n",
       "    </tr>\n",
       "    <tr>\n",
       "      <th>chain 18</th>\n",
       "      <td>-0.334506</td>\n",
       "      <td>35.0</td>\n",
       "      <td>22139.9</td>\n",
       "    </tr>\n",
       "    <tr>\n",
       "      <th>chain 30</th>\n",
       "      <td>-0.333170</td>\n",
       "      <td>35.0</td>\n",
       "      <td>22291.7</td>\n",
       "    </tr>\n",
       "    <tr>\n",
       "      <th>chain 2</th>\n",
       "      <td>-0.334412</td>\n",
       "      <td>35.0</td>\n",
       "      <td>22472.2</td>\n",
       "    </tr>\n",
       "    <tr>\n",
       "      <th>chain 19</th>\n",
       "      <td>-0.330427</td>\n",
       "      <td>35.0</td>\n",
       "      <td>22024.6</td>\n",
       "    </tr>\n",
       "    <tr>\n",
       "      <th>chain 25</th>\n",
       "      <td>-0.331572</td>\n",
       "      <td>35.0</td>\n",
       "      <td>22085.7</td>\n",
       "    </tr>\n",
       "    <tr>\n",
       "      <th>chain 11</th>\n",
       "      <td>-0.347395</td>\n",
       "      <td>35.0</td>\n",
       "      <td>21692.4</td>\n",
       "    </tr>\n",
       "    <tr>\n",
       "      <th>chain 23</th>\n",
       "      <td>-0.333072</td>\n",
       "      <td>35.0</td>\n",
       "      <td>21941.0</td>\n",
       "    </tr>\n",
       "    <tr>\n",
       "      <th>chain 29</th>\n",
       "      <td>-0.331615</td>\n",
       "      <td>35.0</td>\n",
       "      <td>21937.8</td>\n",
       "    </tr>\n",
       "    <tr>\n",
       "      <th>chain 9</th>\n",
       "      <td>-0.329387</td>\n",
       "      <td>35.0</td>\n",
       "      <td>22254.2</td>\n",
       "    </tr>\n",
       "    <tr>\n",
       "      <th>chain 22</th>\n",
       "      <td>-0.339208</td>\n",
       "      <td>35.0</td>\n",
       "      <td>22134.3</td>\n",
       "    </tr>\n",
       "    <tr>\n",
       "      <th>chain 12</th>\n",
       "      <td>-0.333900</td>\n",
       "      <td>34.0</td>\n",
       "      <td>22130.3</td>\n",
       "    </tr>\n",
       "    <tr>\n",
       "      <th>chain 10</th>\n",
       "      <td>-0.341922</td>\n",
       "      <td>34.0</td>\n",
       "      <td>21723.1</td>\n",
       "    </tr>\n",
       "    <tr>\n",
       "      <th>chain 5</th>\n",
       "      <td>-0.335219</td>\n",
       "      <td>35.0</td>\n",
       "      <td>22004.5</td>\n",
       "    </tr>\n",
       "    <tr>\n",
       "      <th>chain 6</th>\n",
       "      <td>-0.338749</td>\n",
       "      <td>35.0</td>\n",
       "      <td>22484.0</td>\n",
       "    </tr>\n",
       "    <tr>\n",
       "      <th>chain 1</th>\n",
       "      <td>-0.323173</td>\n",
       "      <td>35.0</td>\n",
       "      <td>22007.3</td>\n",
       "    </tr>\n",
       "    <tr>\n",
       "      <th>chain 26</th>\n",
       "      <td>-0.329254</td>\n",
       "      <td>35.0</td>\n",
       "      <td>22513.9</td>\n",
       "    </tr>\n",
       "    <tr>\n",
       "      <th>chain 21</th>\n",
       "      <td>-0.338512</td>\n",
       "      <td>34.0</td>\n",
       "      <td>22214.4</td>\n",
       "    </tr>\n",
       "    <tr>\n",
       "      <th>chain 27</th>\n",
       "      <td>-0.332738</td>\n",
       "      <td>35.0</td>\n",
       "      <td>22227.6</td>\n",
       "    </tr>\n",
       "    <tr>\n",
       "      <th>chain 20</th>\n",
       "      <td>-0.346684</td>\n",
       "      <td>34.0</td>\n",
       "      <td>22609.1</td>\n",
       "    </tr>\n",
       "    <tr>\n",
       "      <th>chain 15</th>\n",
       "      <td>-0.332578</td>\n",
       "      <td>35.0</td>\n",
       "      <td>21932.1</td>\n",
       "    </tr>\n",
       "    <tr>\n",
       "      <th>chain 7</th>\n",
       "      <td>-0.324848</td>\n",
       "      <td>35.0</td>\n",
       "      <td>22126.3</td>\n",
       "    </tr>\n",
       "    <tr>\n",
       "      <th>chain 28</th>\n",
       "      <td>-0.335349</td>\n",
       "      <td>35.0</td>\n",
       "      <td>22463.4</td>\n",
       "    </tr>\n",
       "    <tr>\n",
       "      <th>chain 17</th>\n",
       "      <td>-0.336458</td>\n",
       "      <td>35.0</td>\n",
       "      <td>22196.6</td>\n",
       "    </tr>\n",
       "    <tr>\n",
       "      <th>chain 3</th>\n",
       "      <td>-0.329817</td>\n",
       "      <td>35.0</td>\n",
       "      <td>22088.1</td>\n",
       "    </tr>\n",
       "    <tr>\n",
       "      <th>chain 8</th>\n",
       "      <td>-0.337992</td>\n",
       "      <td>35.0</td>\n",
       "      <td>21772.9</td>\n",
       "    </tr>\n",
       "    <tr>\n",
       "      <th>chain 13</th>\n",
       "      <td>-0.342586</td>\n",
       "      <td>35.0</td>\n",
       "      <td>22269.8</td>\n",
       "    </tr>\n",
       "    <tr>\n",
       "      <th>chain 16</th>\n",
       "      <td>-0.335840</td>\n",
       "      <td>35.0</td>\n",
       "      <td>22032.1</td>\n",
       "    </tr>\n",
       "  </tbody>\n",
       "</table>\n",
       "</div>"
      ],
      "text/plain": [
       "          angle average  accept. rate  run time\n",
       "chain 14      -0.333657          35.0   21850.5\n",
       "chain 24      -0.322947          35.0   21998.4\n",
       "chain 4       -0.337497          34.0   22392.0\n",
       "chain 18      -0.334506          35.0   22139.9\n",
       "chain 30      -0.333170          35.0   22291.7\n",
       "chain 2       -0.334412          35.0   22472.2\n",
       "chain 19      -0.330427          35.0   22024.6\n",
       "chain 25      -0.331572          35.0   22085.7\n",
       "chain 11      -0.347395          35.0   21692.4\n",
       "chain 23      -0.333072          35.0   21941.0\n",
       "chain 29      -0.331615          35.0   21937.8\n",
       "chain 9       -0.329387          35.0   22254.2\n",
       "chain 22      -0.339208          35.0   22134.3\n",
       "chain 12      -0.333900          34.0   22130.3\n",
       "chain 10      -0.341922          34.0   21723.1\n",
       "chain 5       -0.335219          35.0   22004.5\n",
       "chain 6       -0.338749          35.0   22484.0\n",
       "chain 1       -0.323173          35.0   22007.3\n",
       "chain 26      -0.329254          35.0   22513.9\n",
       "chain 21      -0.338512          34.0   22214.4\n",
       "chain 27      -0.332738          35.0   22227.6\n",
       "chain 20      -0.346684          34.0   22609.1\n",
       "chain 15      -0.332578          35.0   21932.1\n",
       "chain 7       -0.324848          35.0   22126.3\n",
       "chain 28      -0.335349          35.0   22463.4\n",
       "chain 17      -0.336458          35.0   22196.6\n",
       "chain 3       -0.329817          35.0   22088.1\n",
       "chain 8       -0.337992          35.0   21772.9\n",
       "chain 13      -0.342586          35.0   22269.8\n",
       "chain 16      -0.335840          35.0   22032.1"
      ]
     },
     "execution_count": 43,
     "metadata": {},
     "output_type": "execute_result"
    }
   ],
   "source": [
    "df"
   ]
  },
  {
   "cell_type": "code",
   "execution_count": 44,
   "id": "beb4033a-ed45-494b-9180-b53712738777",
   "metadata": {},
   "outputs": [
    {
     "data": {
      "text/html": [
       "<div>\n",
       "<style scoped>\n",
       "    .dataframe tbody tr th:only-of-type {\n",
       "        vertical-align: middle;\n",
       "    }\n",
       "\n",
       "    .dataframe tbody tr th {\n",
       "        vertical-align: top;\n",
       "    }\n",
       "\n",
       "    .dataframe thead th {\n",
       "        text-align: right;\n",
       "    }\n",
       "</style>\n",
       "<table border=\"1\" class=\"dataframe\">\n",
       "  <thead>\n",
       "    <tr style=\"text-align: right;\">\n",
       "      <th></th>\n",
       "      <th>angle average</th>\n",
       "      <th>accept. rate</th>\n",
       "      <th>run time</th>\n",
       "    </tr>\n",
       "  </thead>\n",
       "  <tbody>\n",
       "    <tr>\n",
       "      <th>count</th>\n",
       "      <td>30.000000</td>\n",
       "      <td>30.000000</td>\n",
       "      <td>30.000000</td>\n",
       "    </tr>\n",
       "    <tr>\n",
       "      <th>mean</th>\n",
       "      <td>-0.334483</td>\n",
       "      <td>34.833333</td>\n",
       "      <td>22133.673333</td>\n",
       "    </tr>\n",
       "    <tr>\n",
       "      <th>std</th>\n",
       "      <td>0.005858</td>\n",
       "      <td>0.379049</td>\n",
       "      <td>236.943409</td>\n",
       "    </tr>\n",
       "    <tr>\n",
       "      <th>min</th>\n",
       "      <td>-0.347395</td>\n",
       "      <td>34.000000</td>\n",
       "      <td>21692.400000</td>\n",
       "    </tr>\n",
       "    <tr>\n",
       "      <th>25%</th>\n",
       "      <td>-0.337868</td>\n",
       "      <td>35.000000</td>\n",
       "      <td>21999.925000</td>\n",
       "    </tr>\n",
       "    <tr>\n",
       "      <th>50%</th>\n",
       "      <td>-0.334156</td>\n",
       "      <td>35.000000</td>\n",
       "      <td>22128.300000</td>\n",
       "    </tr>\n",
       "    <tr>\n",
       "      <th>75%</th>\n",
       "      <td>-0.331583</td>\n",
       "      <td>35.000000</td>\n",
       "      <td>22265.900000</td>\n",
       "    </tr>\n",
       "    <tr>\n",
       "      <th>max</th>\n",
       "      <td>-0.322947</td>\n",
       "      <td>35.000000</td>\n",
       "      <td>22609.100000</td>\n",
       "    </tr>\n",
       "  </tbody>\n",
       "</table>\n",
       "</div>"
      ],
      "text/plain": [
       "       angle average  accept. rate      run time\n",
       "count      30.000000     30.000000     30.000000\n",
       "mean       -0.334483     34.833333  22133.673333\n",
       "std         0.005858      0.379049    236.943409\n",
       "min        -0.347395     34.000000  21692.400000\n",
       "25%        -0.337868     35.000000  21999.925000\n",
       "50%        -0.334156     35.000000  22128.300000\n",
       "75%        -0.331583     35.000000  22265.900000\n",
       "max        -0.322947     35.000000  22609.100000"
      ]
     },
     "execution_count": 44,
     "metadata": {},
     "output_type": "execute_result"
    }
   ],
   "source": [
    "df.describe()"
   ]
  },
  {
   "cell_type": "markdown",
   "id": "a269f4c1-eb84-496a-b50e-1023827ff206",
   "metadata": {},
   "source": [
    "The data used for the paper, computed with the Graham and Narval Compute Canada clusters, are available in the folder: `./public_final_data`.\n",
    "\n",
    "The bash scripts used to collect the latter can be found in the current folder."
   ]
  },
  {
   "cell_type": "markdown",
   "id": "9a082e74-2fa9-4586-b4ec-844ffba6697f",
   "metadata": {},
   "source": [
    "# Plots"
   ]
  },
  {
   "cell_type": "markdown",
   "id": "6f961c21-8b37-43f8-8dd0-ad999fca585a",
   "metadata": {},
   "source": [
    "We report here some plots used in the paper. "
   ]
  },
  {
   "cell_type": "code",
   "execution_count": 54,
   "id": "a97c134c-a2c2-45c1-9c69-1764b3bd2f5e",
   "metadata": {},
   "outputs": [],
   "source": [
    "import matplotlib.pyplot as plt\n",
    "import seaborn as sns\n",
    "from matplotlib import rc\n",
    "import pandas as pd\n",
    "import numpy as np\n",
    "\n",
    "# Setting plot style\n",
    "\n",
    "sns.set()\n",
    "sns.set_context(\"paper\", font_scale=1.5, rc={\"lines.linewidth\": 2.0})\n",
    "\n",
    "rc('text', usetex=True)\n",
    "\n",
    "sns.set_style(\"ticks\")\n",
    "sns.set_style(\n",
    "    \"whitegrid\", {\n",
    "        'axes.edgecolor':\n",
    "        'black',\n",
    "        'axes.grid':\n",
    "        True,\n",
    "        'axes.axisbelow':\n",
    "        True,\n",
    "        'axes.labelcolor':\n",
    "        '.15',\n",
    "        'grid.color':\n",
    "        '0.9',\n",
    "        'grid.linestyle':\n",
    "        '-',\n",
    "        'xtick.direction':\n",
    "        'in',\n",
    "        'ytick.direction':\n",
    "        'in',\n",
    "        'xtick.bottom':\n",
    "        True,\n",
    "        'xtick.top':\n",
    "        True,\n",
    "        'ytick.left':\n",
    "        True,\n",
    "        'ytick.right':\n",
    "        True,\n",
    "        'font.family': ['sans-serif'],\n",
    "        'font.sans-serif':\n",
    "        ['Liberation Sans', 'Bitstream Vera Sans', 'sans-serif'],\n",
    "    })\n"
   ]
  },
  {
   "cell_type": "markdown",
   "id": "3693db5e-1e3b-4cc4-8855-a04dcf79b935",
   "metadata": {},
   "source": [
    "## Statistical fluctuations of angles operator"
   ]
  },
  {
   "cell_type": "code",
   "execution_count": 49,
   "id": "ba22646d-a87b-4b4d-aedc-6f338424deba",
   "metadata": {},
   "outputs": [
    {
     "data": {
      "image/png": "[encoded data removed]",
      "text/plain": [
       "<Figure size 864x486 with 1 Axes>"
      ]
     },
     "metadata": {
      "needs_background": "light"
     },
     "output_type": "display_data"
    }
   ],
   "source": [
    "import numpy as np\n",
    "import matplotlib.pyplot as plt\n",
    "from scipy.stats import norm\n",
    "\n",
    "#x-axis ranges from -5 and 5 with .001 steps\n",
    "x = np.arange(-0.35, -0.315, 0.0001)\n",
    "\n",
    "plt.figure(figsize=(12, 6.75))\n",
    "\n",
    "#define multiple normal distributions\n",
    "plt.plot(x,\n",
    "         norm.pdf(x, -0.3334329648852039, 0.0015908416551159619),\n",
    "         label='$j = 0.5$',\n",
    "         linewidth=2.5)\n",
    "plt.plot(x,\n",
    "         norm.pdf(x, -0.3336911744117442, 0.0031875522725521945),\n",
    "         label='$j = 1$',\n",
    "         linewidth=2.5)\n",
    "plt.plot(x,\n",
    "         norm.pdf(x, -0.3327424146463688, 0.0033364313284318992),\n",
    "         label='$j = 1.5$',\n",
    "         linewidth=2.5)\n",
    "plt.plot(x,\n",
    "         norm.pdf(x, -0.33361569067079594, 0.0036353093158777283),\n",
    "         label='$j = 2$',\n",
    "         linewidth=2.5)\n",
    "plt.plot(x,\n",
    "         norm.pdf(x, -0.3332254129684163, 0.004714441869128369),\n",
    "         label='$j = 2.5$',\n",
    "         linewidth=2.5)\n",
    "plt.plot(x,\n",
    "         norm.pdf(x, -0.33448275454976717, 0.005858200089709406),\n",
    "         label='$j = 3$',\n",
    "         linewidth=2.5)\n",
    "\n",
    "#add legend to plot\n",
    "plt.legend(title='boundary spin',\n",
    "           loc='upper right',\n",
    "           fontsize='large',\n",
    "           fancybox=True)\n",
    "\n",
    "#add axes labels and a title\n",
    "plt.ylabel('Normal distribution')\n",
    "plt.xlabel(r\"$\\langle \\cos (\\theta) \\rangle$\")\n",
    "plt.title('Statistical fluctuations', fontsize=15)\n",
    "\n",
    "plt.show()"
   ]
  },
  {
   "cell_type": "markdown",
   "id": "95e18c10-a48e-44e6-bce3-3cd1c530def5",
   "metadata": {},
   "source": [
    "## Expectation values of angle operator"
   ]
  },
  {
   "cell_type": "code",
   "execution_count": 50,
   "id": "b700575f-3c4e-4cbe-a245-10cdbed38e9e",
   "metadata": {},
   "outputs": [],
   "source": [
    "angles_average = [-0.3334329648852039, -0.3336911744117442, -0.3327424146463688, -0.33361569067079594, -0.3332254129684163, -0.33448275454976717]\n",
    "regular_values = [-0.3333333333, -0.3333333333, -0.3333333333, -0.3333333333, -0.3333333333, -0.3333333333]\n",
    "corresponding_spin = [0.5, 1, 1.5, 2, 2.5, 3]"
   ]
  },
  {
   "cell_type": "code",
   "execution_count": 51,
   "id": "4e80dbdb-1419-4dc8-bfbf-09e1697905ef",
   "metadata": {},
   "outputs": [],
   "source": [
    "df = pd.DataFrame({\n",
    "    \"spin\": corresponding_spin,\n",
    "    \"angles_average\": angles_average,\n",
    "    \"regular_values\": regular_values\n",
    "})\n"
   ]
  },
  {
   "cell_type": "code",
   "execution_count": 52,
   "id": "4504760b-4577-498c-a145-56bff8c7c567",
   "metadata": {},
   "outputs": [
    {
     "data": {
      "text/html": [
       "<div>\n",
       "<style scoped>\n",
       "    .dataframe tbody tr th:only-of-type {\n",
       "        vertical-align: middle;\n",
       "    }\n",
       "\n",
       "    .dataframe tbody tr th {\n",
       "        vertical-align: top;\n",
       "    }\n",
       "\n",
       "    .dataframe thead th {\n",
       "        text-align: right;\n",
       "    }\n",
       "</style>\n",
       "<table border=\"1\" class=\"dataframe\">\n",
       "  <thead>\n",
       "    <tr style=\"text-align: right;\">\n",
       "      <th></th>\n",
       "      <th>spin</th>\n",
       "      <th>angles_average</th>\n",
       "      <th>regular_values</th>\n",
       "    </tr>\n",
       "  </thead>\n",
       "  <tbody>\n",
       "    <tr>\n",
       "      <th>0</th>\n",
       "      <td>0.5</td>\n",
       "      <td>-0.333433</td>\n",
       "      <td>-0.333333</td>\n",
       "    </tr>\n",
       "    <tr>\n",
       "      <th>1</th>\n",
       "      <td>1.0</td>\n",
       "      <td>-0.333691</td>\n",
       "      <td>-0.333333</td>\n",
       "    </tr>\n",
       "    <tr>\n",
       "      <th>2</th>\n",
       "      <td>1.5</td>\n",
       "      <td>-0.332742</td>\n",
       "      <td>-0.333333</td>\n",
       "    </tr>\n",
       "    <tr>\n",
       "      <th>3</th>\n",
       "      <td>2.0</td>\n",
       "      <td>-0.333616</td>\n",
       "      <td>-0.333333</td>\n",
       "    </tr>\n",
       "    <tr>\n",
       "      <th>4</th>\n",
       "      <td>2.5</td>\n",
       "      <td>-0.333225</td>\n",
       "      <td>-0.333333</td>\n",
       "    </tr>\n",
       "    <tr>\n",
       "      <th>5</th>\n",
       "      <td>3.0</td>\n",
       "      <td>-0.334483</td>\n",
       "      <td>-0.333333</td>\n",
       "    </tr>\n",
       "  </tbody>\n",
       "</table>\n",
       "</div>"
      ],
      "text/plain": [
       "   spin  angles_average  regular_values\n",
       "0   0.5       -0.333433       -0.333333\n",
       "1   1.0       -0.333691       -0.333333\n",
       "2   1.5       -0.332742       -0.333333\n",
       "3   2.0       -0.333616       -0.333333\n",
       "4   2.5       -0.333225       -0.333333\n",
       "5   3.0       -0.334483       -0.333333"
      ]
     },
     "execution_count": 52,
     "metadata": {},
     "output_type": "execute_result"
    }
   ],
   "source": [
    "df"
   ]
  },
  {
   "cell_type": "code",
   "execution_count": 60,
   "id": "4d2e29ec-137f-4526-be44-ee31bee959a3",
   "metadata": {},
   "outputs": [
    {
     "data": {
      "text/plain": [
       "Text(0.5, 1.0, 'Expectation value of angle operator')"
      ]
     },
     "execution_count": 60,
     "metadata": {},
     "output_type": "execute_result"
    },
    {
     "data": {
      "image/png": "[encoded data removed]",
      "text/plain": [
       "<Figure size 864x486 with 1 Axes>"
      ]
     },
     "metadata": {},
     "output_type": "display_data"
    }
   ],
   "source": [
    "ax = df.plot(x='spin',\n",
    "             y='angles_average',\n",
    "             s=100,\n",
    "             xticks=corresponding_spin,\n",
    "             kind='scatter',\n",
    "             grid='false',\n",
    "             color='tab:purple',\n",
    "             label='computed expectation value',\n",
    "             figsize=(12, 6.75))\n",
    "df.plot(x='spin',\n",
    "        y='regular_values',\n",
    "        ax=ax,\n",
    "        kind='line',\n",
    "        color='tab:orange',\n",
    "        linewidth=1.2,\n",
    "        label='angle of regular tetrahedron')\n",
    "plt.legend(fontsize = 14)\n",
    "ax.set_ylim([-0.323, -0.343])\n",
    "plt.ylabel(r\"$\\langle \\cos (\\theta) \\rangle$\")\n",
    "plt.xlabel(\"boundary spin ($j$)\")\n",
    "plt.title('Expectation value of angle operator', fontsize=16)"
   ]
  },
  {
   "cell_type": "markdown",
   "id": "43116282-add7-4ab4-bd1c-3ccda6c4b4e4",
   "metadata": {},
   "source": [
    "## Loglog plot (with fit) of hash tables size"
   ]
  },
  {
   "cell_type": "markdown",
   "id": "48b7633b-8b3a-4399-844b-8d8485f04e7e",
   "metadata": {},
   "source": [
    "We want to understand how fast the size of 21j Wigner symbols hash tables increases as a function of boundary spin j"
   ]
  },
  {
   "cell_type": "code",
   "execution_count": 62,
   "id": "0062c15b-e02d-4974-bc63-c01d965c6c75",
   "metadata": {},
   "outputs": [],
   "source": [
    "size_hash_tables_in_MB = [\n",
    "    12.8e-03, 409.5e-03, 6.55, 52.42, 209.71, 838.86, 3.35e+03, 6.71e+03\n",
    "]\n",
    "corresponding_spin = [0.5, 1, 1.5, 2, 2.5, 3, 3.5, 4]\n",
    "\n",
    "# fit log(size) = m*log(j) + c\n",
    "m, c = np.polyfit(np.log(corresponding_spin),\n",
    "                  np.log(size_hash_tables_in_MB),\n",
    "                  1,\n",
    "                  w=np.sqrt(size_hash_tables_in_MB))\n",
    "size_fit = np.exp(m * np.log(corresponding_spin) + c)\n",
    "\n",
    "df = pd.DataFrame({\n",
    "    \"spin\": corresponding_spin,\n",
    "    \"table_size\": size_hash_tables_in_MB,\n",
    "    \"fitted_data\": size_fit\n",
    "})\n"
   ]
  },
  {
   "cell_type": "code",
   "execution_count": 63,
   "id": "b3584db2-3c71-4c76-b1a7-c92868c860dc",
   "metadata": {},
   "outputs": [
    {
     "data": {
      "text/html": [
       "<div>\n",
       "<style scoped>\n",
       "    .dataframe tbody tr th:only-of-type {\n",
       "        vertical-align: middle;\n",
       "    }\n",
       "\n",
       "    .dataframe tbody tr th {\n",
       "        vertical-align: top;\n",
       "    }\n",
       "\n",
       "    .dataframe thead th {\n",
       "        text-align: right;\n",
       "    }\n",
       "</style>\n",
       "<table border=\"1\" class=\"dataframe\">\n",
       "  <thead>\n",
       "    <tr style=\"text-align: right;\">\n",
       "      <th></th>\n",
       "      <th>spin</th>\n",
       "      <th>table_size</th>\n",
       "      <th>fitted_data</th>\n",
       "    </tr>\n",
       "  </thead>\n",
       "  <tbody>\n",
       "    <tr>\n",
       "      <th>0</th>\n",
       "      <td>0.5</td>\n",
       "      <td>0.0128</td>\n",
       "      <td>0.004545</td>\n",
       "    </tr>\n",
       "    <tr>\n",
       "      <th>1</th>\n",
       "      <td>1.0</td>\n",
       "      <td>0.4095</td>\n",
       "      <td>0.526787</td>\n",
       "    </tr>\n",
       "    <tr>\n",
       "      <th>2</th>\n",
       "      <td>1.5</td>\n",
       "      <td>6.5500</td>\n",
       "      <td>8.492613</td>\n",
       "    </tr>\n",
       "    <tr>\n",
       "      <th>3</th>\n",
       "      <td>2.0</td>\n",
       "      <td>52.4200</td>\n",
       "      <td>61.053381</td>\n",
       "    </tr>\n",
       "    <tr>\n",
       "      <th>4</th>\n",
       "      <td>2.5</td>\n",
       "      <td>209.7100</td>\n",
       "      <td>281.963782</td>\n",
       "    </tr>\n",
       "    <tr>\n",
       "      <th>5</th>\n",
       "      <td>3.0</td>\n",
       "      <td>838.8600</td>\n",
       "      <td>984.273892</td>\n",
       "    </tr>\n",
       "    <tr>\n",
       "      <th>6</th>\n",
       "      <td>3.5</td>\n",
       "      <td>3350.0000</td>\n",
       "      <td>2832.373455</td>\n",
       "    </tr>\n",
       "    <tr>\n",
       "      <th>7</th>\n",
       "      <td>4.0</td>\n",
       "      <td>6710.0000</td>\n",
       "      <td>7075.943061</td>\n",
       "    </tr>\n",
       "  </tbody>\n",
       "</table>\n",
       "</div>"
      ],
      "text/plain": [
       "   spin  table_size  fitted_data\n",
       "0   0.5      0.0128     0.004545\n",
       "1   1.0      0.4095     0.526787\n",
       "2   1.5      6.5500     8.492613\n",
       "3   2.0     52.4200    61.053381\n",
       "4   2.5    209.7100   281.963782\n",
       "5   3.0    838.8600   984.273892\n",
       "6   3.5   3350.0000  2832.373455\n",
       "7   4.0   6710.0000  7075.943061"
      ]
     },
     "execution_count": 63,
     "metadata": {},
     "output_type": "execute_result"
    }
   ],
   "source": [
    "df"
   ]
  },
  {
   "cell_type": "code",
   "execution_count": 51,
   "id": "ba4bad51-a8b2-4e28-a575-103ae6e3d182",
   "metadata": {},
   "outputs": [],
   "source": [
    "from matplotlib.ticker import ScalarFormatter"
   ]
  },
  {
   "cell_type": "code",
   "execution_count": 65,
   "id": "78edd7ba-424e-473b-9fc8-00d75bd19cc0",
   "metadata": {},
   "outputs": [
    {
     "data": {
      "image/png": "[encoded data removed]",
      "text/plain": [
       "<Figure size 864x486 with 1 Axes>"
      ]
     },
     "metadata": {},
     "output_type": "display_data"
    }
   ],
   "source": [
    "ax = df.plot(x='spin',\n",
    "             y='table_size',\n",
    "             s=100,\n",
    "             xticks=corresponding_spin,\n",
    "             kind='scatter',\n",
    "             grid='false',\n",
    "             color='tab:purple',\n",
    "             label='size of computed table',\n",
    "             logy=True,\n",
    "             logx=True,\n",
    "             figsize=(12, 6.75))\n",
    "df.plot(x='spin',\n",
    "        y='fitted_data',\n",
    "        ax=ax,\n",
    "        kind='line',\n",
    "        color='tab:orange',\n",
    "        label='best polynomial fit')\n",
    "plt.legend(fontsize = 14)\n",
    "plt.ylabel(\"size (MB)\")\n",
    "plt.xlabel(\"boundary spin ($j$)\")\n",
    "plt.title('Hash table size', fontsize=16)\n",
    "ax.xaxis.set_major_formatter(ScalarFormatter())\n",
    "\n",
    "plt.show()"
   ]
  },
  {
   "cell_type": "markdown",
   "id": "c7921e0b-4be8-4c1e-8194-e461e52f19d0",
   "metadata": {},
   "source": [
    "We conclude that the size of the 21j Wigner symbols roughly increases as: \n",
    "\n",
    "$$ \\text{Size(j)} \\approx j^{6.86} - 0.64$$"
   ]
  },
  {
   "cell_type": "markdown",
   "id": "4acc33f1-34d5-4880-849c-a41ce06736bd",
   "metadata": {},
   "source": [
    "## Computational time for draws "
   ]
  },
  {
   "cell_type": "code",
   "execution_count": 47,
   "id": "efeaf3a1-06e0-44b0-ad62-139022bd5a41",
   "metadata": {},
   "outputs": [],
   "source": [
    "run_times = [3.65502, 35.164993, 232.592933, 1338.5, 4177.179333, 22133.673333]\n",
    "corresponding_spin = [0.5, 1, 1.5, 2, 2.5, 3]"
   ]
  },
  {
   "cell_type": "code",
   "execution_count": 52,
   "id": "064a34d9-52e5-4c08-a4f4-7ee83ba4cb44",
   "metadata": {},
   "outputs": [],
   "source": [
    "# fit log(size) = m*log(j) + c\n",
    "m, c = np.polyfit(np.log(corresponding_spin),\n",
    "                  np.log(run_times),\n",
    "                  1,\n",
    "                  w=np.sqrt(run_times))\n",
    "time_fit = np.exp(m * np.log(corresponding_spin) + c)\n",
    "\n",
    "df = pd.DataFrame({\n",
    "    \"spin\": corresponding_spin,\n",
    "    \"run_times\": run_times,\n",
    "    \"fitted_data\": time_fit\n",
    "})\n"
   ]
  },
  {
   "cell_type": "code",
   "execution_count": 56,
   "id": "5ba2b06d-12b9-4bb8-a6e7-cfc8a1bd3831",
   "metadata": {},
   "outputs": [
    {
     "data": {
      "image/png": "[encoded data removed]",
      "text/plain": [
       "<Figure size 864x486 with 1 Axes>"
      ]
     },
     "metadata": {},
     "output_type": "display_data"
    }
   ],
   "source": [
    "ax = df.plot(x='spin',\n",
    "             y='run_times',\n",
    "             s=100,\n",
    "             xticks=corresponding_spin,\n",
    "             kind='scatter',\n",
    "             grid='false',\n",
    "             color='tab:purple',\n",
    "             label='computed average time',\n",
    "             logy=True,\n",
    "             logx=True,\n",
    "             figsize=(12, 6.75))\n",
    "df.plot(x='spin',\n",
    "        y='fitted_data',\n",
    "        ax=ax,\n",
    "        kind='line',\n",
    "        color='tab:orange',\n",
    "        label='best polynomial fit')\n",
    "plt.legend(fontsize = 14)\n",
    "plt.ylabel(\"time (s)\")\n",
    "plt.xlabel(\"boundary spin ($j$)\")\n",
    "plt.title('Sampler benchmark', fontsize=16)\n",
    "ax.xaxis.set_major_formatter(ScalarFormatter())\n",
    "\n",
    "plt.show()"
   ]
  },
  {
   "cell_type": "markdown",
   "id": "bfe7025e-62c0-4c2a-a012-2e03b04d3a02",
   "metadata": {},
   "source": [
    "We conclude that the computational time of the Metropolis-Hastings run increases according to\n",
    "\n",
    "$$ \\text{Time(j)} \\approx j^{7.18} + 2.07$$"
   ]
  }
 ],
 "metadata": {
  "kernelspec": {
   "display_name": "Python 3 (ipykernel)",
   "language": "python",
   "name": "python3"
  },
  "language_info": {
   "codemirror_mode": {
    "name": "ipython",
    "version": 3
   },
   "file_extension": ".py",
   "mimetype": "text/x-python",
   "name": "python",
   "nbconvert_exporter": "python",
   "pygments_lexer": "ipython3",
   "version": "3.9.7"
  }
 },
 "nbformat": 4,
 "nbformat_minor": 5
}
