{
 "cells": [
  {
   "cell_type": "markdown",
   "id": "3e47b776-89dd-4f71-9ef6-b954e5368efd",
   "metadata": {},
   "source": [
    "# Python interface"
   ]
  },
  {
   "cell_type": "markdown",
   "id": "ea564d13-01d1-4a42-a177-96146ebb52af",
   "metadata": {},
   "source": [
    "## Step 1: creating the **spinfoam** shared library"
   ]
  },
  {
   "cell_type": "markdown",
   "id": "8de91852-d629-40c6-adf5-ea96c0ba52b3",
   "metadata": {},
   "source": [
    "Let's start importing the *spinfoam.py* module "
   ]
  },
  {
   "cell_type": "code",
   "execution_count": 17,
   "id": "3d982fc5-a9a2-4501-8d45-181955fad376",
   "metadata": {},
   "outputs": [],
   "source": [
    "import spinfoam as sf"
   ]
  },
  {
   "cell_type": "markdown",
   "id": "30041d2d-0b5b-472d-ac90-1e9adc05d561",
   "metadata": {},
   "source": [
    "We clean all the previous executable and object files, along with the corresponding folders"
   ]
  },
  {
   "cell_type": "code",
   "execution_count": 6,
   "id": "367bbbac-1170-4c2d-a690-e5660dde5be5",
   "metadata": {},
   "outputs": [
    {
     "name": "stdout",
     "output_type": "stream",
     "text": [
      "rm -rf obj\n",
      "rm -rf lib\n",
      "rm -rf bin\n"
     ]
    }
   ],
   "source": [
    "sf.spinfoam_clean()"
   ]
  },
  {
   "cell_type": "markdown",
   "id": "5e4c026d-94ca-4853-b1f5-4902d69fdec3",
   "metadata": {},
   "source": [
    "If all dependencies are satisifed, the following cell should compile and build all the required files.\n",
    "\n",
    "Notice that you can also compile in debug mode with **spinfoam_compile_debug()**"
   ]
  },
  {
   "cell_type": "code",
   "execution_count": 18,
   "id": "c7c4265f-449d-41bd-850a-b07c215ec63e",
   "metadata": {},
   "outputs": [
    {
     "name": "stdout",
     "output_type": "stream",
     "text": [
      "make: Nessuna operazione da eseguire per «default».\n"
     ]
    }
   ],
   "source": [
    "sf.spinfoam_compile()"
   ]
  },
  {
   "cell_type": "markdown",
   "id": "8334c26a-3748-4cbc-a1bc-8ac7ccaa653c",
   "metadata": {},
   "source": [
    "## Step 2: Hashing tables of 21j Wigner symbols "
   ]
  },
  {
   "cell_type": "markdown",
   "id": "81574aea-08e5-490b-8b1b-eeea84ab94cd",
   "metadata": {},
   "source": [
    "Now we compute the hash tables with 21j Wigner symbols.\n",
    "\n",
    "We use the [parallel hashmap](https://github.com/greg7mdp/parallel-hashmap) in order to store the symbols, which will be retrieved during the next step"
   ]
  },
  {
   "cell_type": "code",
   "execution_count": 11,
   "id": "7f6ac00e-a8f7-4ca2-9d40-6872b9d50f2a",
   "metadata": {},
   "outputs": [],
   "source": [
    "# this is the folder with the pre-computed hash tables of 3j, 6j anf 9j Wigner symbols. \n",
    "# the latter were computed with _fastwigxj_ and _wigxjpf_\n",
    "fastwig_tables_path = \"./ext/fastwig_tables\"\n",
    "\n",
    "# this is the folder in which we decide to store the computed hash tables of 21j symbols\n",
    "hash_tables_path = \"./ext/hashed_21j\"\n",
    "\n",
    "# value of all boundary spins of the spinfoam\n",
    "spin = 2"
   ]
  },
  {
   "cell_type": "code",
   "execution_count": 12,
   "id": "70b4276d-88ae-4e55-b02f-4643f1fa27fb",
   "metadata": {},
   "outputs": [
    {
     "name": "stdout",
     "output_type": "stream",
     "text": [
      "Hashing all 21j symbols with j <= 2...\n",
      "done\n"
     ]
    }
   ],
   "source": [
    "sf.Hashing_21j_symbols(hash_tables_path, fastwig_tables_path, spin)"
   ]
  },
  {
   "cell_type": "markdown",
   "id": "3f1d1df2-c9c7-4843-80a6-c33b8d5e148d",
   "metadata": {},
   "source": [
    "## Step 3: Metropolis-Hastings run"
   ]
  },
  {
   "cell_type": "markdown",
   "id": "4b7619c1-ee6f-4eb8-9c32-5d830e8ecc0b",
   "metadata": {},
   "source": [
    "We can finally build the Markov chains by running the MH algorithm.\n",
    "\n",
    "We run in parallel a Markov chain for each provided thread"
   ]
  },
  {
   "cell_type": "code",
   "execution_count": 14,
   "id": "a4b563be",
   "metadata": {},
   "outputs": [],
   "source": [
    "# this is the folder in which we decide to store the draws\n",
    "draws_path = \"./data_folder/collected_draws\"\n",
    "\n",
    "# this is the folder with the pre-computed hash tables of 21j Wigner symbols (see Step 2). \n",
    "hash_tables_path = \"./ext/hashed_21j\"\n",
    "\n",
    "# MH parameters\n",
    "spin = 2\n",
    "length = 1000\n",
    "sigma = 0.4\n",
    "burnin = 10 \n",
    "verbosity = 0 \n",
    "\n",
    "# set optimal number of threads\n",
    "import multiprocessing\n",
    "number_of_threads = int(multiprocessing.cpu_count())"
   ]
  },
  {
   "cell_type": "code",
   "execution_count": 15,
   "id": "74ff8700-b4ec-4e8b-89bc-84f40e555a90",
   "metadata": {},
   "outputs": [
    {
     "data": {
      "text/plain": [
       "12"
      ]
     },
     "execution_count": 15,
     "metadata": {},
     "output_type": "execute_result"
    }
   ],
   "source": [
    "number_of_threads"
   ]
  },
  {
   "cell_type": "code",
   "execution_count": 16,
   "id": "e64ed585-75a5-4c42-8525-362fd1028e1a",
   "metadata": {},
   "outputs": [
    {
     "name": "stdout",
     "output_type": "stream",
     "text": [
      "Starting MH run with 12 threads...\n",
      "done\n"
     ]
    }
   ],
   "source": [
    "sf.Metropolis_Hastings_parallel_run(draws_path, hash_tables_path, spin, length, sigma, burnin, verbosity, number_of_threads)"
   ]
  },
  {
   "cell_type": "code",
   "execution_count": null,
   "id": "8e02e9cd-2e52-41bf-b6f0-6895212f9c4d",
   "metadata": {},
   "outputs": [],
   "source": []
  },
  {
   "cell_type": "code",
   "execution_count": null,
   "id": "a0c59a06-84cb-45ce-bd75-efd98c9d6651",
   "metadata": {},
   "outputs": [],
   "source": []
  },
  {
   "cell_type": "code",
   "execution_count": null,
   "id": "f6f48254-57d2-4d24-8f2e-ed41486a40b6",
   "metadata": {},
   "outputs": [],
   "source": []
  },
  {
   "cell_type": "code",
   "execution_count": null,
   "id": "b42e8378-96c0-4323-b179-04d784be2a30",
   "metadata": {},
   "outputs": [],
   "source": []
  },
  {
   "cell_type": "code",
   "execution_count": null,
   "id": "3f78ac53-7f69-49d9-b4f3-7aec8cfa43b7",
   "metadata": {},
   "outputs": [],
   "source": []
  },
  {
   "cell_type": "code",
   "execution_count": null,
   "id": "7bc7f821-98b6-406a-85d8-8989bf1a4f17",
   "metadata": {},
   "outputs": [],
   "source": []
  },
  {
   "cell_type": "markdown",
   "id": "9a082e74-2fa9-4586-b4ec-844ffba6697f",
   "metadata": {},
   "source": [
    "# Plots"
   ]
  },
  {
   "cell_type": "code",
   "execution_count": 6,
   "id": "a97c134c-a2c2-45c1-9c69-1764b3bd2f5e",
   "metadata": {},
   "outputs": [],
   "source": [
    "import matplotlib.pyplot as plt\n",
    "import seaborn as sns\n",
    "from matplotlib import rc\n",
    "import pandas as pd\n",
    "import numpy as np\n",
    "\n",
    "\n",
    "sns.set()\n",
    "sns.set_context(\"paper\", font_scale=1.5, rc={\"lines.linewidth\": 2.0})\n",
    "\n",
    "#---- This allows the use of LaTeX + the use sans-serif fonts also for tick labels:\n",
    "\n",
    "rc('text', usetex=True)\n",
    "#rc('text.latex', preamble=r'\\usepackage{cmbright}')\n",
    "\n",
    "# There are 5 presents for background: darkgrid, whitegrid, dark, white, and ticks\n",
    "# Define how ticks are placed and define font families\n",
    "\n",
    "sns.set_style(\"ticks\")\n",
    "sns.set_style(\"whitegrid\", \n",
    " {'axes.edgecolor': 'black',\n",
    " 'axes.grid': True,\n",
    " 'axes.axisbelow': True,\n",
    " 'axes.labelcolor': '.15',\n",
    " 'grid.color': '0.9',\n",
    " 'grid.linestyle': '-',\n",
    " 'xtick.direction': 'in', \n",
    " 'ytick.direction': 'in',\n",
    " 'xtick.bottom': True,\n",
    " 'xtick.top': True,\n",
    " 'ytick.left': True,\n",
    " 'ytick.right': True, \n",
    " 'font.family': ['sans-serif'],\n",
    " 'font.sans-serif': [\n",
    "  'Liberation Sans',\n",
    "  'Bitstream Vera Sans',\n",
    "  'sans-serif'],})"
   ]
  },
  {
   "cell_type": "code",
   "execution_count": 7,
   "id": "0062c15b-e02d-4974-bc63-c01d965c6c75",
   "metadata": {},
   "outputs": [],
   "source": [
    "size_hash_tables_in_MB = [12.8e-03, 409.5e-03, 6.55, 52.42, 209.71, 838.86, 3.35e+03, 6.71e+03]\n",
    "\n",
    "corresponding_spin = [0.5, 1, 1.5, 2, 2.5, 3, 3.5, 4]\n",
    "\n",
    "m, c = np.polyfit(np.log(corresponding_spin), np.log(size_hash_tables_in_MB), 1, w=np.sqrt(size_hash_tables_in_MB)) # fit log(y) = m*log(x) + c\n",
    "y_fit = np.exp(m*np.log(corresponding_spin) + c) # calculate the fitted values of y \n",
    "\n",
    "df = pd.DataFrame({\n",
    "   \"size\" : size_hash_tables_in_MB,\n",
    "   \"spin\" : corresponding_spin,\n",
    "    \"fit\" : y_fit\n",
    "    })"
   ]
  },
  {
   "cell_type": "code",
   "execution_count": 8,
   "id": "b3584db2-3c71-4c76-b1a7-c92868c860dc",
   "metadata": {},
   "outputs": [
    {
     "data": {
      "text/html": [
       "<div>\n",
       "<style scoped>\n",
       "    .dataframe tbody tr th:only-of-type {\n",
       "        vertical-align: middle;\n",
       "    }\n",
       "\n",
       "    .dataframe tbody tr th {\n",
       "        vertical-align: top;\n",
       "    }\n",
       "\n",
       "    .dataframe thead th {\n",
       "        text-align: right;\n",
       "    }\n",
       "</style>\n",
       "<table border=\"1\" class=\"dataframe\">\n",
       "  <thead>\n",
       "    <tr style=\"text-align: right;\">\n",
       "      <th></th>\n",
       "      <th>size</th>\n",
       "      <th>spin</th>\n",
       "      <th>fit</th>\n",
       "    </tr>\n",
       "  </thead>\n",
       "  <tbody>\n",
       "    <tr>\n",
       "      <th>0</th>\n",
       "      <td>0.0128</td>\n",
       "      <td>0.5</td>\n",
       "      <td>0.004545</td>\n",
       "    </tr>\n",
       "    <tr>\n",
       "      <th>1</th>\n",
       "      <td>0.4095</td>\n",
       "      <td>1.0</td>\n",
       "      <td>0.526787</td>\n",
       "    </tr>\n",
       "    <tr>\n",
       "      <th>2</th>\n",
       "      <td>6.5500</td>\n",
       "      <td>1.5</td>\n",
       "      <td>8.492613</td>\n",
       "    </tr>\n",
       "    <tr>\n",
       "      <th>3</th>\n",
       "      <td>52.4200</td>\n",
       "      <td>2.0</td>\n",
       "      <td>61.053381</td>\n",
       "    </tr>\n",
       "    <tr>\n",
       "      <th>4</th>\n",
       "      <td>209.7100</td>\n",
       "      <td>2.5</td>\n",
       "      <td>281.963782</td>\n",
       "    </tr>\n",
       "    <tr>\n",
       "      <th>5</th>\n",
       "      <td>838.8600</td>\n",
       "      <td>3.0</td>\n",
       "      <td>984.273892</td>\n",
       "    </tr>\n",
       "    <tr>\n",
       "      <th>6</th>\n",
       "      <td>3350.0000</td>\n",
       "      <td>3.5</td>\n",
       "      <td>2832.373455</td>\n",
       "    </tr>\n",
       "    <tr>\n",
       "      <th>7</th>\n",
       "      <td>6710.0000</td>\n",
       "      <td>4.0</td>\n",
       "      <td>7075.943061</td>\n",
       "    </tr>\n",
       "  </tbody>\n",
       "</table>\n",
       "</div>"
      ],
      "text/plain": [
       "        size  spin          fit\n",
       "0     0.0128   0.5     0.004545\n",
       "1     0.4095   1.0     0.526787\n",
       "2     6.5500   1.5     8.492613\n",
       "3    52.4200   2.0    61.053381\n",
       "4   209.7100   2.5   281.963782\n",
       "5   838.8600   3.0   984.273892\n",
       "6  3350.0000   3.5  2832.373455\n",
       "7  6710.0000   4.0  7075.943061"
      ]
     },
     "execution_count": 8,
     "metadata": {},
     "output_type": "execute_result"
    }
   ],
   "source": [
    "df"
   ]
  },
  {
   "cell_type": "code",
   "execution_count": 9,
   "id": "1cccb4fb-941d-4906-ace8-2f22141395af",
   "metadata": {},
   "outputs": [
    {
     "data": {
      "text/plain": [
       "[0.5, 1, 1.5, 2, 2.5, 3, 3.5, 4]"
      ]
     },
     "execution_count": 9,
     "metadata": {},
     "output_type": "execute_result"
    }
   ],
   "source": [
    "corresponding_spin"
   ]
  },
  {
   "cell_type": "code",
   "execution_count": 10,
   "id": "af5b4f52-0ba3-4227-9518-d91aec9036cf",
   "metadata": {},
   "outputs": [
    {
     "name": "stdout",
     "output_type": "stream",
     "text": [
      "[-0.69314718  0.          0.40546511  0.69314718  0.91629073  1.09861229\n",
      "  1.25276297  1.38629436]\n"
     ]
    }
   ],
   "source": [
    "logx = np.log(corresponding_spin)\n",
    "print(logx)"
   ]
  },
  {
   "cell_type": "code",
   "execution_count": 11,
   "id": "945da9b3-b3f3-4a5a-b36c-881ebdfdf6e5",
   "metadata": {},
   "outputs": [
    {
     "data": {
      "text/plain": [
       "[0.0128, 0.4095, 6.55, 52.42, 209.71, 838.86, 3350.0, 6710.0]"
      ]
     },
     "execution_count": 11,
     "metadata": {},
     "output_type": "execute_result"
    }
   ],
   "source": [
    "size_hash_tables_in_MB"
   ]
  },
  {
   "cell_type": "code",
   "execution_count": 12,
   "id": "ba4bad51-a8b2-4e28-a575-103ae6e3d182",
   "metadata": {},
   "outputs": [],
   "source": [
    "from matplotlib.ticker import ScalarFormatter"
   ]
  },
  {
   "cell_type": "code",
   "execution_count": 13,
   "id": "78edd7ba-424e-473b-9fc8-00d75bd19cc0",
   "metadata": {},
   "outputs": [
    {
     "data": {
      "image/png": "[encoded data removed]",
      "text/plain": [
       "<Figure size 864x486 with 1 Axes>"
      ]
     },
     "metadata": {},
     "output_type": "display_data"
    }
   ],
   "source": [
    "ax = df.plot(x='spin', y='size', s=50, xticks = corresponding_spin, \n",
    "             kind='scatter', grid='false', color='tab:blue', label='size',\n",
    "             logy=True, logx=True, figsize=(12,6.75))\n",
    "df.plot(x='spin', y='fit', ax=ax, kind='line', color='tab:orange', label='best fit')\n",
    "plt.ylabel(\"size (MB)\")\n",
    "plt.xlabel(\"boundary spin ($j$)\")\n",
    "plt.title('Hash table size')\n",
    "ax.xaxis.set_major_formatter(ScalarFormatter())\n",
    "\n",
    "\n",
    "plt.show()"
   ]
  },
  {
   "cell_type": "code",
   "execution_count": null,
   "id": "3d2b8afd-f494-4aa4-a297-fa80dd3a0b34",
   "metadata": {},
   "outputs": [],
   "source": []
  },
  {
   "cell_type": "code",
   "execution_count": null,
   "id": "79076db7-aa2e-484d-a429-082fa08b7452",
   "metadata": {},
   "outputs": [],
   "source": []
  },
  {
   "cell_type": "code",
   "execution_count": null,
   "id": "efeaf3a1-06e0-44b0-ad62-139022bd5a41",
   "metadata": {},
   "outputs": [],
   "source": []
  },
  {
   "cell_type": "code",
   "execution_count": null,
   "id": "064a34d9-52e5-4c08-a4f4-7ee83ba4cb44",
   "metadata": {},
   "outputs": [],
   "source": []
  },
  {
   "cell_type": "code",
   "execution_count": null,
   "id": "5ba2b06d-12b9-4bb8-a6e7-cfc8a1bd3831",
   "metadata": {},
   "outputs": [],
   "source": []
  },
  {
   "cell_type": "code",
   "execution_count": null,
   "id": "1fe08add-ca3e-4d15-ad94-e56d922af9cd",
   "metadata": {},
   "outputs": [],
   "source": []
  },
  {
   "cell_type": "code",
   "execution_count": null,
   "id": "be9c24a5-72a1-4f0d-be6c-df21d9d439f2",
   "metadata": {},
   "outputs": [],
   "source": []
  },
  {
   "cell_type": "code",
   "execution_count": 56,
   "id": "e0c4e799-5cda-4466-a0f9-417542a80f40",
   "metadata": {},
   "outputs": [
    {
     "name": "stdout",
     "output_type": "stream",
     "text": [
      "[0.1 0.3 0.5 0.7 0.9 1.1 1.3 1.5 1.7 1.9 2.1 2.3 2.5 2.7 2.9 3.1 3.3 3.5\n",
      " 3.7 3.9 4.1 4.3 4.5 4.7 4.9 5.1 5.3 5.5 5.7 5.9 6.1 6.3 6.5 6.7 6.9 7.1\n",
      " 7.3 7.5 7.7 7.9 8.1 8.3 8.5 8.7 8.9 9.1 9.3 9.5 9.7 9.9]\n"
     ]
    }
   ],
   "source": [
    "import numpy as np\n",
    "import matplotlib.pyplot as plt\n",
    "\n",
    "x_data = np.arange(0.1,10,0.2)    # generate some simple data starting in the range 0.1-10 with steps of 0.2\n",
    "print(x_data)                     # Let's check the data\n",
    "y_data = x_data**2  "
   ]
  },
  {
   "cell_type": "code",
   "execution_count": 68,
   "id": "6f181362-e1e5-4c78-9b69-a8be242d57dc",
   "metadata": {},
   "outputs": [
    {
     "data": {
      "image/png": "[encoded data removed]",
      "text/plain": [
       "<Figure size 432x288 with 1 Axes>"
      ]
     },
     "metadata": {},
     "output_type": "display_data"
    },
    {
     "data": {
      "image/png": "[encoded data removed]",
      "text/plain": [
       "<Figure size 432x288 with 1 Axes>"
      ]
     },
     "metadata": {},
     "output_type": "display_data"
    }
   ],
   "source": [
    "#=============================================================================\n",
    "#\n",
    "# Let's make the plot pretty with settings from above.\n",
    "#\n",
    "#  - Produces a publication quality plot for an article or thesis.\n",
    "#=============================================================================\n",
    "\n",
    "#---- Choose Seaborn colour palette. \n",
    "#     This is the only Seaborn piece in this cell, all the rest would work without it.\n",
    "#     The previous cell does all the decorations and that's what Seaborn did for us.\n",
    "#\n",
    "#     More palettes: See: https://seaborn.pydata.org/tutorial/color_palettes.html\n",
    "\n",
    "sns.set_palette(\"tab10\")\n",
    "\n",
    "#---- This allows modification of tick positions (& a few other things)\n",
    "\n",
    "from matplotlib.ticker import (AutoMinorLocator, MultipleLocator)\n",
    "fig, ax = plt.subplots(1,1)\n",
    "\n",
    "# Set x and y-minor ticks:\n",
    "\n",
    "ax.yaxis.set_minor_locator(MultipleLocator(5.0))\n",
    "ax.xaxis.set_minor_locator(MultipleLocator(1.0))\n",
    "\n",
    "#---- Plot data. One can use LaTeX for legends (label gets picked up by \n",
    "#     the legend part below).\n",
    "#     Linestyles and markers are more or less the same as in Matlab. See:\n",
    "#     https://matplotlib.org/2.0.2/api/markers_api.html#module-matplotlib.markers\n",
    "#     https://matplotlib.org/2.0.2/api/lines_api.html#matplotlib.lines.Line2D.set_linestyle\n",
    "\n",
    "plt.plot(x_data,y_data, label='$x^2$', linestyle=':', marker='D')\n",
    "\n",
    "#---- Axis labels and legend:\n",
    "\n",
    "plt.xlabel(\"x-axis\")\n",
    "plt.ylabel(\"y-axis\")\n",
    "plt.legend(title=\"Function\",loc='center right',fontsize='small',fancybox=True)\n",
    "\n",
    "#---- It's very easy to plot vertical and horizontal lines for example \n",
    "#     for the average values or put them in any arbitrary position.\n",
    "#     Linestyles are the same as in Matlab\n",
    "\n",
    "plt.axvline(x=np.mean(x_data), color='black', linestyle=':')\n",
    "plt.axhline(y=np.mean(y_data), color='black', linestyle='--')\n",
    "\n",
    "#---- You can add text using the coordinate positions (x,y)\n",
    "#     The example also shows how to concatenate text from extracted data\n",
    "\n",
    "plt.text(0, 80, 'Curve: $y=x^2$\\nAverage x value is: '+str(np.around(np.mean(x_data),decimals=2)), rotation=0)\n",
    "\n",
    "#---- Uncomment to save. First give a name. Then a high resolution png and svg files are generated\n",
    "\n",
    "#printfile = 'testplot'\n",
    "#plt.savefig(printfile+'.svg')\n",
    "#plt.savefig(printfile+'.png',dpi=300)\n",
    "\n",
    "#---- Show \n",
    "\n",
    "plt.show()\n",
    "\n",
    "#---- One can plot more so let's generate a log-log plot:\n",
    "\n",
    "plt.title('One can have a title too')\n",
    "plt.loglog(corresponding_spin, size_hash_tables_in_MB, label='$x^2$', marker='p',linestyle=' ')\n",
    "plt.legend(title=\"Function\",loc='upper left',fontsize='small',fancybox=True)\n",
    "\n",
    "plt.show()"
   ]
  },
  {
   "cell_type": "code",
   "execution_count": null,
   "id": "c9920b5d-fb4f-4344-b04d-7dcce21bf9b6",
   "metadata": {},
   "outputs": [],
   "source": []
  },
  {
   "cell_type": "code",
   "execution_count": null,
   "id": "f7bee9a6-3db4-4eb6-8e37-003910d1c805",
   "metadata": {},
   "outputs": [],
   "source": []
  },
  {
   "cell_type": "code",
   "execution_count": null,
   "id": "2b28774c-50b3-4112-a703-bda450560542",
   "metadata": {},
   "outputs": [],
   "source": []
  },
  {
   "cell_type": "code",
   "execution_count": null,
   "id": "45639290-aeca-433a-889c-9d8026f3645b",
   "metadata": {},
   "outputs": [],
   "source": []
  },
  {
   "cell_type": "code",
   "execution_count": 47,
   "id": "a079c351-1bc4-4f40-b783-c66f9801a0a7",
   "metadata": {},
   "outputs": [],
   "source": [
    "m, c = np.polyfit(np.log(corresponding_spin), np.log(size_hash_tables_in_MB), 1, w=np.sqrt(size_hash_tables_in_MB)) # fit log(y) = m*log(x) + c\n",
    "y_fit = np.exp(m*np.log(corresponding_spin) + c) # calculate the fitted values of y "
   ]
  },
  {
   "cell_type": "code",
   "execution_count": 48,
   "id": "9d752ca4-8b27-4404-b1ed-fdee0ebdfa42",
   "metadata": {},
   "outputs": [
    {
     "data": {
      "text/plain": [
       "array([4.54527854e-03, 5.26787076e-01, 8.49261343e+00, 6.10533812e+01,\n",
       "       2.81963782e+02, 9.84273892e+02, 2.83237346e+03, 7.07594306e+03])"
      ]
     },
     "execution_count": 48,
     "metadata": {},
     "output_type": "execute_result"
    }
   ],
   "source": [
    "y_fit"
   ]
  },
  {
   "cell_type": "code",
   "execution_count": 12,
   "id": "7ebb5591-411a-4a07-bc50-d5a4f5e42e7d",
   "metadata": {},
   "outputs": [],
   "source": [
    "import numpy as np\n",
    "logx = np.log(corresponding_spin)\n",
    "logy = np.log(size_hash_tables_in_MB)\n",
    "coeffs = np.polyfit(logx,logy,1)\n",
    "\n",
    "\n",
    "\n",
    "poly = np.poly1d(coeffs)"
   ]
  },
  {
   "cell_type": "code",
   "execution_count": 20,
   "id": "a28b7dfb-a7c1-4119-88c8-c740ce971e64",
   "metadata": {},
   "outputs": [
    {
     "data": {
      "text/plain": [
       "array([ 6.49349218, -0.40748445])"
      ]
     },
     "execution_count": 20,
     "metadata": {},
     "output_type": "execute_result"
    }
   ],
   "source": [
    "coeffs"
   ]
  },
  {
   "cell_type": "code",
   "execution_count": 13,
   "id": "0ad1f035-6fc4-42e8-84a5-066d314100e9",
   "metadata": {},
   "outputs": [],
   "source": [
    "yfit = lambda corresponding_spin: np.exp(poly(np.log(corresponding_spin)))"
   ]
  },
  {
   "cell_type": "code",
   "execution_count": 14,
   "id": "8f4abe1f-3010-449f-bf39-a41f4e1eb9dd",
   "metadata": {},
   "outputs": [
    {
     "data": {
      "text/plain": [
       "[<matplotlib.lines.Line2D at 0x7f66b9ba3fd0>]"
      ]
     },
     "execution_count": 14,
     "metadata": {},
     "output_type": "execute_result"
    },
    {
     "data": {
      "image/png": "[encoded data removed]",
      "text/plain": [
       "<Figure size 432x288 with 1 Axes>"
      ]
     },
     "metadata": {},
     "output_type": "display_data"
    }
   ],
   "source": [
    "plt.loglog(corresponding_spin, yfit(corresponding_spin))"
   ]
  },
  {
   "cell_type": "code",
   "execution_count": 22,
   "id": "0e096598-3068-4d25-a256-681a8ca33bf8",
   "metadata": {},
   "outputs": [
    {
     "data": {
      "text/plain": [
       "[<matplotlib.lines.Line2D at 0x7f66b949ea30>]"
      ]
     },
     "execution_count": 22,
     "metadata": {},
     "output_type": "execute_result"
    },
    {
     "data": {
      "image/png": "[encoded data removed]",
      "text/plain": [
       "<Figure size 432x288 with 1 Axes>"
      ]
     },
     "metadata": {},
     "output_type": "display_data"
    }
   ],
   "source": [
    "m, b = np. polyfit(np.log(corresponding_spin), np.log(size_hash_tables_in_MB), 1) #m = slope, b = intercept.\n",
    "plt.plot(logx, logy, 'o') #create scatter plot.\n",
    "plt.plot(logx, m*logx + b) #add line of best fit."
   ]
  },
  {
   "cell_type": "code",
   "execution_count": null,
   "id": "8b2a179b-0aa5-4a5d-97c7-9890b2ef6839",
   "metadata": {},
   "outputs": [],
   "source": []
  },
  {
   "cell_type": "code",
   "execution_count": null,
   "id": "b0a286df-11d4-4876-98dd-c39ea20b3e35",
   "metadata": {},
   "outputs": [],
   "source": []
  },
  {
   "cell_type": "code",
   "execution_count": null,
   "id": "36104e16",
   "metadata": {},
   "outputs": [],
   "source": [
    "sf.Hashing_21j_symbols(hash_tables_path, 2)"
   ]
  },
  {
   "cell_type": "code",
   "execution_count": null,
   "id": "a0efaf64-d818-4cf6-a37f-13585cc1fc77",
   "metadata": {},
   "outputs": [],
   "source": [
    "import threading\n",
    "from time import sleep"
   ]
  },
  {
   "cell_type": "code",
   "execution_count": null,
   "id": "cae6535e",
   "metadata": {},
   "outputs": [],
   "source": [
    "def task(id):\n",
    "    print(f'Starting the task {id}...')\n",
    "    sleep(1)\n",
    "    print('done')"
   ]
  },
  {
   "cell_type": "code",
   "execution_count": 37,
   "id": "6ae4732b-aef6-41aa-95ee-44caf2da8d65",
   "metadata": {},
   "outputs": [
    {
     "name": "stdout",
     "output_type": "stream",
     "text": [
      "Starting the task 1...\n",
      "Starting the task 2...\n",
      "Starting the task 3...\n",
      "Starting the task 4...\n",
      "Starting the task 5...\n",
      "Starting the task 6...\n",
      "Starting the task 7...\n",
      "Starting the task 8...\n",
      "Starting the task 9...\n",
      "Starting the task 10...\n",
      "done\n",
      "done\n",
      "done\n",
      "done\n",
      "done\n",
      "done\n",
      "done\n",
      "done\n",
      "done\n",
      "done\n"
     ]
    }
   ],
   "source": [
    "threads = []\n",
    "\n",
    "for n in range(1, 11):\n",
    "    t = threading.Thread(target=task, args=(n,))\n",
    "    threads.append(t)\n",
    "    t.start()\n",
    "\n",
    "for t in threads:\n",
    "    t.join()    "
   ]
  },
  {
   "cell_type": "code",
   "execution_count": null,
   "id": "9ac72780-571c-47a4-805d-2ce1e7bfd02f",
   "metadata": {},
   "outputs": [],
   "source": []
  },
  {
   "cell_type": "code",
   "execution_count": null,
   "id": "a372ee6f-2f2c-44b3-8c8d-bf4a742696dd",
   "metadata": {},
   "outputs": [],
   "source": [
    "from ctypes import *\n",
    "\n",
    "so_file = \"/home/frisus95/Scrivania/Final_project/lib/libshared.so\"\n",
    "my_functions = CDLL(so_file)"
   ]
  },
  {
   "cell_type": "code",
   "execution_count": 9,
   "id": "67005ced-c499-467e-a7ae-7c8c20dd764e",
   "metadata": {},
   "outputs": [
    {
     "name": "stdout",
     "output_type": "stream",
     "text": [
      "done. Time elapsed: 0.215507 seconds.\n",
      "33%% of draws have been accepted\n",
      "chain with dspin 1 destroyed\n"
     ]
    }
   ],
   "source": [
    "my_functions._Z6MH_runPcS_iidii(\n",
    "    b\"/home/frisus95/Scrivania/Final_project/data_folder\",\n",
    "    b\"/home/frisus95/Scrivania/Final_project/data_folder/hashed_21j\", 1,\n",
    "    100000, c_double(0.4), 10, 0)\n"
   ]
  },
  {
   "cell_type": "code",
   "execution_count": 28,
   "id": "d9158c9f-f9e9-4280-90f4-6a3b3216617d",
   "metadata": {},
   "outputs": [
    {
     "name": "stdout",
     "output_type": "stream",
     "text": [
      "done. Time elapsed: 0.002927 seconds.\n",
      "39%% of draws have been accepted\n"
     ]
    },
    {
     "data": {
      "text/plain": [
       "0"
      ]
     },
     "execution_count": 28,
     "metadata": {},
     "output_type": "execute_result"
    },
    {
     "name": "stdout",
     "output_type": "stream",
     "text": [
      "chain with dspin 2 destroyed\n"
     ]
    }
   ],
   "source": [
    "my_functions._Z5funzav(c_double(3.14))\n"
   ]
  },
  {
   "cell_type": "code",
   "execution_count": 22,
   "id": "716f1967-2aac-4148-80d9-9a82a4549a5b",
   "metadata": {},
   "outputs": [],
   "source": [
    "# Import packages\n",
    "import os\n",
    "\n",
    "import matplotlib.pyplot as plt\n",
    "import pandas as pd"
   ]
  },
  {
   "cell_type": "code",
   "execution_count": 15,
   "id": "c30302db",
   "metadata": {},
   "outputs": [],
   "source": [
    "df = pd.read_csv(\n",
    "    \"/home/frisus95/Scrivania/Final_project/data_folder/collected_draws/j_1/N_1000000__sigma_0.4__burnin_100.csv\"\n",
    ")\n"
   ]
  },
  {
   "cell_type": "code",
   "execution_count": 16,
   "id": "9f76f66d",
   "metadata": {},
   "outputs": [
    {
     "data": {
      "text/html": [
       "<div>\n",
       "<style scoped>\n",
       "    .dataframe tbody tr th:only-of-type {\n",
       "        vertical-align: middle;\n",
       "    }\n",
       "\n",
       "    .dataframe tbody tr th {\n",
       "        vertical-align: top;\n",
       "    }\n",
       "\n",
       "    .dataframe thead th {\n",
       "        text-align: right;\n",
       "    }\n",
       "</style>\n",
       "<table border=\"1\" class=\"dataframe\">\n",
       "  <thead>\n",
       "    <tr style=\"text-align: right;\">\n",
       "      <th></th>\n",
       "      <th>intertwiner 1</th>\n",
       "      <th>intertwiner 2</th>\n",
       "      <th>intertwiner 3</th>\n",
       "      <th>intertwiner 4</th>\n",
       "      <th>intertwiner 5</th>\n",
       "      <th>intertwiner 6</th>\n",
       "      <th>intertwiner 7</th>\n",
       "      <th>intertwiner 8</th>\n",
       "      <th>intertwiner 9</th>\n",
       "      <th>intertwiner 10</th>\n",
       "      <th>intertwiner 11</th>\n",
       "      <th>intertwiner 12</th>\n",
       "      <th>intertwiner 13</th>\n",
       "      <th>intertwiner 14</th>\n",
       "      <th>intertwiner 15</th>\n",
       "      <th>intertwiner 16</th>\n",
       "      <th>draw molteplicity</th>\n",
       "      <th>draw amplitude</th>\n",
       "    </tr>\n",
       "  </thead>\n",
       "  <tbody>\n",
       "    <tr>\n",
       "      <th>0</th>\n",
       "      <td>2</td>\n",
       "      <td>0</td>\n",
       "      <td>2</td>\n",
       "      <td>2</td>\n",
       "      <td>1</td>\n",
       "      <td>0</td>\n",
       "      <td>1</td>\n",
       "      <td>0</td>\n",
       "      <td>2</td>\n",
       "      <td>2</td>\n",
       "      <td>0</td>\n",
       "      <td>1</td>\n",
       "      <td>0</td>\n",
       "      <td>2</td>\n",
       "      <td>0</td>\n",
       "      <td>1</td>\n",
       "      <td>4</td>\n",
       "      <td>-2.063960e-07</td>\n",
       "    </tr>\n",
       "    <tr>\n",
       "      <th>1</th>\n",
       "      <td>2</td>\n",
       "      <td>0</td>\n",
       "      <td>2</td>\n",
       "      <td>2</td>\n",
       "      <td>1</td>\n",
       "      <td>0</td>\n",
       "      <td>1</td>\n",
       "      <td>0</td>\n",
       "      <td>2</td>\n",
       "      <td>1</td>\n",
       "      <td>0</td>\n",
       "      <td>1</td>\n",
       "      <td>0</td>\n",
       "      <td>2</td>\n",
       "      <td>0</td>\n",
       "      <td>2</td>\n",
       "      <td>3</td>\n",
       "      <td>1.831690e-07</td>\n",
       "    </tr>\n",
       "    <tr>\n",
       "      <th>2</th>\n",
       "      <td>1</td>\n",
       "      <td>0</td>\n",
       "      <td>2</td>\n",
       "      <td>2</td>\n",
       "      <td>0</td>\n",
       "      <td>0</td>\n",
       "      <td>1</td>\n",
       "      <td>0</td>\n",
       "      <td>2</td>\n",
       "      <td>0</td>\n",
       "      <td>0</td>\n",
       "      <td>1</td>\n",
       "      <td>1</td>\n",
       "      <td>2</td>\n",
       "      <td>0</td>\n",
       "      <td>2</td>\n",
       "      <td>1</td>\n",
       "      <td>-2.307580e-07</td>\n",
       "    </tr>\n",
       "    <tr>\n",
       "      <th>3</th>\n",
       "      <td>1</td>\n",
       "      <td>0</td>\n",
       "      <td>2</td>\n",
       "      <td>2</td>\n",
       "      <td>1</td>\n",
       "      <td>0</td>\n",
       "      <td>1</td>\n",
       "      <td>1</td>\n",
       "      <td>2</td>\n",
       "      <td>0</td>\n",
       "      <td>0</td>\n",
       "      <td>2</td>\n",
       "      <td>1</td>\n",
       "      <td>2</td>\n",
       "      <td>0</td>\n",
       "      <td>2</td>\n",
       "      <td>5</td>\n",
       "      <td>1.127080e-06</td>\n",
       "    </tr>\n",
       "    <tr>\n",
       "      <th>4</th>\n",
       "      <td>1</td>\n",
       "      <td>0</td>\n",
       "      <td>2</td>\n",
       "      <td>2</td>\n",
       "      <td>0</td>\n",
       "      <td>0</td>\n",
       "      <td>1</td>\n",
       "      <td>1</td>\n",
       "      <td>2</td>\n",
       "      <td>0</td>\n",
       "      <td>0</td>\n",
       "      <td>2</td>\n",
       "      <td>1</td>\n",
       "      <td>2</td>\n",
       "      <td>0</td>\n",
       "      <td>2</td>\n",
       "      <td>2</td>\n",
       "      <td>1.047860e-06</td>\n",
       "    </tr>\n",
       "    <tr>\n",
       "      <th>...</th>\n",
       "      <td>...</td>\n",
       "      <td>...</td>\n",
       "      <td>...</td>\n",
       "      <td>...</td>\n",
       "      <td>...</td>\n",
       "      <td>...</td>\n",
       "      <td>...</td>\n",
       "      <td>...</td>\n",
       "      <td>...</td>\n",
       "      <td>...</td>\n",
       "      <td>...</td>\n",
       "      <td>...</td>\n",
       "      <td>...</td>\n",
       "      <td>...</td>\n",
       "      <td>...</td>\n",
       "      <td>...</td>\n",
       "      <td>...</td>\n",
       "      <td>...</td>\n",
       "    </tr>\n",
       "    <tr>\n",
       "      <th>201124</th>\n",
       "      <td>2</td>\n",
       "      <td>1</td>\n",
       "      <td>2</td>\n",
       "      <td>1</td>\n",
       "      <td>1</td>\n",
       "      <td>0</td>\n",
       "      <td>1</td>\n",
       "      <td>2</td>\n",
       "      <td>0</td>\n",
       "      <td>0</td>\n",
       "      <td>2</td>\n",
       "      <td>0</td>\n",
       "      <td>0</td>\n",
       "      <td>0</td>\n",
       "      <td>2</td>\n",
       "      <td>2</td>\n",
       "      <td>3</td>\n",
       "      <td>-1.070200e-07</td>\n",
       "    </tr>\n",
       "    <tr>\n",
       "      <th>201125</th>\n",
       "      <td>2</td>\n",
       "      <td>1</td>\n",
       "      <td>1</td>\n",
       "      <td>1</td>\n",
       "      <td>1</td>\n",
       "      <td>0</td>\n",
       "      <td>1</td>\n",
       "      <td>2</td>\n",
       "      <td>0</td>\n",
       "      <td>1</td>\n",
       "      <td>2</td>\n",
       "      <td>0</td>\n",
       "      <td>0</td>\n",
       "      <td>0</td>\n",
       "      <td>2</td>\n",
       "      <td>2</td>\n",
       "      <td>1</td>\n",
       "      <td>4.141810e-08</td>\n",
       "    </tr>\n",
       "    <tr>\n",
       "      <th>201126</th>\n",
       "      <td>2</td>\n",
       "      <td>2</td>\n",
       "      <td>1</td>\n",
       "      <td>2</td>\n",
       "      <td>0</td>\n",
       "      <td>1</td>\n",
       "      <td>1</td>\n",
       "      <td>2</td>\n",
       "      <td>0</td>\n",
       "      <td>1</td>\n",
       "      <td>2</td>\n",
       "      <td>1</td>\n",
       "      <td>1</td>\n",
       "      <td>0</td>\n",
       "      <td>2</td>\n",
       "      <td>2</td>\n",
       "      <td>8</td>\n",
       "      <td>1.672260e-07</td>\n",
       "    </tr>\n",
       "    <tr>\n",
       "      <th>201127</th>\n",
       "      <td>2</td>\n",
       "      <td>2</td>\n",
       "      <td>1</td>\n",
       "      <td>2</td>\n",
       "      <td>0</td>\n",
       "      <td>1</td>\n",
       "      <td>0</td>\n",
       "      <td>2</td>\n",
       "      <td>0</td>\n",
       "      <td>1</td>\n",
       "      <td>2</td>\n",
       "      <td>1</td>\n",
       "      <td>1</td>\n",
       "      <td>1</td>\n",
       "      <td>1</td>\n",
       "      <td>2</td>\n",
       "      <td>2</td>\n",
       "      <td>-2.038570e-07</td>\n",
       "    </tr>\n",
       "    <tr>\n",
       "      <th>201128</th>\n",
       "      <td>2</td>\n",
       "      <td>2</td>\n",
       "      <td>1</td>\n",
       "      <td>2</td>\n",
       "      <td>0</td>\n",
       "      <td>0</td>\n",
       "      <td>0</td>\n",
       "      <td>2</td>\n",
       "      <td>0</td>\n",
       "      <td>1</td>\n",
       "      <td>1</td>\n",
       "      <td>1</td>\n",
       "      <td>1</td>\n",
       "      <td>1</td>\n",
       "      <td>2</td>\n",
       "      <td>2</td>\n",
       "      <td>2</td>\n",
       "      <td>-3.002230e-07</td>\n",
       "    </tr>\n",
       "  </tbody>\n",
       "</table>\n",
       "<p>201129 rows × 18 columns</p>\n",
       "</div>"
      ],
      "text/plain": [
       "        intertwiner 1  intertwiner 2  intertwiner 3  intertwiner 4  \\\n",
       "0                   2              0              2              2   \n",
       "1                   2              0              2              2   \n",
       "2                   1              0              2              2   \n",
       "3                   1              0              2              2   \n",
       "4                   1              0              2              2   \n",
       "...               ...            ...            ...            ...   \n",
       "201124              2              1              2              1   \n",
       "201125              2              1              1              1   \n",
       "201126              2              2              1              2   \n",
       "201127              2              2              1              2   \n",
       "201128              2              2              1              2   \n",
       "\n",
       "        intertwiner 5  intertwiner 6  intertwiner 7  intertwiner 8  \\\n",
       "0                   1              0              1              0   \n",
       "1                   1              0              1              0   \n",
       "2                   0              0              1              0   \n",
       "3                   1              0              1              1   \n",
       "4                   0              0              1              1   \n",
       "...               ...            ...            ...            ...   \n",
       "201124              1              0              1              2   \n",
       "201125              1              0              1              2   \n",
       "201126              0              1              1              2   \n",
       "201127              0              1              0              2   \n",
       "201128              0              0              0              2   \n",
       "\n",
       "        intertwiner 9  intertwiner 10  intertwiner 11  intertwiner 12  \\\n",
       "0                   2               2               0               1   \n",
       "1                   2               1               0               1   \n",
       "2                   2               0               0               1   \n",
       "3                   2               0               0               2   \n",
       "4                   2               0               0               2   \n",
       "...               ...             ...             ...             ...   \n",
       "201124              0               0               2               0   \n",
       "201125              0               1               2               0   \n",
       "201126              0               1               2               1   \n",
       "201127              0               1               2               1   \n",
       "201128              0               1               1               1   \n",
       "\n",
       "        intertwiner 13  intertwiner 14  intertwiner 15  intertwiner 16  \\\n",
       "0                    0               2               0               1   \n",
       "1                    0               2               0               2   \n",
       "2                    1               2               0               2   \n",
       "3                    1               2               0               2   \n",
       "4                    1               2               0               2   \n",
       "...                ...             ...             ...             ...   \n",
       "201124               0               0               2               2   \n",
       "201125               0               0               2               2   \n",
       "201126               1               0               2               2   \n",
       "201127               1               1               1               2   \n",
       "201128               1               1               2               2   \n",
       "\n",
       "        draw molteplicity   draw amplitude  \n",
       "0                        4   -2.063960e-07  \n",
       "1                        3    1.831690e-07  \n",
       "2                        1   -2.307580e-07  \n",
       "3                        5    1.127080e-06  \n",
       "4                        2    1.047860e-06  \n",
       "...                    ...             ...  \n",
       "201124                   3   -1.070200e-07  \n",
       "201125                   1    4.141810e-08  \n",
       "201126                   8    1.672260e-07  \n",
       "201127                   2   -2.038570e-07  \n",
       "201128                   2   -3.002230e-07  \n",
       "\n",
       "[201129 rows x 18 columns]"
      ]
     },
     "execution_count": 16,
     "metadata": {},
     "output_type": "execute_result"
    }
   ],
   "source": [
    "df"
   ]
  },
  {
   "cell_type": "code",
   "execution_count": null,
   "id": "7bfd1de3",
   "metadata": {},
   "outputs": [],
   "source": [
    "for i, j in df.iterrows():\n",
    "    print(i, j)\n",
    "    print()"
   ]
  },
  {
   "cell_type": "code",
   "execution_count": 17,
   "id": "cf65ec84-297c-46db-8c2c-7950c15facc0",
   "metadata": {},
   "outputs": [],
   "source": [
    "total_rows = len(df)"
   ]
  },
  {
   "cell_type": "code",
   "execution_count": 18,
   "id": "6224d83d",
   "metadata": {},
   "outputs": [],
   "source": [
    "columns = list(df)"
   ]
  },
  {
   "cell_type": "code",
   "execution_count": 19,
   "id": "7804c234",
   "metadata": {},
   "outputs": [
    {
     "data": {
      "text/plain": [
       "['intertwiner 1',\n",
       " 'intertwiner 2',\n",
       " 'intertwiner 3',\n",
       " 'intertwiner 4',\n",
       " 'intertwiner 5',\n",
       " 'intertwiner 6',\n",
       " 'intertwiner 7',\n",
       " 'intertwiner 8',\n",
       " 'intertwiner 9',\n",
       " 'intertwiner 10',\n",
       " 'intertwiner 11',\n",
       " 'intertwiner 12',\n",
       " 'intertwiner 13',\n",
       " 'intertwiner 14',\n",
       " 'intertwiner 15',\n",
       " 'intertwiner 16',\n",
       " 'draw molteplicity ',\n",
       " 'draw amplitude']"
      ]
     },
     "execution_count": 19,
     "metadata": {},
     "output_type": "execute_result"
    }
   ],
   "source": [
    "columns"
   ]
  },
  {
   "cell_type": "code",
   "execution_count": 20,
   "id": "08d4f8c1-9674-4ee3-98ad-0790d5080528",
   "metadata": {},
   "outputs": [
    {
     "name": "stdout",
     "output_type": "stream",
     "text": [
      "2\n",
      "0\n",
      "2\n",
      "2\n",
      "1\n",
      "0\n",
      "1\n",
      "0\n",
      "2\n",
      "1\n",
      "0\n",
      "1\n",
      "0\n",
      "2\n",
      "0\n",
      "2\n",
      "3\n",
      "1.83169e-07\n"
     ]
    }
   ],
   "source": [
    "for i in columns:\n",
    "\n",
    "    # printing the third element of the column\n",
    "    print(df[i][1])\n"
   ]
  },
  {
   "cell_type": "code",
   "execution_count": 21,
   "id": "686b8d47-5681-40dd-8216-63d0f0c3f3b2",
   "metadata": {},
   "outputs": [
    {
     "data": {
      "text/plain": [
       "0"
      ]
     },
     "execution_count": 21,
     "metadata": {},
     "output_type": "execute_result"
    }
   ],
   "source": [
    "df['intertwiner 1'][100]"
   ]
  },
  {
   "cell_type": "code",
   "execution_count": 24,
   "id": "154af811-098a-4835-94f5-c01849ac0eb5",
   "metadata": {},
   "outputs": [],
   "source": [
    "angle = 0.0\n",
    "\n",
    "for i in range(total_rows):\n",
    "    angle += (((df['intertwiner 1'][i]) *\n",
    "               (df['intertwiner 1'][i] + 1) - 2 * 1 * (1 + 1)) /\n",
    "              (2 * 1 * (1 + 1))) * df['draw molteplicity '][i]\n"
   ]
  },
  {
   "cell_type": "code",
   "execution_count": 25,
   "id": "a6235d02-1657-42b0-b554-ec8f6c4823d7",
   "metadata": {},
   "outputs": [
    {
     "data": {
      "text/plain": [
       "-0.3313526352635264"
      ]
     },
     "execution_count": 25,
     "metadata": {},
     "output_type": "execute_result"
    }
   ],
   "source": [
    "angle / (1000000 - 100)\n"
   ]
  },
  {
   "cell_type": "code",
   "execution_count": null,
   "id": "f93c6689-c307-488c-aba9-20cefb4fb53d",
   "metadata": {},
   "outputs": [],
   "source": []
  }
 ],
 "metadata": {
  "kernelspec": {
   "display_name": "Python 3 (ipykernel)",
   "language": "python",
   "name": "python3"
  },
  "language_info": {
   "codemirror_mode": {
    "name": "ipython",
    "version": 3
   },
   "file_extension": ".py",
   "mimetype": "text/x-python",
   "name": "python",
   "nbconvert_exporter": "python",
   "pygments_lexer": "ipython3",
   "version": "3.9.7"
  }
 },
 "nbformat": 4,
 "nbformat_minor": 5
}
