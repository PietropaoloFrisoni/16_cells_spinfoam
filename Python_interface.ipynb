{
 "cells": [
  {
   "cell_type": "markdown",
   "id": "3e47b776-89dd-4f71-9ef6-b954e5368efd",
   "metadata": {},
   "source": [
    "# Python interface"
   ]
  },
  {
   "cell_type": "markdown",
   "id": "ea564d13-01d1-4a42-a177-96146ebb52af",
   "metadata": {},
   "source": [
    "## Step 1: creating the **spinfoam** shared library"
   ]
  },
  {
   "cell_type": "markdown",
   "id": "8de91852-d629-40c6-adf5-ea96c0ba52b3",
   "metadata": {},
   "source": [
    "Let's start importing the *spinfoam.py* module "
   ]
  },
  {
   "cell_type": "code",
   "execution_count": 70,
   "id": "3d982fc5-a9a2-4501-8d45-181955fad376",
   "metadata": {},
   "outputs": [],
   "source": [
    "import spinfoam as sf"
   ]
  },
  {
   "cell_type": "markdown",
   "id": "30041d2d-0b5b-472d-ac90-1e9adc05d561",
   "metadata": {},
   "source": [
    "We clean all the previous executable and object files, along with the corresponding folders"
   ]
  },
  {
   "cell_type": "code",
   "execution_count": 2,
   "id": "367bbbac-1170-4c2d-a690-e5660dde5be5",
   "metadata": {},
   "outputs": [
    {
     "name": "stdout",
     "output_type": "stream",
     "text": [
      "rm -rf obj\n",
      "rm -rf lib\n",
      "rm -rf bin\n"
     ]
    }
   ],
   "source": [
    "sf.spinfoam_clean()"
   ]
  },
  {
   "cell_type": "markdown",
   "id": "5e4c026d-94ca-4853-b1f5-4902d69fdec3",
   "metadata": {},
   "source": [
    "If all dependencies are satisifed, the following cell should compile and build all the required files.\n",
    "\n",
    "Notice that you can also compile in debug mode with **spinfoam_compile_debug()**"
   ]
  },
  {
   "cell_type": "code",
   "execution_count": 71,
   "id": "c7c4265f-449d-41bd-850a-b07c215ec63e",
   "metadata": {},
   "outputs": [
    {
     "name": "stdout",
     "output_type": "stream",
     "text": [
      "make: Nessuna operazione da eseguire per «default».\n"
     ]
    }
   ],
   "source": [
    "sf.spinfoam_compile()"
   ]
  },
  {
   "cell_type": "markdown",
   "id": "8334c26a-3748-4cbc-a1bc-8ac7ccaa653c",
   "metadata": {},
   "source": [
    "## Step 2: Hashing tables of 21j Wigner symbols "
   ]
  },
  {
   "cell_type": "markdown",
   "id": "81574aea-08e5-490b-8b1b-eeea84ab94cd",
   "metadata": {},
   "source": [
    "Now we compute the hash tables with 21j Wigner symbols, which will be retrieved during the next step.\n",
    "These tables are, in fact, a key ingredient for the Metropolis-Hastings algorithm which we implement in step 3.\n",
    "\n",
    "For the calculation, we use the _wigxjpf_ and _fastwigxj_ libraries [Johansson et al., 2015].\n",
    "For ease of use, all the necessary hash tables of 3j, 6j and 9j Wigner symbols have been previously computed and stored in `./ext/fastwig_tables/`.\n",
    "\n",
    "We use the [parallel hashmap](https://github.com/greg7mdp/parallel-hashmap) in order to store the 21j Wigner symbols hash tables. "
   ]
  },
  {
   "cell_type": "code",
   "execution_count": 72,
   "id": "7f6ac00e-a8f7-4ca2-9d40-6872b9d50f2a",
   "metadata": {},
   "outputs": [],
   "source": [
    "# this is the folder with the pre-computed hash tables of 3j, 6j and 9j Wigner symbols. \n",
    "# Jupyter kernel dies if tables are not found (C function returns \"EXIT FAILURE\")\n",
    "fastwig_tables_path = \"./ext/fastwig_tables\"\n",
    "\n",
    "# this is the folder in which we decide to store the computed hash tables of 21j symbols\n",
    "hash_tables_path = \"./ext/hashed_21j\"\n",
    "\n",
    "# value of all boundary spins of the spinfoam\n",
    "spin = 0.5"
   ]
  },
  {
   "cell_type": "code",
   "execution_count": 73,
   "id": "70b4276d-88ae-4e55-b02f-4643f1fa27fb",
   "metadata": {},
   "outputs": [
    {
     "name": "stdout",
     "output_type": "stream",
     "text": [
      "Hashing all 21j symbols with j <= 0.5...\n",
      "Completed! The hash table has been stored\n"
     ]
    }
   ],
   "source": [
    "sf.Hashing_21j_symbols(hash_tables_path, fastwig_tables_path, spin)"
   ]
  },
  {
   "cell_type": "markdown",
   "id": "3f1d1df2-c9c7-4843-80a6-c33b8d5e148d",
   "metadata": {},
   "source": [
    "## Step 3: Metropolis-Hastings run"
   ]
  },
  {
   "cell_type": "markdown",
   "id": "4b7619c1-ee6f-4eb8-9c32-5d830e8ecc0b",
   "metadata": {},
   "source": [
    "We can finally compute and assemble the Markov chains by running the MH algorithm. The computed draws are stored in the given folder.\n",
    "\n",
    "We run in parallel an independent Markov chain for each provided thread.\n",
    "\n",
    "Each thread retrieves from the 21j hash table (computed in step 2) the required symbol, according to the position in the spins configuration space"
   ]
  },
  {
   "cell_type": "code",
   "execution_count": 74,
   "id": "a4b563be",
   "metadata": {},
   "outputs": [],
   "source": [
    "# this is the folder in which we decide to store the draws\n",
    "draws_path = \"./data_folder/collected_draws\"\n",
    "\n",
    "# this is the folder with the pre-computed hash tables of 21j Wigner symbols (see Step 2). \n",
    "# Jupyter kernel dies if tables are not found (C function returns \"EXIT FAILURE\")\n",
    "hash_tables_path = \"./ext/hashed_21j\"\n",
    "\n",
    "# MH parameters\n",
    "spin = 2\n",
    "length = 1000\n",
    "sigma = 0.4\n",
    "burnin = 10 \n",
    "verbosity = 0 \n",
    "\n",
    "# set optimal number of threads\n",
    "import multiprocessing\n",
    "number_of_threads = int(multiprocessing.cpu_count())"
   ]
  },
  {
   "cell_type": "code",
   "execution_count": 75,
   "id": "74ff8700-b4ec-4e8b-89bc-84f40e555a90",
   "metadata": {},
   "outputs": [
    {
     "data": {
      "text/plain": [
       "12"
      ]
     },
     "execution_count": 75,
     "metadata": {},
     "output_type": "execute_result"
    }
   ],
   "source": [
    "number_of_threads"
   ]
  },
  {
   "cell_type": "code",
   "execution_count": 76,
   "id": "e64ed585-75a5-4c42-8525-362fd1028e1a",
   "metadata": {},
   "outputs": [
    {
     "name": "stdout",
     "output_type": "stream",
     "text": [
      "Starting 12 independent Markov chains...\n",
      "Completed! All draws have been stored\n"
     ]
    }
   ],
   "source": [
    "sf.Metropolis_Hastings_parallel_run(draws_path, hash_tables_path, spin, length, sigma, burnin, verbosity, number_of_threads)"
   ]
  },
  {
   "cell_type": "code",
   "execution_count": null,
   "id": "8e02e9cd-2e52-41bf-b6f0-6895212f9c4d",
   "metadata": {},
   "outputs": [],
   "source": []
  },
  {
   "cell_type": "code",
   "execution_count": null,
   "id": "a0c59a06-84cb-45ce-bd75-efd98c9d6651",
   "metadata": {},
   "outputs": [],
   "source": []
  },
  {
   "cell_type": "code",
   "execution_count": null,
   "id": "f6f48254-57d2-4d24-8f2e-ed41486a40b6",
   "metadata": {},
   "outputs": [],
   "source": []
  },
  {
   "cell_type": "code",
   "execution_count": null,
   "id": "b42e8378-96c0-4323-b179-04d784be2a30",
   "metadata": {},
   "outputs": [],
   "source": []
  },
  {
   "cell_type": "code",
   "execution_count": null,
   "id": "3f78ac53-7f69-49d9-b4f3-7aec8cfa43b7",
   "metadata": {},
   "outputs": [],
   "source": []
  },
  {
   "cell_type": "code",
   "execution_count": null,
   "id": "7bc7f821-98b6-406a-85d8-8989bf1a4f17",
   "metadata": {},
   "outputs": [],
   "source": []
  },
  {
   "cell_type": "markdown",
   "id": "9a082e74-2fa9-4586-b4ec-844ffba6697f",
   "metadata": {},
   "source": [
    "# Plots"
   ]
  },
  {
   "cell_type": "code",
   "execution_count": 1,
   "id": "a97c134c-a2c2-45c1-9c69-1764b3bd2f5e",
   "metadata": {},
   "outputs": [],
   "source": [
    "import matplotlib.pyplot as plt\n",
    "import seaborn as sns\n",
    "from matplotlib import rc\n",
    "import pandas as pd\n",
    "import numpy as np\n",
    "\n",
    "# Setting plot style\n",
    "\n",
    "sns.set()\n",
    "sns.set_context(\"paper\", font_scale=1.5, rc={\"lines.linewidth\": 2.0})\n",
    "\n",
    "rc('text', usetex=True)\n",
    "\n",
    "sns.set_style(\"ticks\")\n",
    "sns.set_style(\"whitegrid\", \n",
    " {'axes.edgecolor': 'black',\n",
    " 'axes.grid': True,\n",
    " 'axes.axisbelow': True,\n",
    " 'axes.labelcolor': '.15',\n",
    " 'grid.color': '0.9',\n",
    " 'grid.linestyle': '-',\n",
    " 'xtick.direction': 'in', \n",
    " 'ytick.direction': 'in',\n",
    " 'xtick.bottom': True,\n",
    " 'xtick.top': True,\n",
    " 'ytick.left': True,\n",
    " 'ytick.right': True, \n",
    " 'font.family': ['sans-serif'],\n",
    " 'font.sans-serif': [\n",
    "  'Liberation Sans',\n",
    "  'Bitstream Vera Sans',\n",
    "  'sans-serif'],})"
   ]
  },
  {
   "cell_type": "markdown",
   "id": "43116282-add7-4ab4-bd1c-3ccda6c4b4e4",
   "metadata": {},
   "source": [
    "## Loglog plot (with fit) of hash tables size"
   ]
  },
  {
   "cell_type": "markdown",
   "id": "48b7633b-8b3a-4399-844b-8d8485f04e7e",
   "metadata": {},
   "source": [
    "We want to understand how fast the size of 21j Wigner symbols hash tables increases as a function of boundary spin j"
   ]
  },
  {
   "cell_type": "code",
   "execution_count": 13,
   "id": "0062c15b-e02d-4974-bc63-c01d965c6c75",
   "metadata": {},
   "outputs": [],
   "source": [
    "size_hash_tables_in_MB = [12.8e-03, 409.5e-03, 6.55, 52.42, 209.71, 838.86, 3.35e+03, 6.71e+03]\n",
    "corresponding_spin = [0.5, 1, 1.5, 2, 2.5, 3, 3.5, 4]\n",
    "\n",
    "# fit log(size) = m*log(j) + c\n",
    "m, c = np.polyfit(np.log(corresponding_spin), np.log(size_hash_tables_in_MB), 1, w=np.sqrt(size_hash_tables_in_MB)) \n",
    "size_fit = np.exp(m*np.log(corresponding_spin) + c) \n",
    "\n",
    "df = pd.DataFrame({\n",
    "   \"spin\" : corresponding_spin,\n",
    "   \"table_size\" : size_hash_tables_in_MB,\n",
    "   \"fitted_data\" : size_fit\n",
    "    })"
   ]
  },
  {
   "cell_type": "code",
   "execution_count": 14,
   "id": "b3584db2-3c71-4c76-b1a7-c92868c860dc",
   "metadata": {},
   "outputs": [
    {
     "data": {
      "text/html": [
       "<div>\n",
       "<style scoped>\n",
       "    .dataframe tbody tr th:only-of-type {\n",
       "        vertical-align: middle;\n",
       "    }\n",
       "\n",
       "    .dataframe tbody tr th {\n",
       "        vertical-align: top;\n",
       "    }\n",
       "\n",
       "    .dataframe thead th {\n",
       "        text-align: right;\n",
       "    }\n",
       "</style>\n",
       "<table border=\"1\" class=\"dataframe\">\n",
       "  <thead>\n",
       "    <tr style=\"text-align: right;\">\n",
       "      <th></th>\n",
       "      <th>spin</th>\n",
       "      <th>table_size</th>\n",
       "      <th>fitted_data</th>\n",
       "    </tr>\n",
       "  </thead>\n",
       "  <tbody>\n",
       "    <tr>\n",
       "      <th>0</th>\n",
       "      <td>0.5</td>\n",
       "      <td>0.0128</td>\n",
       "      <td>0.004545</td>\n",
       "    </tr>\n",
       "    <tr>\n",
       "      <th>1</th>\n",
       "      <td>1.0</td>\n",
       "      <td>0.4095</td>\n",
       "      <td>0.526787</td>\n",
       "    </tr>\n",
       "    <tr>\n",
       "      <th>2</th>\n",
       "      <td>1.5</td>\n",
       "      <td>6.5500</td>\n",
       "      <td>8.492613</td>\n",
       "    </tr>\n",
       "    <tr>\n",
       "      <th>3</th>\n",
       "      <td>2.0</td>\n",
       "      <td>52.4200</td>\n",
       "      <td>61.053381</td>\n",
       "    </tr>\n",
       "    <tr>\n",
       "      <th>4</th>\n",
       "      <td>2.5</td>\n",
       "      <td>209.7100</td>\n",
       "      <td>281.963782</td>\n",
       "    </tr>\n",
       "    <tr>\n",
       "      <th>5</th>\n",
       "      <td>3.0</td>\n",
       "      <td>838.8600</td>\n",
       "      <td>984.273892</td>\n",
       "    </tr>\n",
       "    <tr>\n",
       "      <th>6</th>\n",
       "      <td>3.5</td>\n",
       "      <td>3350.0000</td>\n",
       "      <td>2832.373455</td>\n",
       "    </tr>\n",
       "    <tr>\n",
       "      <th>7</th>\n",
       "      <td>4.0</td>\n",
       "      <td>6710.0000</td>\n",
       "      <td>7075.943061</td>\n",
       "    </tr>\n",
       "  </tbody>\n",
       "</table>\n",
       "</div>"
      ],
      "text/plain": [
       "   spin  table_size  fitted_data\n",
       "0   0.5      0.0128     0.004545\n",
       "1   1.0      0.4095     0.526787\n",
       "2   1.5      6.5500     8.492613\n",
       "3   2.0     52.4200    61.053381\n",
       "4   2.5    209.7100   281.963782\n",
       "5   3.0    838.8600   984.273892\n",
       "6   3.5   3350.0000  2832.373455\n",
       "7   4.0   6710.0000  7075.943061"
      ]
     },
     "execution_count": 14,
     "metadata": {},
     "output_type": "execute_result"
    }
   ],
   "source": [
    "df"
   ]
  },
  {
   "cell_type": "code",
   "execution_count": 15,
   "id": "ba4bad51-a8b2-4e28-a575-103ae6e3d182",
   "metadata": {},
   "outputs": [],
   "source": [
    "from matplotlib.ticker import ScalarFormatter"
   ]
  },
  {
   "cell_type": "code",
   "execution_count": 16,
   "id": "78edd7ba-424e-473b-9fc8-00d75bd19cc0",
   "metadata": {},
   "outputs": [
    {
     "data": {
      "image/png": "[encoded data removed]",
      "text/plain": [
       "<Figure size 864x486 with 1 Axes>"
      ]
     },
     "metadata": {},
     "output_type": "display_data"
    }
   ],
   "source": [
    "ax = df.plot(x='spin', y='table_size', s=50, xticks = corresponding_spin, \n",
    "             kind='scatter', grid='false', color='tab:blue', label='size of computed table',\n",
    "             logy=True, logx=True, figsize=(12,6.75))\n",
    "df.plot(x='spin', y='fitted_data', ax=ax, kind='line', color='tab:orange', label='best polynomial fit')\n",
    "plt.ylabel(\"size (MB)\")\n",
    "plt.xlabel(\"boundary spin ($j$)\")\n",
    "plt.title('Hash table size')\n",
    "ax.xaxis.set_major_formatter(ScalarFormatter())\n",
    "\n",
    "\n",
    "plt.show()"
   ]
  },
  {
   "cell_type": "markdown",
   "id": "c7921e0b-4be8-4c1e-8194-e461e52f19d0",
   "metadata": {},
   "source": [
    "We conclude that the size of the 21j Wigner symbols roughly increases as: \n",
    "\n",
    "$$ \\text{Size(j)} \\approx j^{6.86} - 0.64$$"
   ]
  },
  {
   "cell_type": "code",
   "execution_count": null,
   "id": "79076db7-aa2e-484d-a429-082fa08b7452",
   "metadata": {},
   "outputs": [],
   "source": []
  },
  {
   "cell_type": "code",
   "execution_count": null,
   "id": "efeaf3a1-06e0-44b0-ad62-139022bd5a41",
   "metadata": {},
   "outputs": [],
   "source": []
  },
  {
   "cell_type": "code",
   "execution_count": null,
   "id": "064a34d9-52e5-4c08-a4f4-7ee83ba4cb44",
   "metadata": {},
   "outputs": [],
   "source": []
  },
  {
   "cell_type": "code",
   "execution_count": null,
   "id": "5ba2b06d-12b9-4bb8-a6e7-cfc8a1bd3831",
   "metadata": {},
   "outputs": [],
   "source": []
  },
  {
   "cell_type": "code",
   "execution_count": null,
   "id": "1fe08add-ca3e-4d15-ad94-e56d922af9cd",
   "metadata": {},
   "outputs": [],
   "source": []
  },
  {
   "cell_type": "code",
   "execution_count": null,
   "id": "be9c24a5-72a1-4f0d-be6c-df21d9d439f2",
   "metadata": {},
   "outputs": [],
   "source": []
  },
  {
   "cell_type": "code",
   "execution_count": null,
   "id": "b0a286df-11d4-4876-98dd-c39ea20b3e35",
   "metadata": {},
   "outputs": [],
   "source": []
  },
  {
   "cell_type": "code",
   "execution_count": null,
   "id": "9ac72780-571c-47a4-805d-2ce1e7bfd02f",
   "metadata": {},
   "outputs": [],
   "source": []
  },
  {
   "cell_type": "code",
   "execution_count": 1,
   "id": "716f1967-2aac-4148-80d9-9a82a4549a5b",
   "metadata": {},
   "outputs": [],
   "source": [
    "# Import packages\n",
    "import os\n",
    "\n",
    "import matplotlib.pyplot as plt\n",
    "import pandas as pd"
   ]
  },
  {
   "cell_type": "code",
   "execution_count": 15,
   "id": "c30302db",
   "metadata": {},
   "outputs": [
    {
     "name": "stderr",
     "output_type": "stream",
     "text": [
      "/tmp/ipykernel_6000/862961188.py:1: DtypeWarning: Columns (19,20) have mixed types. Specify dtype option on import or set low_memory=False.\n",
      "  df = pd.read_csv(\"/home/frisus95/Scrivania/Final_project/data_folder/collected_draws/j_1/N_1000000__sigma_0.38__burnin_10_chain_2.csv\")\n"
     ]
    }
   ],
   "source": [
    "df = pd.read_csv(\"/home/frisus95/Scrivania/Final_project/data_folder/collected_draws/j_1/N_1000000__sigma_0.38__burnin_10_chain_2.csv\")\n"
   ]
  },
  {
   "cell_type": "code",
   "execution_count": 16,
   "id": "9f76f66d",
   "metadata": {},
   "outputs": [
    {
     "data": {
      "text/html": [
       "<div>\n",
       "<style scoped>\n",
       "    .dataframe tbody tr th:only-of-type {\n",
       "        vertical-align: middle;\n",
       "    }\n",
       "\n",
       "    .dataframe tbody tr th {\n",
       "        vertical-align: top;\n",
       "    }\n",
       "\n",
       "    .dataframe thead th {\n",
       "        text-align: right;\n",
       "    }\n",
       "</style>\n",
       "<table border=\"1\" class=\"dataframe\">\n",
       "  <thead>\n",
       "    <tr style=\"text-align: right;\">\n",
       "      <th></th>\n",
       "      <th>intertwiner 1</th>\n",
       "      <th>intertwiner 2</th>\n",
       "      <th>intertwiner 3</th>\n",
       "      <th>intertwiner 4</th>\n",
       "      <th>intertwiner 5</th>\n",
       "      <th>intertwiner 6</th>\n",
       "      <th>intertwiner 7</th>\n",
       "      <th>intertwiner 8</th>\n",
       "      <th>intertwiner 9</th>\n",
       "      <th>intertwiner 10</th>\n",
       "      <th>...</th>\n",
       "      <th>intertwiner 12</th>\n",
       "      <th>intertwiner 13</th>\n",
       "      <th>intertwiner 14</th>\n",
       "      <th>intertwiner 15</th>\n",
       "      <th>intertwiner 16</th>\n",
       "      <th>draw multeplicity</th>\n",
       "      <th>draw amplitude</th>\n",
       "      <th>total accept. draws</th>\n",
       "      <th>total accept. rate</th>\n",
       "      <th>total run time</th>\n",
       "    </tr>\n",
       "  </thead>\n",
       "  <tbody>\n",
       "    <tr>\n",
       "      <th>0</th>\n",
       "      <td>0</td>\n",
       "      <td>0</td>\n",
       "      <td>2</td>\n",
       "      <td>2</td>\n",
       "      <td>2</td>\n",
       "      <td>2</td>\n",
       "      <td>1</td>\n",
       "      <td>0</td>\n",
       "      <td>0</td>\n",
       "      <td>1</td>\n",
       "      <td>...</td>\n",
       "      <td>0</td>\n",
       "      <td>1</td>\n",
       "      <td>1</td>\n",
       "      <td>1</td>\n",
       "      <td>0</td>\n",
       "      <td>9</td>\n",
       "      <td>1.031220e-06</td>\n",
       "      <td>204827.0</td>\n",
       "      <td>31%</td>\n",
       "      <td>43.5915 s</td>\n",
       "    </tr>\n",
       "    <tr>\n",
       "      <th>1</th>\n",
       "      <td>1</td>\n",
       "      <td>0</td>\n",
       "      <td>2</td>\n",
       "      <td>2</td>\n",
       "      <td>1</td>\n",
       "      <td>2</td>\n",
       "      <td>0</td>\n",
       "      <td>0</td>\n",
       "      <td>0</td>\n",
       "      <td>1</td>\n",
       "      <td>...</td>\n",
       "      <td>0</td>\n",
       "      <td>1</td>\n",
       "      <td>1</td>\n",
       "      <td>0</td>\n",
       "      <td>1</td>\n",
       "      <td>7</td>\n",
       "      <td>1.117630e-06</td>\n",
       "      <td>NaN</td>\n",
       "      <td>NaN</td>\n",
       "      <td>NaN</td>\n",
       "    </tr>\n",
       "    <tr>\n",
       "      <th>2</th>\n",
       "      <td>1</td>\n",
       "      <td>0</td>\n",
       "      <td>2</td>\n",
       "      <td>2</td>\n",
       "      <td>1</td>\n",
       "      <td>2</td>\n",
       "      <td>0</td>\n",
       "      <td>0</td>\n",
       "      <td>0</td>\n",
       "      <td>1</td>\n",
       "      <td>...</td>\n",
       "      <td>0</td>\n",
       "      <td>2</td>\n",
       "      <td>1</td>\n",
       "      <td>0</td>\n",
       "      <td>1</td>\n",
       "      <td>3</td>\n",
       "      <td>-2.597140e-06</td>\n",
       "      <td>NaN</td>\n",
       "      <td>NaN</td>\n",
       "      <td>NaN</td>\n",
       "    </tr>\n",
       "    <tr>\n",
       "      <th>3</th>\n",
       "      <td>1</td>\n",
       "      <td>0</td>\n",
       "      <td>2</td>\n",
       "      <td>2</td>\n",
       "      <td>1</td>\n",
       "      <td>2</td>\n",
       "      <td>0</td>\n",
       "      <td>0</td>\n",
       "      <td>0</td>\n",
       "      <td>0</td>\n",
       "      <td>...</td>\n",
       "      <td>0</td>\n",
       "      <td>2</td>\n",
       "      <td>0</td>\n",
       "      <td>0</td>\n",
       "      <td>1</td>\n",
       "      <td>15</td>\n",
       "      <td>-2.444370e-06</td>\n",
       "      <td>NaN</td>\n",
       "      <td>NaN</td>\n",
       "      <td>NaN</td>\n",
       "    </tr>\n",
       "    <tr>\n",
       "      <th>4</th>\n",
       "      <td>1</td>\n",
       "      <td>0</td>\n",
       "      <td>2</td>\n",
       "      <td>2</td>\n",
       "      <td>1</td>\n",
       "      <td>2</td>\n",
       "      <td>1</td>\n",
       "      <td>0</td>\n",
       "      <td>0</td>\n",
       "      <td>0</td>\n",
       "      <td>...</td>\n",
       "      <td>0</td>\n",
       "      <td>2</td>\n",
       "      <td>0</td>\n",
       "      <td>0</td>\n",
       "      <td>1</td>\n",
       "      <td>7</td>\n",
       "      <td>1.587660e-06</td>\n",
       "      <td>NaN</td>\n",
       "      <td>NaN</td>\n",
       "      <td>NaN</td>\n",
       "    </tr>\n",
       "    <tr>\n",
       "      <th>...</th>\n",
       "      <td>...</td>\n",
       "      <td>...</td>\n",
       "      <td>...</td>\n",
       "      <td>...</td>\n",
       "      <td>...</td>\n",
       "      <td>...</td>\n",
       "      <td>...</td>\n",
       "      <td>...</td>\n",
       "      <td>...</td>\n",
       "      <td>...</td>\n",
       "      <td>...</td>\n",
       "      <td>...</td>\n",
       "      <td>...</td>\n",
       "      <td>...</td>\n",
       "      <td>...</td>\n",
       "      <td>...</td>\n",
       "      <td>...</td>\n",
       "      <td>...</td>\n",
       "      <td>...</td>\n",
       "      <td>...</td>\n",
       "      <td>...</td>\n",
       "    </tr>\n",
       "    <tr>\n",
       "      <th>204822</th>\n",
       "      <td>1</td>\n",
       "      <td>1</td>\n",
       "      <td>2</td>\n",
       "      <td>1</td>\n",
       "      <td>1</td>\n",
       "      <td>0</td>\n",
       "      <td>2</td>\n",
       "      <td>0</td>\n",
       "      <td>2</td>\n",
       "      <td>0</td>\n",
       "      <td>...</td>\n",
       "      <td>2</td>\n",
       "      <td>2</td>\n",
       "      <td>0</td>\n",
       "      <td>0</td>\n",
       "      <td>1</td>\n",
       "      <td>7</td>\n",
       "      <td>3.552750e-07</td>\n",
       "      <td>NaN</td>\n",
       "      <td>NaN</td>\n",
       "      <td>NaN</td>\n",
       "    </tr>\n",
       "    <tr>\n",
       "      <th>204823</th>\n",
       "      <td>1</td>\n",
       "      <td>0</td>\n",
       "      <td>2</td>\n",
       "      <td>1</td>\n",
       "      <td>1</td>\n",
       "      <td>0</td>\n",
       "      <td>2</td>\n",
       "      <td>0</td>\n",
       "      <td>2</td>\n",
       "      <td>0</td>\n",
       "      <td>...</td>\n",
       "      <td>2</td>\n",
       "      <td>2</td>\n",
       "      <td>0</td>\n",
       "      <td>0</td>\n",
       "      <td>2</td>\n",
       "      <td>3</td>\n",
       "      <td>9.319160e-07</td>\n",
       "      <td>NaN</td>\n",
       "      <td>NaN</td>\n",
       "      <td>NaN</td>\n",
       "    </tr>\n",
       "    <tr>\n",
       "      <th>204824</th>\n",
       "      <td>1</td>\n",
       "      <td>0</td>\n",
       "      <td>2</td>\n",
       "      <td>1</td>\n",
       "      <td>0</td>\n",
       "      <td>0</td>\n",
       "      <td>2</td>\n",
       "      <td>0</td>\n",
       "      <td>2</td>\n",
       "      <td>0</td>\n",
       "      <td>...</td>\n",
       "      <td>2</td>\n",
       "      <td>1</td>\n",
       "      <td>0</td>\n",
       "      <td>0</td>\n",
       "      <td>2</td>\n",
       "      <td>7</td>\n",
       "      <td>6.832220e-07</td>\n",
       "      <td>NaN</td>\n",
       "      <td>NaN</td>\n",
       "      <td>NaN</td>\n",
       "    </tr>\n",
       "    <tr>\n",
       "      <th>204825</th>\n",
       "      <td>2</td>\n",
       "      <td>0</td>\n",
       "      <td>2</td>\n",
       "      <td>1</td>\n",
       "      <td>0</td>\n",
       "      <td>0</td>\n",
       "      <td>2</td>\n",
       "      <td>0</td>\n",
       "      <td>2</td>\n",
       "      <td>0</td>\n",
       "      <td>...</td>\n",
       "      <td>2</td>\n",
       "      <td>1</td>\n",
       "      <td>0</td>\n",
       "      <td>0</td>\n",
       "      <td>2</td>\n",
       "      <td>7</td>\n",
       "      <td>-4.116170e-07</td>\n",
       "      <td>NaN</td>\n",
       "      <td>NaN</td>\n",
       "      <td>NaN</td>\n",
       "    </tr>\n",
       "    <tr>\n",
       "      <th>204826</th>\n",
       "      <td>2</td>\n",
       "      <td>0</td>\n",
       "      <td>2</td>\n",
       "      <td>1</td>\n",
       "      <td>0</td>\n",
       "      <td>0</td>\n",
       "      <td>2</td>\n",
       "      <td>0</td>\n",
       "      <td>1</td>\n",
       "      <td>0</td>\n",
       "      <td>...</td>\n",
       "      <td>2</td>\n",
       "      <td>1</td>\n",
       "      <td>0</td>\n",
       "      <td>0</td>\n",
       "      <td>2</td>\n",
       "      <td>6</td>\n",
       "      <td>-6.832220e-07</td>\n",
       "      <td>NaN</td>\n",
       "      <td>NaN</td>\n",
       "      <td>NaN</td>\n",
       "    </tr>\n",
       "  </tbody>\n",
       "</table>\n",
       "<p>204827 rows × 21 columns</p>\n",
       "</div>"
      ],
      "text/plain": [
       "        intertwiner 1  intertwiner 2  intertwiner 3  intertwiner 4  \\\n",
       "0                   0              0              2              2   \n",
       "1                   1              0              2              2   \n",
       "2                   1              0              2              2   \n",
       "3                   1              0              2              2   \n",
       "4                   1              0              2              2   \n",
       "...               ...            ...            ...            ...   \n",
       "204822              1              1              2              1   \n",
       "204823              1              0              2              1   \n",
       "204824              1              0              2              1   \n",
       "204825              2              0              2              1   \n",
       "204826              2              0              2              1   \n",
       "\n",
       "        intertwiner 5  intertwiner 6  intertwiner 7  intertwiner 8  \\\n",
       "0                   2              2              1              0   \n",
       "1                   1              2              0              0   \n",
       "2                   1              2              0              0   \n",
       "3                   1              2              0              0   \n",
       "4                   1              2              1              0   \n",
       "...               ...            ...            ...            ...   \n",
       "204822              1              0              2              0   \n",
       "204823              1              0              2              0   \n",
       "204824              0              0              2              0   \n",
       "204825              0              0              2              0   \n",
       "204826              0              0              2              0   \n",
       "\n",
       "        intertwiner 9  intertwiner 10  ...  intertwiner 12  intertwiner 13  \\\n",
       "0                   0               1  ...               0               1   \n",
       "1                   0               1  ...               0               1   \n",
       "2                   0               1  ...               0               2   \n",
       "3                   0               0  ...               0               2   \n",
       "4                   0               0  ...               0               2   \n",
       "...               ...             ...  ...             ...             ...   \n",
       "204822              2               0  ...               2               2   \n",
       "204823              2               0  ...               2               2   \n",
       "204824              2               0  ...               2               1   \n",
       "204825              2               0  ...               2               1   \n",
       "204826              1               0  ...               2               1   \n",
       "\n",
       "        intertwiner 14  intertwiner 15  intertwiner 16  draw multeplicity  \\\n",
       "0                    1               1               0                  9   \n",
       "1                    1               0               1                  7   \n",
       "2                    1               0               1                  3   \n",
       "3                    0               0               1                 15   \n",
       "4                    0               0               1                  7   \n",
       "...                ...             ...             ...                ...   \n",
       "204822               0               0               1                  7   \n",
       "204823               0               0               2                  3   \n",
       "204824               0               0               2                  7   \n",
       "204825               0               0               2                  7   \n",
       "204826               0               0               2                  6   \n",
       "\n",
       "        draw amplitude  total accept. draws  total accept. rate total run time  \n",
       "0         1.031220e-06             204827.0                 31%      43.5915 s  \n",
       "1         1.117630e-06                  NaN                 NaN            NaN  \n",
       "2        -2.597140e-06                  NaN                 NaN            NaN  \n",
       "3        -2.444370e-06                  NaN                 NaN            NaN  \n",
       "4         1.587660e-06                  NaN                 NaN            NaN  \n",
       "...                ...                  ...                 ...            ...  \n",
       "204822    3.552750e-07                  NaN                 NaN            NaN  \n",
       "204823    9.319160e-07                  NaN                 NaN            NaN  \n",
       "204824    6.832220e-07                  NaN                 NaN            NaN  \n",
       "204825   -4.116170e-07                  NaN                 NaN            NaN  \n",
       "204826   -6.832220e-07                  NaN                 NaN            NaN  \n",
       "\n",
       "[204827 rows x 21 columns]"
      ]
     },
     "execution_count": 16,
     "metadata": {},
     "output_type": "execute_result"
    }
   ],
   "source": [
    "df"
   ]
  },
  {
   "cell_type": "code",
   "execution_count": null,
   "id": "7bfd1de3",
   "metadata": {},
   "outputs": [],
   "source": [
    "for i, j in df.iterrows():\n",
    "    print(i, j)\n",
    "    print()"
   ]
  },
  {
   "cell_type": "code",
   "execution_count": 17,
   "id": "cf65ec84-297c-46db-8c2c-7950c15facc0",
   "metadata": {},
   "outputs": [],
   "source": [
    "total_rows = len(df)"
   ]
  },
  {
   "cell_type": "code",
   "execution_count": 18,
   "id": "198ac153-d019-4f16-bae9-96bf2627b8a6",
   "metadata": {},
   "outputs": [
    {
     "data": {
      "text/plain": [
       "204827"
      ]
     },
     "execution_count": 18,
     "metadata": {},
     "output_type": "execute_result"
    }
   ],
   "source": [
    "total_rows"
   ]
  },
  {
   "cell_type": "code",
   "execution_count": 19,
   "id": "6224d83d",
   "metadata": {},
   "outputs": [],
   "source": [
    "columns = list(df)"
   ]
  },
  {
   "cell_type": "code",
   "execution_count": 20,
   "id": "7804c234",
   "metadata": {},
   "outputs": [
    {
     "data": {
      "text/plain": [
       "['intertwiner 1',\n",
       " 'intertwiner 2',\n",
       " 'intertwiner 3',\n",
       " 'intertwiner 4',\n",
       " 'intertwiner 5',\n",
       " 'intertwiner 6',\n",
       " 'intertwiner 7',\n",
       " 'intertwiner 8',\n",
       " 'intertwiner 9',\n",
       " 'intertwiner 10',\n",
       " 'intertwiner 11',\n",
       " 'intertwiner 12',\n",
       " 'intertwiner 13',\n",
       " 'intertwiner 14',\n",
       " 'intertwiner 15',\n",
       " 'intertwiner 16',\n",
       " 'draw multeplicity',\n",
       " 'draw amplitude',\n",
       " 'total accept. draws',\n",
       " 'total accept. rate',\n",
       " 'total run time']"
      ]
     },
     "execution_count": 20,
     "metadata": {},
     "output_type": "execute_result"
    }
   ],
   "source": [
    "columns"
   ]
  },
  {
   "cell_type": "code",
   "execution_count": 21,
   "id": "08d4f8c1-9674-4ee3-98ad-0790d5080528",
   "metadata": {},
   "outputs": [
    {
     "name": "stdout",
     "output_type": "stream",
     "text": [
      "1\n",
      "0\n",
      "2\n",
      "2\n",
      "1\n",
      "2\n",
      "0\n",
      "0\n",
      "0\n",
      "1\n",
      "0\n",
      "0\n",
      "1\n",
      "1\n",
      "0\n",
      "1\n",
      "7\n",
      "1.11763e-06\n",
      "nan\n",
      "nan\n",
      "nan\n"
     ]
    }
   ],
   "source": [
    "for i in columns:\n",
    "\n",
    "    # printing the third element of the column\n",
    "    print(df[i][1])\n"
   ]
  },
  {
   "cell_type": "code",
   "execution_count": 10,
   "id": "686b8d47-5681-40dd-8216-63d0f0c3f3b2",
   "metadata": {},
   "outputs": [
    {
     "data": {
      "text/plain": [
       "1"
      ]
     },
     "execution_count": 10,
     "metadata": {},
     "output_type": "execute_result"
    }
   ],
   "source": [
    "df['intertwiner 1'][10]"
   ]
  },
  {
   "cell_type": "code",
   "execution_count": 35,
   "id": "154af811-098a-4835-94f5-c01849ac0eb5",
   "metadata": {},
   "outputs": [],
   "source": [
    "angle = 0.0\n",
    "\n",
    "for i in range(total_rows):\n",
    "    angle += (((df['intertwiner 1'][i]) *\n",
    "               (df['intertwiner 1'][i] + 1) - 2 * 1 * (1 + 1)) /\n",
    "              (2 * 1 * (1 + 1))) * df['draw multeplicity'][i]\n"
   ]
  },
  {
   "cell_type": "code",
   "execution_count": 37,
   "id": "a6235d02-1657-42b0-b554-ec8f6c4823d7",
   "metadata": {},
   "outputs": [
    {
     "data": {
      "text/plain": [
       "-0.3263537635376354"
      ]
     },
     "execution_count": 37,
     "metadata": {},
     "output_type": "execute_result"
    }
   ],
   "source": [
    "angle / (1000000 - 10)\n"
   ]
  },
  {
   "cell_type": "code",
   "execution_count": 38,
   "id": "4b6d11de-09ea-4bf1-97b2-d04d393b6e51",
   "metadata": {},
   "outputs": [
    {
     "data": {
      "text/plain": [
       "'N_1000000__sigma_0.38__burnin_10_chain_1.csv'"
      ]
     },
     "execution_count": 38,
     "metadata": {},
     "output_type": "execute_result"
    }
   ],
   "source": [
    "\"N_1000000__sigma_0.38__burnin_10_chain_1.csv\""
   ]
  },
  {
   "cell_type": "code",
   "execution_count": 52,
   "id": "8358b785-7c95-42da-86c3-af1a52b593be",
   "metadata": {},
   "outputs": [],
   "source": [
    "prefix = \"troiazza/lezza\""
   ]
  },
  {
   "cell_type": "code",
   "execution_count": 44,
   "id": "cccfb4fb-3e57-4482-86e9-e55937eab05c",
   "metadata": {},
   "outputs": [
    {
     "data": {
      "text/plain": [
       "True"
      ]
     },
     "execution_count": 44,
     "metadata": {},
     "output_type": "execute_result"
    }
   ],
   "source": [
    "os.path.isfile(\"/home/frisus95/Scrivania/Final_project/data_folder/collected_draws/j_1/N_1000000__sigma_0.38__burnin_10_chain_1.csv\")"
   ]
  },
  {
   "cell_type": "code",
   "execution_count": 48,
   "id": "da98c1e1-27cc-4498-a60a-b7e4f050d160",
   "metadata": {},
   "outputs": [],
   "source": [
    "chain_id = 1"
   ]
  },
  {
   "cell_type": "code",
   "execution_count": 77,
   "id": "560ab763-e9db-445d-a99d-5a4e6b1ed5c6",
   "metadata": {},
   "outputs": [
    {
     "name": "stdout",
     "output_type": "stream",
     "text": [
      "troiazza/lezza/N_1000__sigma_0.4__burnin_10_chain_1.csv\n"
     ]
    }
   ],
   "source": [
    "stuff_in_string = f\"{prefix}/N_{length}__sigma_{sigma}__burnin_{burnin}_chain_{chain_id}.csv\"\n",
    "print(stuff_in_string)"
   ]
  },
  {
   "cell_type": "code",
   "execution_count": 103,
   "id": "59359a7e-49b6-439b-b24e-5ba201ecba2f",
   "metadata": {},
   "outputs": [
    {
     "name": "stderr",
     "output_type": "stream",
     "text": [
      "/tmp/ipykernel_6000/1910235401.py:2: UserWarning: Warning..........Message\n",
      "  warnings.warn(f\"Warning..........Message\")\n"
     ]
    }
   ],
   "source": [
    "import warnings\n",
    "warnings.warn(f\"Warning..........Message\")"
   ]
  },
  {
   "cell_type": "code",
   "execution_count": 115,
   "id": "bc23c29c-67ce-4671-b7f6-68790f76a2c0",
   "metadata": {},
   "outputs": [],
   "source": [
    "import warnings\n",
    "\n",
    "def custom_formatwarning(msg, *args, **kwargs):\n",
    "    # ignore everything except the message\n",
    "    return str(msg) + '\\n'\n",
    "\n",
    "warnings.formatwarning = custom_formatwarning"
   ]
  },
  {
   "cell_type": "code",
   "execution_count": 118,
   "id": "09aeb686-215c-4ba6-8c72-024fbf51e0d6",
   "metadata": {},
   "outputs": [],
   "source": [
    "def funza(draws_folder, spin, length, sigma, burnin, number_of_chains_to_process):\n",
    "    for chain_id in range(1,number_of_chains_to_process+1):\n",
    "      stringa = f\"{draws_folder}/j_{spin}/N_{length}__sigma_{sigma}__burnin_{burnin}_chain_{chain_id}.csv\"\n",
    "      if (os.path.isfile(stringa)):\n",
    "        print(f\"esiste per chain_id {chain_id}\")\n",
    "      else:\n",
    "        warnings.warn(\"Warning: chain id %d not found\" % (chain_id))"
   ]
  },
  {
   "cell_type": "code",
   "execution_count": 119,
   "id": "01f5ea6d-5439-4ee5-a682-e20917459ffd",
   "metadata": {},
   "outputs": [
    {
     "name": "stdout",
     "output_type": "stream",
     "text": [
      "esiste per chain_id 1\n"
     ]
    }
   ],
   "source": [
    "funza(draws_path, spin, length, sigma, burnin, 1)"
   ]
  },
  {
   "cell_type": "code",
   "execution_count": 120,
   "id": "bb363004-4b30-49aa-8afa-de670c922e5d",
   "metadata": {},
   "outputs": [],
   "source": [
    "def gunza(csv_file_path, spin):\n",
    "    df = pd.read_csv(csv_file_path)"
   ]
  },
  {
   "cell_type": "code",
   "execution_count": 121,
   "id": "d44187c6-ce2f-47b3-b4f5-5fa2ed8a0cc9",
   "metadata": {},
   "outputs": [
    {
     "name": "stderr",
     "output_type": "stream",
     "text": [
      "Columns (19,20) have mixed types. Specify dtype option on import or set low_memory=False.\n"
     ]
    },
    {
     "data": {
      "text/html": [
       "<div>\n",
       "<style scoped>\n",
       "    .dataframe tbody tr th:only-of-type {\n",
       "        vertical-align: middle;\n",
       "    }\n",
       "\n",
       "    .dataframe tbody tr th {\n",
       "        vertical-align: top;\n",
       "    }\n",
       "\n",
       "    .dataframe thead th {\n",
       "        text-align: right;\n",
       "    }\n",
       "</style>\n",
       "<table border=\"1\" class=\"dataframe\">\n",
       "  <thead>\n",
       "    <tr style=\"text-align: right;\">\n",
       "      <th></th>\n",
       "      <th>intertwiner 1</th>\n",
       "      <th>intertwiner 2</th>\n",
       "      <th>intertwiner 3</th>\n",
       "      <th>intertwiner 4</th>\n",
       "      <th>intertwiner 5</th>\n",
       "      <th>intertwiner 6</th>\n",
       "      <th>intertwiner 7</th>\n",
       "      <th>intertwiner 8</th>\n",
       "      <th>intertwiner 9</th>\n",
       "      <th>intertwiner 10</th>\n",
       "      <th>...</th>\n",
       "      <th>intertwiner 12</th>\n",
       "      <th>intertwiner 13</th>\n",
       "      <th>intertwiner 14</th>\n",
       "      <th>intertwiner 15</th>\n",
       "      <th>intertwiner 16</th>\n",
       "      <th>draw multeplicity</th>\n",
       "      <th>draw amplitude</th>\n",
       "      <th>total accept. draws</th>\n",
       "      <th>total accept. rate</th>\n",
       "      <th>total run time</th>\n",
       "    </tr>\n",
       "  </thead>\n",
       "  <tbody>\n",
       "    <tr>\n",
       "      <th>0</th>\n",
       "      <td>0</td>\n",
       "      <td>0</td>\n",
       "      <td>2</td>\n",
       "      <td>2</td>\n",
       "      <td>2</td>\n",
       "      <td>2</td>\n",
       "      <td>1</td>\n",
       "      <td>0</td>\n",
       "      <td>0</td>\n",
       "      <td>1</td>\n",
       "      <td>...</td>\n",
       "      <td>0</td>\n",
       "      <td>1</td>\n",
       "      <td>1</td>\n",
       "      <td>1</td>\n",
       "      <td>0</td>\n",
       "      <td>9</td>\n",
       "      <td>1.031220e-06</td>\n",
       "      <td>204827.0</td>\n",
       "      <td>31%</td>\n",
       "      <td>44.45 s</td>\n",
       "    </tr>\n",
       "    <tr>\n",
       "      <th>1</th>\n",
       "      <td>1</td>\n",
       "      <td>0</td>\n",
       "      <td>2</td>\n",
       "      <td>2</td>\n",
       "      <td>1</td>\n",
       "      <td>2</td>\n",
       "      <td>0</td>\n",
       "      <td>0</td>\n",
       "      <td>0</td>\n",
       "      <td>1</td>\n",
       "      <td>...</td>\n",
       "      <td>0</td>\n",
       "      <td>1</td>\n",
       "      <td>1</td>\n",
       "      <td>0</td>\n",
       "      <td>1</td>\n",
       "      <td>7</td>\n",
       "      <td>1.117630e-06</td>\n",
       "      <td>NaN</td>\n",
       "      <td>NaN</td>\n",
       "      <td>NaN</td>\n",
       "    </tr>\n",
       "    <tr>\n",
       "      <th>2</th>\n",
       "      <td>1</td>\n",
       "      <td>0</td>\n",
       "      <td>2</td>\n",
       "      <td>2</td>\n",
       "      <td>1</td>\n",
       "      <td>2</td>\n",
       "      <td>0</td>\n",
       "      <td>0</td>\n",
       "      <td>0</td>\n",
       "      <td>1</td>\n",
       "      <td>...</td>\n",
       "      <td>0</td>\n",
       "      <td>2</td>\n",
       "      <td>1</td>\n",
       "      <td>0</td>\n",
       "      <td>1</td>\n",
       "      <td>3</td>\n",
       "      <td>-2.597140e-06</td>\n",
       "      <td>NaN</td>\n",
       "      <td>NaN</td>\n",
       "      <td>NaN</td>\n",
       "    </tr>\n",
       "    <tr>\n",
       "      <th>3</th>\n",
       "      <td>1</td>\n",
       "      <td>0</td>\n",
       "      <td>2</td>\n",
       "      <td>2</td>\n",
       "      <td>1</td>\n",
       "      <td>2</td>\n",
       "      <td>0</td>\n",
       "      <td>0</td>\n",
       "      <td>0</td>\n",
       "      <td>0</td>\n",
       "      <td>...</td>\n",
       "      <td>0</td>\n",
       "      <td>2</td>\n",
       "      <td>0</td>\n",
       "      <td>0</td>\n",
       "      <td>1</td>\n",
       "      <td>15</td>\n",
       "      <td>-2.444370e-06</td>\n",
       "      <td>NaN</td>\n",
       "      <td>NaN</td>\n",
       "      <td>NaN</td>\n",
       "    </tr>\n",
       "    <tr>\n",
       "      <th>4</th>\n",
       "      <td>1</td>\n",
       "      <td>0</td>\n",
       "      <td>2</td>\n",
       "      <td>2</td>\n",
       "      <td>1</td>\n",
       "      <td>2</td>\n",
       "      <td>1</td>\n",
       "      <td>0</td>\n",
       "      <td>0</td>\n",
       "      <td>0</td>\n",
       "      <td>...</td>\n",
       "      <td>0</td>\n",
       "      <td>2</td>\n",
       "      <td>0</td>\n",
       "      <td>0</td>\n",
       "      <td>1</td>\n",
       "      <td>7</td>\n",
       "      <td>1.587660e-06</td>\n",
       "      <td>NaN</td>\n",
       "      <td>NaN</td>\n",
       "      <td>NaN</td>\n",
       "    </tr>\n",
       "    <tr>\n",
       "      <th>...</th>\n",
       "      <td>...</td>\n",
       "      <td>...</td>\n",
       "      <td>...</td>\n",
       "      <td>...</td>\n",
       "      <td>...</td>\n",
       "      <td>...</td>\n",
       "      <td>...</td>\n",
       "      <td>...</td>\n",
       "      <td>...</td>\n",
       "      <td>...</td>\n",
       "      <td>...</td>\n",
       "      <td>...</td>\n",
       "      <td>...</td>\n",
       "      <td>...</td>\n",
       "      <td>...</td>\n",
       "      <td>...</td>\n",
       "      <td>...</td>\n",
       "      <td>...</td>\n",
       "      <td>...</td>\n",
       "      <td>...</td>\n",
       "      <td>...</td>\n",
       "    </tr>\n",
       "    <tr>\n",
       "      <th>204822</th>\n",
       "      <td>1</td>\n",
       "      <td>1</td>\n",
       "      <td>2</td>\n",
       "      <td>1</td>\n",
       "      <td>1</td>\n",
       "      <td>0</td>\n",
       "      <td>2</td>\n",
       "      <td>0</td>\n",
       "      <td>2</td>\n",
       "      <td>0</td>\n",
       "      <td>...</td>\n",
       "      <td>2</td>\n",
       "      <td>2</td>\n",
       "      <td>0</td>\n",
       "      <td>0</td>\n",
       "      <td>1</td>\n",
       "      <td>7</td>\n",
       "      <td>3.552750e-07</td>\n",
       "      <td>NaN</td>\n",
       "      <td>NaN</td>\n",
       "      <td>NaN</td>\n",
       "    </tr>\n",
       "    <tr>\n",
       "      <th>204823</th>\n",
       "      <td>1</td>\n",
       "      <td>0</td>\n",
       "      <td>2</td>\n",
       "      <td>1</td>\n",
       "      <td>1</td>\n",
       "      <td>0</td>\n",
       "      <td>2</td>\n",
       "      <td>0</td>\n",
       "      <td>2</td>\n",
       "      <td>0</td>\n",
       "      <td>...</td>\n",
       "      <td>2</td>\n",
       "      <td>2</td>\n",
       "      <td>0</td>\n",
       "      <td>0</td>\n",
       "      <td>2</td>\n",
       "      <td>3</td>\n",
       "      <td>9.319160e-07</td>\n",
       "      <td>NaN</td>\n",
       "      <td>NaN</td>\n",
       "      <td>NaN</td>\n",
       "    </tr>\n",
       "    <tr>\n",
       "      <th>204824</th>\n",
       "      <td>1</td>\n",
       "      <td>0</td>\n",
       "      <td>2</td>\n",
       "      <td>1</td>\n",
       "      <td>0</td>\n",
       "      <td>0</td>\n",
       "      <td>2</td>\n",
       "      <td>0</td>\n",
       "      <td>2</td>\n",
       "      <td>0</td>\n",
       "      <td>...</td>\n",
       "      <td>2</td>\n",
       "      <td>1</td>\n",
       "      <td>0</td>\n",
       "      <td>0</td>\n",
       "      <td>2</td>\n",
       "      <td>7</td>\n",
       "      <td>6.832220e-07</td>\n",
       "      <td>NaN</td>\n",
       "      <td>NaN</td>\n",
       "      <td>NaN</td>\n",
       "    </tr>\n",
       "    <tr>\n",
       "      <th>204825</th>\n",
       "      <td>2</td>\n",
       "      <td>0</td>\n",
       "      <td>2</td>\n",
       "      <td>1</td>\n",
       "      <td>0</td>\n",
       "      <td>0</td>\n",
       "      <td>2</td>\n",
       "      <td>0</td>\n",
       "      <td>2</td>\n",
       "      <td>0</td>\n",
       "      <td>...</td>\n",
       "      <td>2</td>\n",
       "      <td>1</td>\n",
       "      <td>0</td>\n",
       "      <td>0</td>\n",
       "      <td>2</td>\n",
       "      <td>7</td>\n",
       "      <td>-4.116170e-07</td>\n",
       "      <td>NaN</td>\n",
       "      <td>NaN</td>\n",
       "      <td>NaN</td>\n",
       "    </tr>\n",
       "    <tr>\n",
       "      <th>204826</th>\n",
       "      <td>2</td>\n",
       "      <td>0</td>\n",
       "      <td>2</td>\n",
       "      <td>1</td>\n",
       "      <td>0</td>\n",
       "      <td>0</td>\n",
       "      <td>2</td>\n",
       "      <td>0</td>\n",
       "      <td>1</td>\n",
       "      <td>0</td>\n",
       "      <td>...</td>\n",
       "      <td>2</td>\n",
       "      <td>1</td>\n",
       "      <td>0</td>\n",
       "      <td>0</td>\n",
       "      <td>2</td>\n",
       "      <td>6</td>\n",
       "      <td>-6.832220e-07</td>\n",
       "      <td>NaN</td>\n",
       "      <td>NaN</td>\n",
       "      <td>NaN</td>\n",
       "    </tr>\n",
       "  </tbody>\n",
       "</table>\n",
       "<p>204827 rows × 21 columns</p>\n",
       "</div>"
      ],
      "text/plain": [
       "        intertwiner 1  intertwiner 2  intertwiner 3  intertwiner 4  \\\n",
       "0                   0              0              2              2   \n",
       "1                   1              0              2              2   \n",
       "2                   1              0              2              2   \n",
       "3                   1              0              2              2   \n",
       "4                   1              0              2              2   \n",
       "...               ...            ...            ...            ...   \n",
       "204822              1              1              2              1   \n",
       "204823              1              0              2              1   \n",
       "204824              1              0              2              1   \n",
       "204825              2              0              2              1   \n",
       "204826              2              0              2              1   \n",
       "\n",
       "        intertwiner 5  intertwiner 6  intertwiner 7  intertwiner 8  \\\n",
       "0                   2              2              1              0   \n",
       "1                   1              2              0              0   \n",
       "2                   1              2              0              0   \n",
       "3                   1              2              0              0   \n",
       "4                   1              2              1              0   \n",
       "...               ...            ...            ...            ...   \n",
       "204822              1              0              2              0   \n",
       "204823              1              0              2              0   \n",
       "204824              0              0              2              0   \n",
       "204825              0              0              2              0   \n",
       "204826              0              0              2              0   \n",
       "\n",
       "        intertwiner 9  intertwiner 10  ...  intertwiner 12  intertwiner 13  \\\n",
       "0                   0               1  ...               0               1   \n",
       "1                   0               1  ...               0               1   \n",
       "2                   0               1  ...               0               2   \n",
       "3                   0               0  ...               0               2   \n",
       "4                   0               0  ...               0               2   \n",
       "...               ...             ...  ...             ...             ...   \n",
       "204822              2               0  ...               2               2   \n",
       "204823              2               0  ...               2               2   \n",
       "204824              2               0  ...               2               1   \n",
       "204825              2               0  ...               2               1   \n",
       "204826              1               0  ...               2               1   \n",
       "\n",
       "        intertwiner 14  intertwiner 15  intertwiner 16  draw multeplicity  \\\n",
       "0                    1               1               0                  9   \n",
       "1                    1               0               1                  7   \n",
       "2                    1               0               1                  3   \n",
       "3                    0               0               1                 15   \n",
       "4                    0               0               1                  7   \n",
       "...                ...             ...             ...                ...   \n",
       "204822               0               0               1                  7   \n",
       "204823               0               0               2                  3   \n",
       "204824               0               0               2                  7   \n",
       "204825               0               0               2                  7   \n",
       "204826               0               0               2                  6   \n",
       "\n",
       "        draw amplitude  total accept. draws  total accept. rate total run time  \n",
       "0         1.031220e-06             204827.0                 31%        44.45 s  \n",
       "1         1.117630e-06                  NaN                 NaN            NaN  \n",
       "2        -2.597140e-06                  NaN                 NaN            NaN  \n",
       "3        -2.444370e-06                  NaN                 NaN            NaN  \n",
       "4         1.587660e-06                  NaN                 NaN            NaN  \n",
       "...                ...                  ...                 ...            ...  \n",
       "204822    3.552750e-07                  NaN                 NaN            NaN  \n",
       "204823    9.319160e-07                  NaN                 NaN            NaN  \n",
       "204824    6.832220e-07                  NaN                 NaN            NaN  \n",
       "204825   -4.116170e-07                  NaN                 NaN            NaN  \n",
       "204826   -6.832220e-07                  NaN                 NaN            NaN  \n",
       "\n",
       "[204827 rows x 21 columns]"
      ]
     },
     "execution_count": 121,
     "metadata": {},
     "output_type": "execute_result"
    }
   ],
   "source": [
    "pd.read_csv(\"/home/frisus95/Scrivania/Final_project/data_folder/collected_draws/j_1/N_1000000__sigma_0.38__burnin_10_chain_1.csv\")"
   ]
  },
  {
   "cell_type": "code",
   "execution_count": 163,
   "id": "083c71a1-da44-43dc-b0b8-3ae928adfb1b",
   "metadata": {},
   "outputs": [],
   "source": [
    "import numpy as np\n",
    "import timeit "
   ]
  },
  {
   "cell_type": "code",
   "execution_count": 122,
   "id": "0d42b2cf-502f-42a7-96f7-527724fc63ac",
   "metadata": {},
   "outputs": [],
   "source": [
    "total_rows = len(df)\n",
    "columns = list(df)"
   ]
  },
  {
   "cell_type": "code",
   "execution_count": 167,
   "id": "36f59de2-474e-49ff-9312-b770493a91b3",
   "metadata": {},
   "outputs": [
    {
     "name": "stdout",
     "output_type": "stream",
     "text": [
      "Time Elapsed:  26.526599407196045\n"
     ]
    }
   ],
   "source": [
    "angles_array = np.zeros((16, total_rows))\n",
    "\n",
    "import time \n",
    "\n",
    "tic = time.time()\n",
    "\n",
    "for j in range(0,16):\n",
    "  for i in range(total_rows):\n",
    "    intertwiner = df[f'intertwiner {j+1}'][i] \n",
    "    multeplicity = df['draw multeplicity'][i]\n",
    "    angles_array[j,i] += ((intertwiner*(intertwiner + 1) - 2*spin*(spin + 1))/(2*spin*(spin + 1)))*multeplicity\n",
    "\n",
    "toc = time.time()\n",
    "\n",
    "print(\"Time Elapsed: \", toc - tic)\n"
   ]
  },
  {
   "cell_type": "code",
   "execution_count": 158,
   "id": "798e3161-6c9b-40da-91e3-f55f86340a87",
   "metadata": {},
   "outputs": [
    {
     "data": {
      "text/plain": [
       "array([ -9.        ,  -5.83333333,  -2.5       , -12.5       ,\n",
       "        -5.83333333,  -5.        ,  -6.66666667,  -0.83333333,\n",
       "        -0.83333333, -13.33333333, -22.5       , -14.16666667,\n",
       "        -9.16666667,  -3.33333333,  -4.        ,  -1.        ,\n",
       "        -1.        ,  -1.        ,  -7.        ,  -1.        ,\n",
       "        -8.        ,  -2.        ,  -5.        ,  -3.        ,\n",
       "        -4.        , -11.        ,  -4.        ,  -2.        ,\n",
       "        -8.        ,  -4.        ,  -9.        ,  -7.        ,\n",
       "        -1.        ,  -4.        ,  -1.        , -11.        ,\n",
       "        -3.        , -10.        ,  -3.        ,  -3.        ,\n",
       "        -5.        ,  -1.        , -13.        ,  -4.        ,\n",
       "        -9.        , -10.        ,  -3.        ,  -2.        ,\n",
       "        -6.        ,  -3.        ,  -6.        ,  -1.        ,\n",
       "        -1.        ,  -2.        , -24.        , -16.        ,\n",
       "        -1.        ,  -5.        ,  -5.        ,  -5.        ,\n",
       "       -22.        ,  -8.        ,  -6.        ,  -1.        ,\n",
       "        -2.        ,  -2.        ,  -2.        ,  -7.        ,\n",
       "        -6.        ,  -4.        ,  -6.        ,  -1.        ,\n",
       "        -2.        ,  -0.83333333,  -0.83333333,  -5.        ,\n",
       "        -3.33333333,  -4.16666667,  -1.66666667,  -0.83333333,\n",
       "        -2.        ,  -2.        ,  -3.        ,  -4.        ,\n",
       "       -32.        , -13.        ,  -6.        ,  -1.        ,\n",
       "        -3.        ,  -5.        ,  -2.        ,  -1.        ,\n",
       "       -13.        ,  -0.83333333,  -5.        ,  -6.66666667,\n",
       "       -28.33333333,  -2.5       , -14.16666667,  -7.        ])"
      ]
     },
     "execution_count": 158,
     "metadata": {},
     "output_type": "execute_result"
    }
   ],
   "source": [
    "angles_array[0,0:100]"
   ]
  },
  {
   "cell_type": "code",
   "execution_count": 159,
   "id": "c777c963-5502-482a-accc-78dac78bd29b",
   "metadata": {},
   "outputs": [],
   "source": [
    "angles_array = np.zeros((10, 10))"
   ]
  },
  {
   "cell_type": "code",
   "execution_count": 160,
   "id": "06f39eec-9d95-4d2d-a2da-932fa5262ce4",
   "metadata": {},
   "outputs": [
    {
     "data": {
      "text/plain": [
       "array([[0., 0., 0., 0., 0., 0., 0., 0., 0., 0.],\n",
       "       [0., 0., 0., 0., 0., 0., 0., 0., 0., 0.],\n",
       "       [0., 0., 0., 0., 0., 0., 0., 0., 0., 0.],\n",
       "       [0., 0., 0., 0., 0., 0., 0., 0., 0., 0.],\n",
       "       [0., 0., 0., 0., 0., 0., 0., 0., 0., 0.],\n",
       "       [0., 0., 0., 0., 0., 0., 0., 0., 0., 0.],\n",
       "       [0., 0., 0., 0., 0., 0., 0., 0., 0., 0.],\n",
       "       [0., 0., 0., 0., 0., 0., 0., 0., 0., 0.],\n",
       "       [0., 0., 0., 0., 0., 0., 0., 0., 0., 0.],\n",
       "       [0., 0., 0., 0., 0., 0., 0., 0., 0., 0.]])"
      ]
     },
     "execution_count": 160,
     "metadata": {},
     "output_type": "execute_result"
    }
   ],
   "source": [
    "angles_array"
   ]
  },
  {
   "cell_type": "code",
   "execution_count": 148,
   "id": "3caa6ee7-3559-45be-b6e1-69a6e30956f3",
   "metadata": {},
   "outputs": [
    {
     "data": {
      "text/plain": [
       "0.0"
      ]
     },
     "execution_count": 148,
     "metadata": {},
     "output_type": "execute_result"
    }
   ],
   "source": [
    "angles_array[0,0]"
   ]
  },
  {
   "cell_type": "code",
   "execution_count": null,
   "id": "33da3e1f-a1de-4fc5-b41b-7d3e2cb59888",
   "metadata": {},
   "outputs": [],
   "source": []
  }
 ],
 "metadata": {
  "kernelspec": {
   "display_name": "Python 3 (ipykernel)",
   "language": "python",
   "name": "python3"
  },
  "language_info": {
   "codemirror_mode": {
    "name": "ipython",
    "version": 3
   },
   "file_extension": ".py",
   "mimetype": "text/x-python",
   "name": "python",
   "nbconvert_exporter": "python",
   "pygments_lexer": "ipython3",
   "version": "3.9.7"
  }
 },
 "nbformat": 4,
 "nbformat_minor": 5
}
